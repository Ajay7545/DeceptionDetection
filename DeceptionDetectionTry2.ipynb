{
  "nbformat": 4,
  "nbformat_minor": 0,
  "metadata": {
    "colab": {
      "name": "DeceptionDetectionTry2.ipynb",
      "provenance": [],
      "include_colab_link": true
    },
    "kernelspec": {
      "name": "python3",
      "display_name": "Python 3"
    }
  },
  "cells": [
    {
      "cell_type": "markdown",
      "metadata": {
        "id": "view-in-github",
        "colab_type": "text"
      },
      "source": [
        "<a href=\"https://colab.research.google.com/github/Ajay7545/DeceptionDetection/blob/master/DeceptionDetectionTry2.ipynb\" target=\"_parent\"><img src=\"https://colab.research.google.com/assets/colab-badge.svg\" alt=\"Open In Colab\"/></a>"
      ]
    },
    {
      "cell_type": "code",
      "metadata": {
        "id": "An9UyzPDBJSc",
        "colab_type": "code",
        "outputId": "99e7d06c-2920-4a37-c87e-13941b1b5bfd",
        "colab": {
          "base_uri": "https://localhost:8080/",
          "height": 35
        }
      },
      "source": [
        "import time\n",
        "import numpy as np\n",
        "import os\n",
        "from keras import layers, models, callbacks, regularizers, optimizers\n",
        "from keras.layers import advanced_activations\n",
        "import tensorflow as tf\n",
        "import numpy as np\n",
        "import matplotlib.pyplot as plt\n",
        "import pandas as pd\n",
        "from sklearn.svm import LinearSVC\n",
        "from sklearn.metrics import classification_report\n",
        "from sklearn.preprocessing import MinMaxScaler as ms\n",
        "import pandas as pd\n",
        "import numpy as np\n",
        "import numpy\n",
        "import csv\n",
        "import pandas as pd\n",
        "import matplotlib.pyplot as plt\n",
        "import numpy\n",
        "import matplotlib.pyplot as plt\n",
        "import os\n",
        "import glob\n",
        "import datetime as dt\n",
        "\n",
        "from datetime import timedelta\n",
        "import numpy\n",
        "import matplotlib.pyplot as plt\n",
        "from pandas import read_csv\n",
        "import pandas as pd\n",
        "import math\n",
        "from keras.callbacks import Callback\n",
        "from keras.optimizers import adagrad, adam\n",
        "from IPython.display import clear_output\n",
        "from keras.models import Sequential\n",
        "from keras.layers import Dense\n",
        "from keras.layers import LSTM\n",
        "from sklearn.preprocessing import MinMaxScaler\n",
        "from sklearn.metrics import mean_squared_error\n",
        "from sklearn.model_selection import cross_val_score\n",
        "from sklearn.model_selection import train_test_split\n",
        "from sklearn import preprocessing\n",
        "from sklearn.preprocessing import StandardScaler\n",
        "from sklearn.model_selection import StratifiedShuffleSplit\n",
        "from sklearn.ensemble import RandomForestClassifier\n",
        "from sklearn.datasets import make_classification\n",
        "from sklearn.metrics import confusion_matrix\n",
        "from sklearn.metrics import accuracy_score"
      ],
      "execution_count": 1,
      "outputs": [
        {
          "output_type": "stream",
          "text": [
            "Using TensorFlow backend.\n"
          ],
          "name": "stderr"
        }
      ]
    },
    {
      "cell_type": "markdown",
      "metadata": {
        "id": "BH0NNaPoVCZa",
        "colab_type": "text"
      },
      "source": [
        ""
      ]
    },
    {
      "cell_type": "code",
      "metadata": {
        "id": "BD1VuKlcBVLi",
        "colab_type": "code",
        "colab": {}
      },
      "source": [
        ""
      ],
      "execution_count": 0,
      "outputs": []
    },
    {
      "cell_type": "code",
      "metadata": {
        "id": "Lmvw2q7mBZVN",
        "colab_type": "code",
        "outputId": "5d650d4a-e8ae-4c74-97d0-f5e8d03ade93",
        "colab": {
          "base_uri": "https://localhost:8080/",
          "height": 128
        }
      },
      "source": [
        "from google.colab import drive\n",
        "drive.mount('/content/drive')"
      ],
      "execution_count": 2,
      "outputs": [
        {
          "output_type": "stream",
          "text": [
            "Go to this URL in a browser: https://accounts.google.com/o/oauth2/auth?client_id=947318989803-6bn6qk8qdgf4n4g3pfee6491hc0brc4i.apps.googleusercontent.com&redirect_uri=urn%3Aietf%3Awg%3Aoauth%3A2.0%3Aoob&scope=email%20https%3A%2F%2Fwww.googleapis.com%2Fauth%2Fdocs.test%20https%3A%2F%2Fwww.googleapis.com%2Fauth%2Fdrive%20https%3A%2F%2Fwww.googleapis.com%2Fauth%2Fdrive.photos.readonly%20https%3A%2F%2Fwww.googleapis.com%2Fauth%2Fpeopleapi.readonly&response_type=code\n",
            "\n",
            "Enter your authorization code:\n",
            "··········\n",
            "Mounted at /content/drive\n"
          ],
          "name": "stdout"
        }
      ]
    },
    {
      "cell_type": "code",
      "metadata": {
        "id": "calhh_z2BZwr",
        "colab_type": "code",
        "outputId": "c1dc9c4e-4e78-41cd-fd09-fc30910a8048",
        "colab": {
          "base_uri": "https://localhost:8080/",
          "height": 183
        }
      },
      "source": [
        "#df1=pd.read_csv(\"/content/drive/My Drive/COLAB Files/ddata/alwyn_combine_1.csv\")\n",
        "df2=pd.read_csv(\"/content/drive/My Drive/COLAB Files/ddata/alwyn_fam_1_filt_13.csv\")\n",
        "df3=pd.read_csv(\"/content/drive/My Drive/COLAB Files/ddata/alwyn_non_1_filt_13.csv\")\n",
        "data1=df2.append(df3)\n",
        "#df4=pd.read_csv(\"/content/drive/My Drive/COLAB Files/ddata/deepak_combine_1.csv\")\n",
        "df5=pd.read_csv(\"/content/drive/My Drive/COLAB Files/ddata/deepak_fam_1_filt_13.csv\")\n",
        "df6=pd.read_csv(\"/content/drive/My Drive/COLAB Files/ddata/deepak_non_1_filt_13.csv\")\n",
        "data2=df5.append(df6)\n",
        "#df7=pd.read_csv(\"/content/drive/My Drive/COLAB Files/ddata/deepak_test_1.csv\")\n",
        "\n",
        "#df8=pd.read_csv(\"/content/drive/My Drive/COLAB Files/ddata/main_combine_1.csv\")\n",
        "#df9=pd.read_csv(\"/content/drive/My Drive/COLAB Files/ddata/main_combine_ica.csv\")\n",
        "#df10=pd.read_csv(\"/content/drive/My Drive/COLAB Files/ddata/main_nn_1.csv\")\n",
        "\n",
        "#df11=pd.read_csv(\"/content/drive/My Drive/COLAB Files/ddata/main_test_1.csv\")\n",
        "#df12=pd.read_csv(\"/content/drive/My Drive/COLAB Files/ddata/main_test_ica.csv\")\n",
        "df13=pd.read_csv(\"/content/drive/My Drive/COLAB Files/ddata/murli_fam_2_filt_13.csv\")\n",
        "df14=pd.read_csv(\"/content/drive/My Drive/COLAB Files/ddata/murli_non_1_filt_13.csv\")\n",
        "data3=df13.append(df14)\n",
        "#df15=pd.read_csv(\"/content/drive/My Drive/COLAB Files/ddata/neeraj_combine_1.csv\")\n",
        "df16=pd.read_csv(\"/content/drive/My Drive/COLAB Files/ddata/neeraj_fam_1_filt_13.csv\")\n",
        "df17=pd.read_csv(\"/content/drive/My Drive/COLAB Files/ddata/neeraj_non_2_filt_13.csv\")\n",
        "data4=df16.append(df17)\n",
        "#df18=pd.read_csv(\"/content/drive/My Drive/COLAB Files/ddata/neeraj_test_1.csv\")\n",
        "#df19=pd.read_csv(\"/content/drive/My Drive/COLAB Files/ddata/nikhil_combine_1.csv\")\n",
        "\n",
        "df20=pd.read_csv(\"/content/drive/My Drive/COLAB Files/ddata/nikhil_fam_1_filt_13.csv\")\n",
        "df21=pd.read_csv(\"/content/drive/My Drive/COLAB Files/ddata/nikhil_non_1_filt_13.csv\")\n",
        "data5=df20.append(df21)\n",
        "#df22=pd.read_csv(\"/content/drive/My Drive/COLAB Files/ddata/rahul_combine_1.csv\")\n",
        "df23=pd.read_csv(\"/content/drive/My Drive/COLAB Files/ddata/rahul_fam_1_filt_13.csv\")\n",
        "df24=pd.read_csv(\"/content/drive/My Drive/COLAB Files/ddata/rahul_non_1_filt_13.csv\")\n",
        "data6=df23.append(df24)\n",
        "#df25=pd.read_csv(\"/content/drive/My Drive/COLAB Files/ddata/rakesh_combine_1.csv\")\n",
        "df26=pd.read_csv(\"/content/drive/My Drive/COLAB Files/ddata/rakesh_fam_1_filt_13.csv\")\n",
        "df27=pd.read_csv(\"/content/drive/My Drive/COLAB Files/ddata/rakesh_non_1_filt_13.csv\")\n",
        "data7=df26.append(df27)\n",
        "#df28=pd.read_csv(\"/content/drive/My Drive/COLAB Files/ddata/subham_combine_1.csv\")\n",
        "df29=pd.read_csv(\"/content/drive/My Drive/COLAB Files/ddata/subham_fam_1_filt_13.csv\")\n",
        "df30=pd.read_csv(\"/content/drive/My Drive/COLAB Files/ddata/subham_non_1_filt_13.csv\")\n",
        "data8=df29.append(df30)\n",
        "df31=pd.read_csv(\"/content/drive/My Drive/COLAB Files/ddata/sunny_fam_1_filt_13.csv\")\n",
        "df32=pd.read_csv(\"/content/drive/My Drive/COLAB Files/ddata/sunny_non_1_filt_13.csv\")\n",
        "data9=df31.append(df32)\n",
        "#df33=pd.read_csv(\"/content/drive/My Drive/COLAB Files/ddata/sus_combine_1.csv\")\n",
        "df34=pd.read_csv(\"/content/drive/My Drive/COLAB Files/ddata/sus_fam_1_filt_13.csv\")\n",
        "df35=pd.read_csv(\"/content/drive/My Drive/COLAB Files/ddata/sus_non_1_filt_13.csv\")\n",
        "data10=df34.append(df35)\n",
        "#df36=pd.read_csv(\"/content/drive/My Drive/COLAB Files/ddata/utkarsh_combine_1.csv\")\n",
        "df37=pd.read_csv(\"/content/drive/My Drive/COLAB Files/ddata/utkarsh_fam_1_filt_13.csv\")\n",
        "df38=pd.read_csv(\"/content/drive/My Drive/COLAB Files/ddata/utkarsh_non_1_filt_13.csv\")\n",
        "data11=df37.append(df38)\n",
        "#df39=pd.read_csv(\"/content/drive/My Drive/COLAB Files/ddata/vageesh_combine_1.csv\")\n",
        "df40=pd.read_csv(\"/content/drive/My Drive/COLAB Files/ddata/vageesh_fam_1_filt_13.csv\")\n",
        "df41=pd.read_csv(\"/content/drive/My Drive/COLAB Files/ddata/vageesh_non_1_filt_13.csv\")\n",
        "data12=df40.append(df41)"
      ],
      "execution_count": 32,
      "outputs": [
        {
          "output_type": "stream",
          "text": [
            "/usr/local/lib/python3.6/dist-packages/pandas/core/frame.py:6692: FutureWarning: Sorting because non-concatenation axis is not aligned. A future version\n",
            "of pandas will change to not sort by default.\n",
            "\n",
            "To accept the future behavior, pass 'sort=False'.\n",
            "\n",
            "To retain the current behavior and silence the warning, pass 'sort=True'.\n",
            "\n",
            "  sort=sort)\n"
          ],
          "name": "stderr"
        }
      ]
    },
    {
      "cell_type": "code",
      "metadata": {
        "id": "N_RTKkauBlDw",
        "colab_type": "code",
        "outputId": "86be6d82-ca11-40b3-d19d-0aedbf620514",
        "colab": {
          "base_uri": "https://localhost:8080/",
          "height": 108
        }
      },
      "source": [
        "data1.head(2)"
      ],
      "execution_count": 33,
      "outputs": [
        {
          "output_type": "execute_result",
          "data": {
            "text/html": [
              "<div>\n",
              "<style scoped>\n",
              "    .dataframe tbody tr th:only-of-type {\n",
              "        vertical-align: middle;\n",
              "    }\n",
              "\n",
              "    .dataframe tbody tr th {\n",
              "        vertical-align: top;\n",
              "    }\n",
              "\n",
              "    .dataframe thead th {\n",
              "        text-align: right;\n",
              "    }\n",
              "</style>\n",
              "<table border=\"1\" class=\"dataframe\">\n",
              "  <thead>\n",
              "    <tr style=\"text-align: right;\">\n",
              "      <th></th>\n",
              "      <th>time in sec</th>\n",
              "      <th>P7</th>\n",
              "      <th>P8</th>\n",
              "      <th>O1</th>\n",
              "      <th>O2</th>\n",
              "      <th>case</th>\n",
              "    </tr>\n",
              "  </thead>\n",
              "  <tbody>\n",
              "    <tr>\n",
              "      <th>0</th>\n",
              "      <td>1</td>\n",
              "      <td>0.019579</td>\n",
              "      <td>0.031368</td>\n",
              "      <td>0.049292</td>\n",
              "      <td>0.031376</td>\n",
              "      <td>1</td>\n",
              "    </tr>\n",
              "    <tr>\n",
              "      <th>1</th>\n",
              "      <td>2</td>\n",
              "      <td>-0.005074</td>\n",
              "      <td>0.061788</td>\n",
              "      <td>0.172507</td>\n",
              "      <td>-0.009579</td>\n",
              "      <td>1</td>\n",
              "    </tr>\n",
              "  </tbody>\n",
              "</table>\n",
              "</div>"
            ],
            "text/plain": [
              "   time in sec        P7        P8        O1        O2  case\n",
              "0            1  0.019579  0.031368  0.049292  0.031376     1\n",
              "1            2 -0.005074  0.061788  0.172507 -0.009579     1"
            ]
          },
          "metadata": {
            "tags": []
          },
          "execution_count": 33
        }
      ]
    },
    {
      "cell_type": "code",
      "metadata": {
        "id": "3ORDyMdABoKP",
        "colab_type": "code",
        "outputId": "bf7cc882-9987-4413-80bc-542e4eeb3ddf",
        "colab": {
          "base_uri": "https://localhost:8080/",
          "height": 78
        }
      },
      "source": [
        "data1.drop(['time in sec'],axis=1,inplace=True)\n",
        "data2.drop(['time in sec'],axis=1,inplace=True)\n",
        "data3.drop(['time in sec'],axis=1,inplace=True)\n",
        "data4.drop(['time in sec'],axis=1,inplace=True)\n",
        "data5.drop(['time in sec'],axis=1,inplace=True)\n",
        "data6.drop(['time in sec'],axis=1,inplace=True)\n",
        "data7.drop(['time in sec'],axis=1,inplace=True)\n",
        "data8.drop(['time in sec'],axis=1,inplace=True)\n",
        "data9.drop(['time in sec'],axis=1,inplace=True)\n",
        "data10.drop(['time in sec'],axis=1,inplace=True)\n",
        "data11.drop(['time in sec'],axis=1,inplace=True)\n",
        "data12.drop(['time in sec'],axis=1,inplace=True)\n",
        "data1.head(1)"
      ],
      "execution_count": 34,
      "outputs": [
        {
          "output_type": "execute_result",
          "data": {
            "text/html": [
              "<div>\n",
              "<style scoped>\n",
              "    .dataframe tbody tr th:only-of-type {\n",
              "        vertical-align: middle;\n",
              "    }\n",
              "\n",
              "    .dataframe tbody tr th {\n",
              "        vertical-align: top;\n",
              "    }\n",
              "\n",
              "    .dataframe thead th {\n",
              "        text-align: right;\n",
              "    }\n",
              "</style>\n",
              "<table border=\"1\" class=\"dataframe\">\n",
              "  <thead>\n",
              "    <tr style=\"text-align: right;\">\n",
              "      <th></th>\n",
              "      <th>P7</th>\n",
              "      <th>P8</th>\n",
              "      <th>O1</th>\n",
              "      <th>O2</th>\n",
              "      <th>case</th>\n",
              "    </tr>\n",
              "  </thead>\n",
              "  <tbody>\n",
              "    <tr>\n",
              "      <th>0</th>\n",
              "      <td>0.019579</td>\n",
              "      <td>0.031368</td>\n",
              "      <td>0.049292</td>\n",
              "      <td>0.031376</td>\n",
              "      <td>1</td>\n",
              "    </tr>\n",
              "  </tbody>\n",
              "</table>\n",
              "</div>"
            ],
            "text/plain": [
              "         P7        P8        O1        O2  case\n",
              "0  0.019579  0.031368  0.049292  0.031376     1"
            ]
          },
          "metadata": {
            "tags": []
          },
          "execution_count": 34
        }
      ]
    },
    {
      "cell_type": "code",
      "metadata": {
        "id": "vjOEXPeIBrb1",
        "colab_type": "code",
        "outputId": "ce066404-55d8-422d-825c-cc4cd6d3329c",
        "colab": {
          "base_uri": "https://localhost:8080/",
          "height": 35
        }
      },
      "source": [
        "data1.shape"
      ],
      "execution_count": 0,
      "outputs": [
        {
          "output_type": "execute_result",
          "data": {
            "text/plain": [
              "(27033, 5)"
            ]
          },
          "metadata": {
            "tags": []
          },
          "execution_count": 6
        }
      ]
    },
    {
      "cell_type": "code",
      "metadata": {
        "id": "7M9HS28F5R6S",
        "colab_type": "code",
        "outputId": "4e384c1d-2d46-4b83-badd-98bbe6120af3",
        "colab": {
          "base_uri": "https://localhost:8080/",
          "height": 1000
        }
      },
      "source": [
        "ytrain=data1['case']\n",
        "ytrain"
      ],
      "execution_count": 0,
      "outputs": [
        {
          "output_type": "execute_result",
          "data": {
            "text/plain": [
              "0        1\n",
              "1        1\n",
              "2        1\n",
              "3        1\n",
              "4        1\n",
              "5        1\n",
              "6        1\n",
              "7        1\n",
              "8        1\n",
              "9        1\n",
              "10       1\n",
              "11       1\n",
              "12       1\n",
              "13       1\n",
              "14       1\n",
              "15       1\n",
              "16       1\n",
              "17       1\n",
              "18       1\n",
              "19       1\n",
              "20       1\n",
              "21       1\n",
              "22       1\n",
              "23       1\n",
              "24       1\n",
              "25       1\n",
              "26       1\n",
              "27       1\n",
              "28       1\n",
              "29       1\n",
              "        ..\n",
              "13494    0\n",
              "13495    0\n",
              "13496    0\n",
              "13497    0\n",
              "13498    0\n",
              "13499    0\n",
              "13500    0\n",
              "13501    0\n",
              "13502    0\n",
              "13503    0\n",
              "13504    0\n",
              "13505    0\n",
              "13506    0\n",
              "13507    0\n",
              "13508    0\n",
              "13509    0\n",
              "13510    0\n",
              "13511    0\n",
              "13512    0\n",
              "13513    0\n",
              "13514    0\n",
              "13515    0\n",
              "13516    0\n",
              "13517    0\n",
              "13518    0\n",
              "13519    0\n",
              "13520    0\n",
              "13521    0\n",
              "13522    0\n",
              "13523    0\n",
              "Name: case, Length: 27033, dtype: int64"
            ]
          },
          "metadata": {
            "tags": []
          },
          "execution_count": 10
        }
      ]
    },
    {
      "cell_type": "code",
      "metadata": {
        "id": "y6TWr0d95R4X",
        "colab_type": "code",
        "outputId": "ea92b661-08a9-488a-afe5-d2f358081da5",
        "colab": {
          "base_uri": "https://localhost:8080/",
          "height": 1000
        }
      },
      "source": [
        "xtrain=data1.drop(['case'],axis=1)\n",
        "xtrain"
      ],
      "execution_count": 0,
      "outputs": [
        {
          "output_type": "execute_result",
          "data": {
            "text/html": [
              "<div>\n",
              "<style scoped>\n",
              "    .dataframe tbody tr th:only-of-type {\n",
              "        vertical-align: middle;\n",
              "    }\n",
              "\n",
              "    .dataframe tbody tr th {\n",
              "        vertical-align: top;\n",
              "    }\n",
              "\n",
              "    .dataframe thead th {\n",
              "        text-align: right;\n",
              "    }\n",
              "</style>\n",
              "<table border=\"1\" class=\"dataframe\">\n",
              "  <thead>\n",
              "    <tr style=\"text-align: right;\">\n",
              "      <th></th>\n",
              "      <th>P7</th>\n",
              "      <th>P8</th>\n",
              "      <th>O1</th>\n",
              "      <th>O2</th>\n",
              "    </tr>\n",
              "  </thead>\n",
              "  <tbody>\n",
              "    <tr>\n",
              "      <th>0</th>\n",
              "      <td>0.019579</td>\n",
              "      <td>0.031368</td>\n",
              "      <td>0.049292</td>\n",
              "      <td>0.031376</td>\n",
              "    </tr>\n",
              "    <tr>\n",
              "      <th>1</th>\n",
              "      <td>-0.005074</td>\n",
              "      <td>0.061788</td>\n",
              "      <td>0.172507</td>\n",
              "      <td>-0.009579</td>\n",
              "    </tr>\n",
              "    <tr>\n",
              "      <th>2</th>\n",
              "      <td>-0.252178</td>\n",
              "      <td>0.067108</td>\n",
              "      <td>0.328600</td>\n",
              "      <td>-0.344678</td>\n",
              "    </tr>\n",
              "    <tr>\n",
              "      <th>3</th>\n",
              "      <td>-0.619706</td>\n",
              "      <td>0.456606</td>\n",
              "      <td>0.759965</td>\n",
              "      <td>-0.801646</td>\n",
              "    </tr>\n",
              "    <tr>\n",
              "      <th>4</th>\n",
              "      <td>-0.627086</td>\n",
              "      <td>1.868949</td>\n",
              "      <td>1.796608</td>\n",
              "      <td>-0.784960</td>\n",
              "    </tr>\n",
              "    <tr>\n",
              "      <th>5</th>\n",
              "      <td>-0.297576</td>\n",
              "      <td>4.158049</td>\n",
              "      <td>3.130899</td>\n",
              "      <td>-0.165634</td>\n",
              "    </tr>\n",
              "    <tr>\n",
              "      <th>6</th>\n",
              "      <td>-0.256664</td>\n",
              "      <td>6.461048</td>\n",
              "      <td>4.134484</td>\n",
              "      <td>0.529322</td>\n",
              "    </tr>\n",
              "    <tr>\n",
              "      <th>7</th>\n",
              "      <td>-0.472469</td>\n",
              "      <td>8.443744</td>\n",
              "      <td>4.725005</td>\n",
              "      <td>1.208094</td>\n",
              "    </tr>\n",
              "    <tr>\n",
              "      <th>8</th>\n",
              "      <td>-0.212310</td>\n",
              "      <td>10.370295</td>\n",
              "      <td>5.391921</td>\n",
              "      <td>2.272228</td>\n",
              "    </tr>\n",
              "    <tr>\n",
              "      <th>9</th>\n",
              "      <td>0.632633</td>\n",
              "      <td>12.112427</td>\n",
              "      <td>6.244480</td>\n",
              "      <td>3.488647</td>\n",
              "    </tr>\n",
              "    <tr>\n",
              "      <th>10</th>\n",
              "      <td>1.288437</td>\n",
              "      <td>12.987942</td>\n",
              "      <td>6.654816</td>\n",
              "      <td>4.033911</td>\n",
              "    </tr>\n",
              "    <tr>\n",
              "      <th>11</th>\n",
              "      <td>1.124072</td>\n",
              "      <td>12.514215</td>\n",
              "      <td>6.192984</td>\n",
              "      <td>3.504927</td>\n",
              "    </tr>\n",
              "    <tr>\n",
              "      <th>12</th>\n",
              "      <td>0.151759</td>\n",
              "      <td>10.846358</td>\n",
              "      <td>4.840121</td>\n",
              "      <td>2.074388</td>\n",
              "    </tr>\n",
              "    <tr>\n",
              "      <th>13</th>\n",
              "      <td>-0.814442</td>\n",
              "      <td>9.009577</td>\n",
              "      <td>3.077660</td>\n",
              "      <td>0.514971</td>\n",
              "    </tr>\n",
              "    <tr>\n",
              "      <th>14</th>\n",
              "      <td>-0.865126</td>\n",
              "      <td>8.097253</td>\n",
              "      <td>1.837580</td>\n",
              "      <td>-0.254055</td>\n",
              "    </tr>\n",
              "    <tr>\n",
              "      <th>15</th>\n",
              "      <td>-0.367967</td>\n",
              "      <td>7.765161</td>\n",
              "      <td>1.355352</td>\n",
              "      <td>-0.337865</td>\n",
              "    </tr>\n",
              "    <tr>\n",
              "      <th>16</th>\n",
              "      <td>-0.234961</td>\n",
              "      <td>6.933000</td>\n",
              "      <td>0.982076</td>\n",
              "      <td>-0.444792</td>\n",
              "    </tr>\n",
              "    <tr>\n",
              "      <th>17</th>\n",
              "      <td>-0.650270</td>\n",
              "      <td>5.218323</td>\n",
              "      <td>-0.056383</td>\n",
              "      <td>-0.911982</td>\n",
              "    </tr>\n",
              "    <tr>\n",
              "      <th>18</th>\n",
              "      <td>-1.222890</td>\n",
              "      <td>3.057074</td>\n",
              "      <td>-1.908588</td>\n",
              "      <td>-1.616563</td>\n",
              "    </tr>\n",
              "    <tr>\n",
              "      <th>19</th>\n",
              "      <td>-1.529809</td>\n",
              "      <td>1.111734</td>\n",
              "      <td>-4.033234</td>\n",
              "      <td>-2.266441</td>\n",
              "    </tr>\n",
              "    <tr>\n",
              "      <th>20</th>\n",
              "      <td>-1.684334</td>\n",
              "      <td>-0.558064</td>\n",
              "      <td>-5.940283</td>\n",
              "      <td>-2.871485</td>\n",
              "    </tr>\n",
              "    <tr>\n",
              "      <th>21</th>\n",
              "      <td>-2.187367</td>\n",
              "      <td>-2.344591</td>\n",
              "      <td>-7.447801</td>\n",
              "      <td>-3.731755</td>\n",
              "    </tr>\n",
              "    <tr>\n",
              "      <th>22</th>\n",
              "      <td>-3.216928</td>\n",
              "      <td>-4.352287</td>\n",
              "      <td>-8.532687</td>\n",
              "      <td>-4.997431</td>\n",
              "    </tr>\n",
              "    <tr>\n",
              "      <th>23</th>\n",
              "      <td>-4.385686</td>\n",
              "      <td>-6.268820</td>\n",
              "      <td>-9.348606</td>\n",
              "      <td>-6.494824</td>\n",
              "    </tr>\n",
              "    <tr>\n",
              "      <th>24</th>\n",
              "      <td>-4.870278</td>\n",
              "      <td>-7.443505</td>\n",
              "      <td>-9.779897</td>\n",
              "      <td>-7.682709</td>\n",
              "    </tr>\n",
              "    <tr>\n",
              "      <th>25</th>\n",
              "      <td>-4.365757</td>\n",
              "      <td>-7.579607</td>\n",
              "      <td>-9.430378</td>\n",
              "      <td>-8.145547</td>\n",
              "    </tr>\n",
              "    <tr>\n",
              "      <th>26</th>\n",
              "      <td>-3.727474</td>\n",
              "      <td>-7.395703</td>\n",
              "      <td>-8.407076</td>\n",
              "      <td>-8.301179</td>\n",
              "    </tr>\n",
              "    <tr>\n",
              "      <th>27</th>\n",
              "      <td>-3.628176</td>\n",
              "      <td>-7.511200</td>\n",
              "      <td>-7.208340</td>\n",
              "      <td>-8.624972</td>\n",
              "    </tr>\n",
              "    <tr>\n",
              "      <th>28</th>\n",
              "      <td>-3.580614</td>\n",
              "      <td>-7.466424</td>\n",
              "      <td>-6.247022</td>\n",
              "      <td>-8.821001</td>\n",
              "    </tr>\n",
              "    <tr>\n",
              "      <th>29</th>\n",
              "      <td>-2.909736</td>\n",
              "      <td>-6.617735</td>\n",
              "      <td>-5.496807</td>\n",
              "      <td>-8.431235</td>\n",
              "    </tr>\n",
              "    <tr>\n",
              "      <th>...</th>\n",
              "      <td>...</td>\n",
              "      <td>...</td>\n",
              "      <td>...</td>\n",
              "      <td>...</td>\n",
              "    </tr>\n",
              "    <tr>\n",
              "      <th>13494</th>\n",
              "      <td>3.383264</td>\n",
              "      <td>4.702222</td>\n",
              "      <td>9.503534</td>\n",
              "      <td>5.053605</td>\n",
              "    </tr>\n",
              "    <tr>\n",
              "      <th>13495</th>\n",
              "      <td>2.101578</td>\n",
              "      <td>5.231470</td>\n",
              "      <td>8.929391</td>\n",
              "      <td>5.147554</td>\n",
              "    </tr>\n",
              "    <tr>\n",
              "      <th>13496</th>\n",
              "      <td>0.217144</td>\n",
              "      <td>4.914239</td>\n",
              "      <td>7.634219</td>\n",
              "      <td>4.645554</td>\n",
              "    </tr>\n",
              "    <tr>\n",
              "      <th>13497</th>\n",
              "      <td>-1.440163</td>\n",
              "      <td>4.434124</td>\n",
              "      <td>6.073715</td>\n",
              "      <td>4.087136</td>\n",
              "    </tr>\n",
              "    <tr>\n",
              "      <th>13498</th>\n",
              "      <td>-2.528216</td>\n",
              "      <td>4.064459</td>\n",
              "      <td>4.564603</td>\n",
              "      <td>3.567015</td>\n",
              "    </tr>\n",
              "    <tr>\n",
              "      <th>13499</th>\n",
              "      <td>-3.386320</td>\n",
              "      <td>3.375560</td>\n",
              "      <td>2.951037</td>\n",
              "      <td>2.690638</td>\n",
              "    </tr>\n",
              "    <tr>\n",
              "      <th>13500</th>\n",
              "      <td>-4.304154</td>\n",
              "      <td>2.155584</td>\n",
              "      <td>1.169375</td>\n",
              "      <td>1.384597</td>\n",
              "    </tr>\n",
              "    <tr>\n",
              "      <th>13501</th>\n",
              "      <td>-5.156665</td>\n",
              "      <td>0.758465</td>\n",
              "      <td>-0.330506</td>\n",
              "      <td>0.034115</td>\n",
              "    </tr>\n",
              "    <tr>\n",
              "      <th>13502</th>\n",
              "      <td>-5.747921</td>\n",
              "      <td>-0.482104</td>\n",
              "      <td>-1.389510</td>\n",
              "      <td>-1.086664</td>\n",
              "    </tr>\n",
              "    <tr>\n",
              "      <th>13503</th>\n",
              "      <td>-5.925419</td>\n",
              "      <td>-1.427167</td>\n",
              "      <td>-2.414804</td>\n",
              "      <td>-1.820511</td>\n",
              "    </tr>\n",
              "    <tr>\n",
              "      <th>13504</th>\n",
              "      <td>-5.874599</td>\n",
              "      <td>-2.339471</td>\n",
              "      <td>-3.716153</td>\n",
              "      <td>-2.320657</td>\n",
              "    </tr>\n",
              "    <tr>\n",
              "      <th>13505</th>\n",
              "      <td>-6.233036</td>\n",
              "      <td>-3.802999</td>\n",
              "      <td>-5.554501</td>\n",
              "      <td>-3.100697</td>\n",
              "    </tr>\n",
              "    <tr>\n",
              "      <th>13506</th>\n",
              "      <td>-7.049036</td>\n",
              "      <td>-5.590489</td>\n",
              "      <td>-7.861057</td>\n",
              "      <td>-4.098632</td>\n",
              "    </tr>\n",
              "    <tr>\n",
              "      <th>13507</th>\n",
              "      <td>-7.722986</td>\n",
              "      <td>-6.901371</td>\n",
              "      <td>-10.103884</td>\n",
              "      <td>-4.880083</td>\n",
              "    </tr>\n",
              "    <tr>\n",
              "      <th>13508</th>\n",
              "      <td>-8.083441</td>\n",
              "      <td>-7.634208</td>\n",
              "      <td>-11.960048</td>\n",
              "      <td>-5.381507</td>\n",
              "    </tr>\n",
              "    <tr>\n",
              "      <th>13509</th>\n",
              "      <td>-8.310839</td>\n",
              "      <td>-8.236088</td>\n",
              "      <td>-13.255398</td>\n",
              "      <td>-5.661773</td>\n",
              "    </tr>\n",
              "    <tr>\n",
              "      <th>13510</th>\n",
              "      <td>-8.238907</td>\n",
              "      <td>-8.717579</td>\n",
              "      <td>-13.656039</td>\n",
              "      <td>-5.849246</td>\n",
              "    </tr>\n",
              "    <tr>\n",
              "      <th>13511</th>\n",
              "      <td>-7.283855</td>\n",
              "      <td>-8.373222</td>\n",
              "      <td>-12.772225</td>\n",
              "      <td>-5.742902</td>\n",
              "    </tr>\n",
              "    <tr>\n",
              "      <th>13512</th>\n",
              "      <td>-4.934415</td>\n",
              "      <td>-6.561713</td>\n",
              "      <td>-10.420783</td>\n",
              "      <td>-4.643297</td>\n",
              "    </tr>\n",
              "    <tr>\n",
              "      <th>13513</th>\n",
              "      <td>-1.558873</td>\n",
              "      <td>-3.657501</td>\n",
              "      <td>-7.130847</td>\n",
              "      <td>-2.593719</td>\n",
              "    </tr>\n",
              "    <tr>\n",
              "      <th>13514</th>\n",
              "      <td>1.599439</td>\n",
              "      <td>-0.965770</td>\n",
              "      <td>-4.070095</td>\n",
              "      <td>-0.715490</td>\n",
              "    </tr>\n",
              "    <tr>\n",
              "      <th>13515</th>\n",
              "      <td>3.608216</td>\n",
              "      <td>0.473073</td>\n",
              "      <td>-2.249000</td>\n",
              "      <td>0.062495</td>\n",
              "    </tr>\n",
              "    <tr>\n",
              "      <th>13516</th>\n",
              "      <td>4.694405</td>\n",
              "      <td>0.898248</td>\n",
              "      <td>-1.714725</td>\n",
              "      <td>-0.028852</td>\n",
              "    </tr>\n",
              "    <tr>\n",
              "      <th>13517</th>\n",
              "      <td>5.893014</td>\n",
              "      <td>1.499500</td>\n",
              "      <td>-1.310374</td>\n",
              "      <td>0.193658</td>\n",
              "    </tr>\n",
              "    <tr>\n",
              "      <th>13518</th>\n",
              "      <td>7.641915</td>\n",
              "      <td>2.810374</td>\n",
              "      <td>-0.137977</td>\n",
              "      <td>1.271829</td>\n",
              "    </tr>\n",
              "    <tr>\n",
              "      <th>13519</th>\n",
              "      <td>9.047010</td>\n",
              "      <td>3.994949</td>\n",
              "      <td>1.173982</td>\n",
              "      <td>2.346635</td>\n",
              "    </tr>\n",
              "    <tr>\n",
              "      <th>13520</th>\n",
              "      <td>9.080275</td>\n",
              "      <td>4.147021</td>\n",
              "      <td>1.716822</td>\n",
              "      <td>2.530561</td>\n",
              "    </tr>\n",
              "    <tr>\n",
              "      <th>13521</th>\n",
              "      <td>7.973036</td>\n",
              "      <td>3.689495</td>\n",
              "      <td>1.635110</td>\n",
              "      <td>2.067788</td>\n",
              "    </tr>\n",
              "    <tr>\n",
              "      <th>13522</th>\n",
              "      <td>6.714602</td>\n",
              "      <td>3.677403</td>\n",
              "      <td>1.398515</td>\n",
              "      <td>1.905809</td>\n",
              "    </tr>\n",
              "    <tr>\n",
              "      <th>13523</th>\n",
              "      <td>5.680750</td>\n",
              "      <td>4.110606</td>\n",
              "      <td>1.099886</td>\n",
              "      <td>2.258636</td>\n",
              "    </tr>\n",
              "  </tbody>\n",
              "</table>\n",
              "<p>27033 rows × 4 columns</p>\n",
              "</div>"
            ],
            "text/plain": [
              "             P7         P8         O1        O2\n",
              "0      0.019579   0.031368   0.049292  0.031376\n",
              "1     -0.005074   0.061788   0.172507 -0.009579\n",
              "2     -0.252178   0.067108   0.328600 -0.344678\n",
              "3     -0.619706   0.456606   0.759965 -0.801646\n",
              "4     -0.627086   1.868949   1.796608 -0.784960\n",
              "5     -0.297576   4.158049   3.130899 -0.165634\n",
              "6     -0.256664   6.461048   4.134484  0.529322\n",
              "7     -0.472469   8.443744   4.725005  1.208094\n",
              "8     -0.212310  10.370295   5.391921  2.272228\n",
              "9      0.632633  12.112427   6.244480  3.488647\n",
              "10     1.288437  12.987942   6.654816  4.033911\n",
              "11     1.124072  12.514215   6.192984  3.504927\n",
              "12     0.151759  10.846358   4.840121  2.074388\n",
              "13    -0.814442   9.009577   3.077660  0.514971\n",
              "14    -0.865126   8.097253   1.837580 -0.254055\n",
              "15    -0.367967   7.765161   1.355352 -0.337865\n",
              "16    -0.234961   6.933000   0.982076 -0.444792\n",
              "17    -0.650270   5.218323  -0.056383 -0.911982\n",
              "18    -1.222890   3.057074  -1.908588 -1.616563\n",
              "19    -1.529809   1.111734  -4.033234 -2.266441\n",
              "20    -1.684334  -0.558064  -5.940283 -2.871485\n",
              "21    -2.187367  -2.344591  -7.447801 -3.731755\n",
              "22    -3.216928  -4.352287  -8.532687 -4.997431\n",
              "23    -4.385686  -6.268820  -9.348606 -6.494824\n",
              "24    -4.870278  -7.443505  -9.779897 -7.682709\n",
              "25    -4.365757  -7.579607  -9.430378 -8.145547\n",
              "26    -3.727474  -7.395703  -8.407076 -8.301179\n",
              "27    -3.628176  -7.511200  -7.208340 -8.624972\n",
              "28    -3.580614  -7.466424  -6.247022 -8.821001\n",
              "29    -2.909736  -6.617735  -5.496807 -8.431235\n",
              "...         ...        ...        ...       ...\n",
              "13494  3.383264   4.702222   9.503534  5.053605\n",
              "13495  2.101578   5.231470   8.929391  5.147554\n",
              "13496  0.217144   4.914239   7.634219  4.645554\n",
              "13497 -1.440163   4.434124   6.073715  4.087136\n",
              "13498 -2.528216   4.064459   4.564603  3.567015\n",
              "13499 -3.386320   3.375560   2.951037  2.690638\n",
              "13500 -4.304154   2.155584   1.169375  1.384597\n",
              "13501 -5.156665   0.758465  -0.330506  0.034115\n",
              "13502 -5.747921  -0.482104  -1.389510 -1.086664\n",
              "13503 -5.925419  -1.427167  -2.414804 -1.820511\n",
              "13504 -5.874599  -2.339471  -3.716153 -2.320657\n",
              "13505 -6.233036  -3.802999  -5.554501 -3.100697\n",
              "13506 -7.049036  -5.590489  -7.861057 -4.098632\n",
              "13507 -7.722986  -6.901371 -10.103884 -4.880083\n",
              "13508 -8.083441  -7.634208 -11.960048 -5.381507\n",
              "13509 -8.310839  -8.236088 -13.255398 -5.661773\n",
              "13510 -8.238907  -8.717579 -13.656039 -5.849246\n",
              "13511 -7.283855  -8.373222 -12.772225 -5.742902\n",
              "13512 -4.934415  -6.561713 -10.420783 -4.643297\n",
              "13513 -1.558873  -3.657501  -7.130847 -2.593719\n",
              "13514  1.599439  -0.965770  -4.070095 -0.715490\n",
              "13515  3.608216   0.473073  -2.249000  0.062495\n",
              "13516  4.694405   0.898248  -1.714725 -0.028852\n",
              "13517  5.893014   1.499500  -1.310374  0.193658\n",
              "13518  7.641915   2.810374  -0.137977  1.271829\n",
              "13519  9.047010   3.994949   1.173982  2.346635\n",
              "13520  9.080275   4.147021   1.716822  2.530561\n",
              "13521  7.973036   3.689495   1.635110  2.067788\n",
              "13522  6.714602   3.677403   1.398515  1.905809\n",
              "13523  5.680750   4.110606   1.099886  2.258636\n",
              "\n",
              "[27033 rows x 4 columns]"
            ]
          },
          "metadata": {
            "tags": []
          },
          "execution_count": 11
        }
      ]
    },
    {
      "cell_type": "code",
      "metadata": {
        "id": "CcA2QgjFIXfU",
        "colab_type": "code",
        "outputId": "78df830d-caff-4fc7-ec70-4ec8da68b788",
        "colab": {
          "base_uri": "https://localhost:8080/",
          "height": 78
        }
      },
      "source": [
        "d1=pd.read_csv(\"/content/drive/My Drive/COLAB Files/ddata/alwyn_combine_1.csv\")\n",
        "d1.head(1)"
      ],
      "execution_count": 0,
      "outputs": [
        {
          "output_type": "execute_result",
          "data": {
            "text/html": [
              "<div>\n",
              "<style scoped>\n",
              "    .dataframe tbody tr th:only-of-type {\n",
              "        vertical-align: middle;\n",
              "    }\n",
              "\n",
              "    .dataframe tbody tr th {\n",
              "        vertical-align: top;\n",
              "    }\n",
              "\n",
              "    .dataframe thead th {\n",
              "        text-align: right;\n",
              "    }\n",
              "</style>\n",
              "<table border=\"1\" class=\"dataframe\">\n",
              "  <thead>\n",
              "    <tr style=\"text-align: right;\">\n",
              "      <th></th>\n",
              "      <th>time in sec</th>\n",
              "      <th>P7</th>\n",
              "      <th>P8</th>\n",
              "      <th>O1</th>\n",
              "      <th>O2</th>\n",
              "      <th>case</th>\n",
              "    </tr>\n",
              "  </thead>\n",
              "  <tbody>\n",
              "    <tr>\n",
              "      <th>0</th>\n",
              "      <td>1</td>\n",
              "      <td>1.919887</td>\n",
              "      <td>2.501204</td>\n",
              "      <td>3.080694</td>\n",
              "      <td>2.074751</td>\n",
              "      <td>1</td>\n",
              "    </tr>\n",
              "  </tbody>\n",
              "</table>\n",
              "</div>"
            ],
            "text/plain": [
              "   time in sec        P7        P8        O1        O2  case\n",
              "0            1  1.919887  2.501204  3.080694  2.074751     1"
            ]
          },
          "metadata": {
            "tags": []
          },
          "execution_count": 12
        }
      ]
    },
    {
      "cell_type": "code",
      "metadata": {
        "id": "BkAFpXSAIXc_",
        "colab_type": "code",
        "outputId": "4458665e-a23b-4398-9429-c561ec54bc2d",
        "colab": {
          "base_uri": "https://localhost:8080/",
          "height": 78
        }
      },
      "source": [
        "d1=d1.drop(['time in sec'],axis=1)\n",
        "d1.head(1)"
      ],
      "execution_count": 0,
      "outputs": [
        {
          "output_type": "execute_result",
          "data": {
            "text/html": [
              "<div>\n",
              "<style scoped>\n",
              "    .dataframe tbody tr th:only-of-type {\n",
              "        vertical-align: middle;\n",
              "    }\n",
              "\n",
              "    .dataframe tbody tr th {\n",
              "        vertical-align: top;\n",
              "    }\n",
              "\n",
              "    .dataframe thead th {\n",
              "        text-align: right;\n",
              "    }\n",
              "</style>\n",
              "<table border=\"1\" class=\"dataframe\">\n",
              "  <thead>\n",
              "    <tr style=\"text-align: right;\">\n",
              "      <th></th>\n",
              "      <th>P7</th>\n",
              "      <th>P8</th>\n",
              "      <th>O1</th>\n",
              "      <th>O2</th>\n",
              "      <th>case</th>\n",
              "    </tr>\n",
              "  </thead>\n",
              "  <tbody>\n",
              "    <tr>\n",
              "      <th>0</th>\n",
              "      <td>1.919887</td>\n",
              "      <td>2.501204</td>\n",
              "      <td>3.080694</td>\n",
              "      <td>2.074751</td>\n",
              "      <td>1</td>\n",
              "    </tr>\n",
              "  </tbody>\n",
              "</table>\n",
              "</div>"
            ],
            "text/plain": [
              "         P7        P8        O1        O2  case\n",
              "0  1.919887  2.501204  3.080694  2.074751     1"
            ]
          },
          "metadata": {
            "tags": []
          },
          "execution_count": 13
        }
      ]
    },
    {
      "cell_type": "code",
      "metadata": {
        "id": "lTSIjtTxIXbE",
        "colab_type": "code",
        "colab": {}
      },
      "source": [
        "ytest=d1['case']"
      ],
      "execution_count": 0,
      "outputs": []
    },
    {
      "cell_type": "code",
      "metadata": {
        "id": "_cdaqXcsIXYx",
        "colab_type": "code",
        "colab": {}
      },
      "source": [
        "xtest=d1.drop(['case'],axis=1)"
      ],
      "execution_count": 0,
      "outputs": []
    },
    {
      "cell_type": "code",
      "metadata": {
        "id": "sJUYwL8OIXWd",
        "colab_type": "code",
        "outputId": "2dfd606b-3d27-4c2b-85f0-bc5bb7f07407",
        "colab": {
          "base_uri": "https://localhost:8080/",
          "height": 90
        }
      },
      "source": [
        "print(xtrain.shape)\n",
        "print(ytrain.shape)\n",
        "print(xtest.shape)\n",
        "print(ytest.shape)\n"
      ],
      "execution_count": 0,
      "outputs": [
        {
          "output_type": "stream",
          "text": [
            "(27033, 4)\n",
            "(27033,)\n",
            "(16793, 4)\n",
            "(16793,)\n"
          ],
          "name": "stdout"
        }
      ]
    },
    {
      "cell_type": "code",
      "metadata": {
        "id": "mkd6kdmT5Rzu",
        "colab_type": "code",
        "outputId": "320f2719-2b70-465d-9206-3a85118a9350",
        "colab": {
          "base_uri": "https://localhost:8080/",
          "height": 287
        }
      },
      "source": [
        "import matplotlib.pyplot as plt\n",
        "xtrain.plot()"
      ],
      "execution_count": 0,
      "outputs": [
        {
          "output_type": "execute_result",
          "data": {
            "text/plain": [
              "<matplotlib.axes._subplots.AxesSubplot at 0x7fc082e1c240>"
            ]
          },
          "metadata": {
            "tags": []
          },
          "execution_count": 17
        },
        {
          "output_type": "display_data",
          "data": {
            "image/png": "[encoded data removed]",
            "text/plain": [
              "<Figure size 432x288 with 1 Axes>"
            ]
          },
          "metadata": {
            "tags": []
          }
        }
      ]
    },
    {
      "cell_type": "code",
      "metadata": {
        "id": "I7iI3he9JA6n",
        "colab_type": "code",
        "outputId": "cd462f98-60ec-4efb-986b-025bc54dce4c",
        "colab": {
          "base_uri": "https://localhost:8080/",
          "height": 287
        }
      },
      "source": [
        "xtest.plot()"
      ],
      "execution_count": 0,
      "outputs": [
        {
          "output_type": "execute_result",
          "data": {
            "text/plain": [
              "<matplotlib.axes._subplots.AxesSubplot at 0x7fc080422f60>"
            ]
          },
          "metadata": {
            "tags": []
          },
          "execution_count": 19
        },
        {
          "output_type": "display_data",
          "data": {
            "image/png": "[encoded data removed]",
            "text/plain": [
              "<Figure size 432x288 with 1 Axes>"
            ]
          },
          "metadata": {
            "tags": []
          }
        }
      ]
    },
    {
      "cell_type": "code",
      "metadata": {
        "id": "YKa9OaWTJA4O",
        "colab_type": "code",
        "outputId": "e6e365c4-6c74-481f-af24-7cb50a5c07b0",
        "colab": {
          "base_uri": "https://localhost:8080/",
          "height": 287
        }
      },
      "source": [
        "xtrain=xtrain.cumsum()\n",
        "xtrain.plot()"
      ],
      "execution_count": 0,
      "outputs": [
        {
          "output_type": "execute_result",
          "data": {
            "text/plain": [
              "<matplotlib.axes._subplots.AxesSubplot at 0x7fc0803b6b38>"
            ]
          },
          "metadata": {
            "tags": []
          },
          "execution_count": 20
        },
        {
          "output_type": "display_data",
          "data": {
            "image/png": "[encoded data removed]",
            "text/plain": [
              "<Figure size 432x288 with 1 Axes>"
            ]
          },
          "metadata": {
            "tags": []
          }
        }
      ]
    },
    {
      "cell_type": "code",
      "metadata": {
        "id": "ueVTbvk4JA2Y",
        "colab_type": "code",
        "outputId": "9fbe425c-951b-4023-85d5-0395b08d7f94",
        "colab": {
          "base_uri": "https://localhost:8080/",
          "height": 382
        }
      },
      "source": [
        "xtrain = np.exp(xtrain.cumsum())\n",
        "xtrain.plot(logy=True)"
      ],
      "execution_count": 0,
      "outputs": [
        {
          "output_type": "stream",
          "text": [
            "/usr/local/lib/python3.6/dist-packages/ipykernel_launcher.py:1: RuntimeWarning: overflow encountered in exp\n",
            "  \"\"\"Entry point for launching an IPython kernel.\n",
            "/usr/local/lib/python3.6/dist-packages/numpy/ma/core.py:6666: RuntimeWarning: overflow encountered in power\n",
            "  result = np.where(m, fa, umath.power(fa, fb)).view(basetype)\n"
          ],
          "name": "stderr"
        },
        {
          "output_type": "execute_result",
          "data": {
            "text/plain": [
              "<matplotlib.axes._subplots.AxesSubplot at 0x7fc080337e10>"
            ]
          },
          "metadata": {
            "tags": []
          },
          "execution_count": 21
        },
        {
          "output_type": "display_data",
          "data": {
            "image/png": "[encoded data removed]",
            "text/plain": [
              "<Figure size 432x288 with 1 Axes>"
            ]
          },
          "metadata": {
            "tags": []
          }
        }
      ]
    },
    {
      "cell_type": "code",
      "metadata": {
        "id": "Q_pgiJh8LR-Q",
        "colab_type": "code",
        "colab": {}
      },
      "source": [
        "import numpy as np\n",
        "import pywt\n",
        "from scipy import stats"
      ],
      "execution_count": 0,
      "outputs": []
    },
    {
      "cell_type": "code",
      "metadata": {
        "id": "oVO275GjLR7V",
        "colab_type": "code",
        "colab": {
          "base_uri": "https://localhost:8080/",
          "height": 35
        },
        "outputId": "3e7f9ab1-1749-4cc3-a769-26abaf197b08"
      },
      "source": [
        "mad1=stats.median_absolute_deviation(data1)\n",
        "mad1\n",
        "mad11=stats.median_absolute_deviation(mad1)\n",
        "mad11"
      ],
      "execution_count": 35,
      "outputs": [
        {
          "output_type": "execute_result",
          "data": {
            "text/plain": [
              "0.21265622338486306"
            ]
          },
          "metadata": {
            "tags": []
          },
          "execution_count": 35
        }
      ]
    },
    {
      "cell_type": "code",
      "metadata": {
        "id": "kx_M2SMtLR0M",
        "colab_type": "code",
        "colab": {}
      },
      "source": [
        "mad2=stats.median_absolute_deviation(data2)\n",
        "mad2\n",
        "mad22=stats.median_absolute_deviation(mad2)\n",
        "mad22"
      ],
      "execution_count": 0,
      "outputs": []
    },
    {
      "cell_type": "code",
      "metadata": {
        "id": "Q009xvc2LRvO",
        "colab_type": "code",
        "colab": {
          "base_uri": "https://localhost:8080/",
          "height": 35
        },
        "outputId": "33377dd9-acbd-48c1-8db2-72e1f7d66356"
      },
      "source": [
        "mad3=stats.median_absolute_deviation(data3)\n",
        "mad3\n",
        "mad33=stats.median_absolute_deviation(mad3)\n",
        "mad33"
      ],
      "execution_count": 37,
      "outputs": [
        {
          "output_type": "execute_result",
          "data": {
            "text/plain": [
              "0.641875068742949"
            ]
          },
          "metadata": {
            "tags": []
          },
          "execution_count": 37
        }
      ]
    },
    {
      "cell_type": "code",
      "metadata": {
        "id": "UdUlo3TaLRs-",
        "colab_type": "code",
        "colab": {
          "base_uri": "https://localhost:8080/",
          "height": 35
        },
        "outputId": "4c302f9c-70f9-4016-89ae-7d79ce4f5290"
      },
      "source": [
        "mad4=stats.median_absolute_deviation(data4)\n",
        "mad4\n",
        "mad44=stats.median_absolute_deviation(mad4)\n",
        "mad44"
      ],
      "execution_count": 38,
      "outputs": [
        {
          "output_type": "execute_result",
          "data": {
            "text/plain": [
              "0.7181803636519938"
            ]
          },
          "metadata": {
            "tags": []
          },
          "execution_count": 38
        }
      ]
    },
    {
      "cell_type": "code",
      "metadata": {
        "id": "axGkXhIwNnp9",
        "colab_type": "code",
        "colab": {}
      },
      "source": [
        "mad5=stats.median_absolute_deviation(data5)\n",
        "mad5\n",
        "mad55=stats.median_absolute_deviation(mad5)"
      ],
      "execution_count": 0,
      "outputs": []
    },
    {
      "cell_type": "code",
      "metadata": {
        "id": "BXefZ3wSNnny",
        "colab_type": "code",
        "colab": {}
      },
      "source": [
        "mad6=stats.median_absolute_deviation(data6)\n",
        "mad6\n",
        "mad66=stats.median_absolute_deviation(mad6)"
      ],
      "execution_count": 0,
      "outputs": []
    },
    {
      "cell_type": "code",
      "metadata": {
        "id": "ll6ltalJNnmA",
        "colab_type": "code",
        "colab": {}
      },
      "source": [
        "mad7=stats.median_absolute_deviation(data7)\n",
        "mad7\n",
        "mad77=stats.median_absolute_deviation(mad7)\n",
        "mad77"
      ],
      "execution_count": 0,
      "outputs": []
    },
    {
      "cell_type": "code",
      "metadata": {
        "id": "ULJG9zgcNni-",
        "colab_type": "code",
        "colab": {}
      },
      "source": [
        "mad8=stats.median_absolute_deviation(data8)\n",
        "mad8\n",
        "mad88=stats.median_absolute_deviation(mad8)\n",
        "mad88"
      ],
      "execution_count": 0,
      "outputs": []
    },
    {
      "cell_type": "code",
      "metadata": {
        "id": "MTkZWD3ONngm",
        "colab_type": "code",
        "colab": {
          "base_uri": "https://localhost:8080/",
          "height": 35
        },
        "outputId": "92e92b3b-8753-4679-b65e-1db8f8cc4ee0"
      },
      "source": [
        "mad9=stats.median_absolute_deviation(data9)\n",
        "mad9\n",
        "mad99=stats.median_absolute_deviation(mad9)\n",
        "mad99"
      ],
      "execution_count": 54,
      "outputs": [
        {
          "output_type": "execute_result",
          "data": {
            "text/plain": [
              "27.68906824418157"
            ]
          },
          "metadata": {
            "tags": []
          },
          "execution_count": 54
        }
      ]
    },
    {
      "cell_type": "code",
      "metadata": {
        "id": "RmXv56aNNneQ",
        "colab_type": "code",
        "colab": {}
      },
      "source": [
        "mad8=stats.median_absolute_deviation(data8)\n",
        "mad8\n",
        "mad88=stats.median_absolute_deviation(mad8)\n",
        "mad88"
      ],
      "execution_count": 0,
      "outputs": []
    },
    {
      "cell_type": "code",
      "metadata": {
        "id": "gOQvbtQeNnb9",
        "colab_type": "code",
        "colab": {
          "base_uri": "https://localhost:8080/",
          "height": 35
        },
        "outputId": "7f4cbd12-a5d6-4f07-fb91-80c05a59be89"
      },
      "source": [
        "mad9=stats.median_absolute_deviation(data9)\n",
        "mad9\n",
        "mad99=stats.median_absolute_deviation(mad9)\n",
        "mad99"
      ],
      "execution_count": 48,
      "outputs": [
        {
          "output_type": "execute_result",
          "data": {
            "text/plain": [
              "27.68906824418157"
            ]
          },
          "metadata": {
            "tags": []
          },
          "execution_count": 48
        }
      ]
    },
    {
      "cell_type": "code",
      "metadata": {
        "id": "nUqRO_-wOXDH",
        "colab_type": "code",
        "colab": {}
      },
      "source": [
        "mad10=stats.median_absolute_deviation(data10)\n",
        "mad10\n",
        "mad100=stats.median_absolute_deviation(mad10)\n",
        "mad100"
      ],
      "execution_count": 0,
      "outputs": []
    },
    {
      "cell_type": "code",
      "metadata": {
        "id": "qndN8A_QOW_F",
        "colab_type": "code",
        "colab": {}
      },
      "source": [
        "mad11=stats.median_absolute_deviation(data11)\n",
        "mad11\n",
        "mad111=stats.median_absolute_deviation(mad11)\n",
        "mad111"
      ],
      "execution_count": 0,
      "outputs": []
    },
    {
      "cell_type": "code",
      "metadata": {
        "id": "n2qUCUH6OW5l",
        "colab_type": "code",
        "colab": {}
      },
      "source": [
        "mad12=stats.median_absolute_deviation(data12)\n",
        "mad12\n",
        "mad122=stats.median_absolute_deviation(mad12)\n",
        "mad122"
      ],
      "execution_count": 0,
      "outputs": []
    },
    {
      "cell_type": "code",
      "metadata": {
        "id": "8E9wV7x5Ow4_",
        "colab_type": "code",
        "colab": {
          "base_uri": "https://localhost:8080/",
          "height": 145
        },
        "outputId": "e906b95c-62f5-4011-f388-9309e7c6779e"
      },
      "source": [
        "s1=pywt.threshold(data1, mad11, 'soft')\n",
        "s1"
      ],
      "execution_count": 46,
      "outputs": [
        {
          "output_type": "execute_result",
          "data": {
            "text/plain": [
              "array([[ 0.        ,  0.        ,  0.        ,  0.        ,  0.78734378],\n",
              "       [-0.        ,  0.        ,  0.        , -0.        ,  0.78734378],\n",
              "       [-0.03952203,  0.        ,  0.11594385, -0.1320222 ,  0.78734378],\n",
              "       ...,\n",
              "       [ 7.76037993,  3.47683879,  1.42245346,  1.85513195,  0.        ],\n",
              "       [ 6.50194615,  3.46474666,  1.18585865,  1.69315246,  0.        ],\n",
              "       [ 5.46809418,  3.89794983,  0.8872295 ,  2.04597948,  0.        ]])"
            ]
          },
          "metadata": {
            "tags": []
          },
          "execution_count": 46
        }
      ]
    },
    {
      "cell_type": "code",
      "metadata": {
        "id": "QW30I9olOw2q",
        "colab_type": "code",
        "colab": {
          "base_uri": "https://localhost:8080/",
          "height": 145
        },
        "outputId": "619788f0-ef25-4aa4-875a-cf44753d5bb2"
      },
      "source": [
        "h1=pywt.threshold(data1, mad11, 'hard')\n",
        "h1"
      ],
      "execution_count": 47,
      "outputs": [
        {
          "output_type": "execute_result",
          "data": {
            "text/plain": [
              "array([[ 0.        ,  0.        ,  0.        ,  0.        ,  1.        ],\n",
              "       [ 0.        ,  0.        ,  0.        ,  0.        ,  1.        ],\n",
              "       [-0.25217825,  0.        ,  0.32860007, -0.34467842,  1.        ],\n",
              "       ...,\n",
              "       [ 7.97303615,  3.68949502,  1.63510968,  2.06778817,  0.        ],\n",
              "       [ 6.71460238,  3.67740288,  1.39851488,  1.90580868,  0.        ],\n",
              "       [ 5.6807504 ,  4.11060606,  1.09988573,  2.2586357 ,  0.        ]])"
            ]
          },
          "metadata": {
            "tags": []
          },
          "execution_count": 47
        }
      ]
    },
    {
      "cell_type": "code",
      "metadata": {
        "id": "ld6EoNqlOwxM",
        "colab_type": "code",
        "colab": {}
      },
      "source": [
        ""
      ],
      "execution_count": 0,
      "outputs": []
    },
    {
      "cell_type": "code",
      "metadata": {
        "id": "iWQdb4hyOwuj",
        "colab_type": "code",
        "colab": {}
      },
      "source": [
        ""
      ],
      "execution_count": 0,
      "outputs": []
    },
    {
      "cell_type": "code",
      "metadata": {
        "id": "e0K0Gx7aOwse",
        "colab_type": "code",
        "colab": {}
      },
      "source": [
        ""
      ],
      "execution_count": 0,
      "outputs": []
    },
    {
      "cell_type": "code",
      "metadata": {
        "id": "UAs8wDcYKXxh",
        "colab_type": "code",
        "colab": {}
      },
      "source": [
        "from sklearn.ensemble import RandomForestClassifier\n",
        "from sklearn.datasets import make_classification\n",
        "from sklearn.metrics import confusion_matrix\n",
        "from sklearn.metrics import accuracy_score\n",
        "clf=RandomForestClassifier(n_estimators=128, min_samples_leaf=3, max_features=0.5, n_jobs=2,random_state=0)\n"
      ],
      "execution_count": 0,
      "outputs": []
    },
    {
      "cell_type": "code",
      "metadata": {
        "id": "uGwxPrfZJA0J",
        "colab_type": "code",
        "colab": {}
      },
      "source": [
        "clf.fit(xtrain, ytrain)"
      ],
      "execution_count": 0,
      "outputs": []
    },
    {
      "cell_type": "code",
      "metadata": {
        "id": "Gba4wAE4KOnI",
        "colab_type": "code",
        "colab": {}
      },
      "source": [
        ""
      ],
      "execution_count": 0,
      "outputs": []
    },
    {
      "cell_type": "code",
      "metadata": {
        "id": "Rs2yGpsFKOk8",
        "colab_type": "code",
        "colab": {}
      },
      "source": [
        ""
      ],
      "execution_count": 0,
      "outputs": []
    },
    {
      "cell_type": "code",
      "metadata": {
        "id": "7BfCgGuvKOcj",
        "colab_type": "code",
        "colab": {}
      },
      "source": [
        ""
      ],
      "execution_count": 0,
      "outputs": []
    },
    {
      "cell_type": "code",
      "metadata": {
        "id": "HfWrDZZNJAx2",
        "colab_type": "code",
        "colab": {}
      },
      "source": [
        ""
      ],
      "execution_count": 0,
      "outputs": []
    },
    {
      "cell_type": "markdown",
      "metadata": {
        "id": "GCXo5WlX5THS",
        "colab_type": "text"
      },
      "source": [
        "Pre Processing of making 3d array"
      ]
    },
    {
      "cell_type": "code",
      "metadata": {
        "id": "SM7Tt-0Af00W",
        "colab_type": "code",
        "colab": {}
      },
      "source": [
        "data1=data1[:25600]"
      ],
      "execution_count": 0,
      "outputs": []
    },
    {
      "cell_type": "code",
      "metadata": {
        "id": "N9uwFGq4Bz9N",
        "colab_type": "code",
        "colab": {}
      },
      "source": [
        "dfy=data1['case']"
      ],
      "execution_count": 0,
      "outputs": []
    },
    {
      "cell_type": "code",
      "metadata": {
        "id": "jwvqb4wfB69y",
        "colab_type": "code",
        "outputId": "97a2d8b6-7ef3-471e-e038-5cd61bc440ba",
        "colab": {
          "base_uri": "https://localhost:8080/",
          "height": 81
        }
      },
      "source": [
        "dfx=data1.drop(['case'],axis=1)\n",
        "dfx.head(1)"
      ],
      "execution_count": 0,
      "outputs": [
        {
          "output_type": "execute_result",
          "data": {
            "text/html": [
              "<div>\n",
              "<style scoped>\n",
              "    .dataframe tbody tr th:only-of-type {\n",
              "        vertical-align: middle;\n",
              "    }\n",
              "\n",
              "    .dataframe tbody tr th {\n",
              "        vertical-align: top;\n",
              "    }\n",
              "\n",
              "    .dataframe thead th {\n",
              "        text-align: right;\n",
              "    }\n",
              "</style>\n",
              "<table border=\"1\" class=\"dataframe\">\n",
              "  <thead>\n",
              "    <tr style=\"text-align: right;\">\n",
              "      <th></th>\n",
              "      <th>P7</th>\n",
              "      <th>P8</th>\n",
              "      <th>O1</th>\n",
              "      <th>O2</th>\n",
              "    </tr>\n",
              "  </thead>\n",
              "  <tbody>\n",
              "    <tr>\n",
              "      <th>0</th>\n",
              "      <td>0.019579</td>\n",
              "      <td>0.031368</td>\n",
              "      <td>0.049292</td>\n",
              "      <td>0.031376</td>\n",
              "    </tr>\n",
              "  </tbody>\n",
              "</table>\n",
              "</div>"
            ],
            "text/plain": [
              "         P7        P8        O1        O2\n",
              "0  0.019579  0.031368  0.049292  0.031376"
            ]
          },
          "metadata": {
            "tags": []
          },
          "execution_count": 108
        }
      ]
    },
    {
      "cell_type": "code",
      "metadata": {
        "id": "d4ol0wM3awOv",
        "colab_type": "code",
        "outputId": "8cd2c062-96b3-4d21-ee13-3ff319768d53",
        "colab": {
          "base_uri": "https://localhost:8080/",
          "height": 35
        }
      },
      "source": [
        "data1.shape"
      ],
      "execution_count": 0,
      "outputs": [
        {
          "output_type": "execute_result",
          "data": {
            "text/plain": [
              "(25600, 5)"
            ]
          },
          "metadata": {
            "tags": []
          },
          "execution_count": 109
        }
      ]
    },
    {
      "cell_type": "code",
      "metadata": {
        "id": "KLsqTi4Ch4m1",
        "colab_type": "code",
        "outputId": "0f364682-796a-4e34-dcdd-346e4da922ab",
        "colab": {
          "base_uri": "https://localhost:8080/",
          "height": 35
        }
      },
      "source": [
        "dfx.shape"
      ],
      "execution_count": 0,
      "outputs": [
        {
          "output_type": "execute_result",
          "data": {
            "text/plain": [
              "(25600, 4)"
            ]
          },
          "metadata": {
            "tags": []
          },
          "execution_count": 110
        }
      ]
    },
    {
      "cell_type": "code",
      "metadata": {
        "id": "mhSguRrMiJ4T",
        "colab_type": "code",
        "outputId": "248183bd-23d0-4323-ad28-56580f3494d2",
        "colab": {
          "base_uri": "https://localhost:8080/",
          "height": 35
        }
      },
      "source": [
        "xd=np.asarray(dfx)\n",
        "type(xd)"
      ],
      "execution_count": 0,
      "outputs": [
        {
          "output_type": "execute_result",
          "data": {
            "text/plain": [
              "numpy.ndarray"
            ]
          },
          "metadata": {
            "tags": []
          },
          "execution_count": 114
        }
      ]
    },
    {
      "cell_type": "code",
      "metadata": {
        "id": "KwVOPnP1iRR4",
        "colab_type": "code",
        "colab": {}
      },
      "source": [
        "xd=xd.reshape(100,256,4)"
      ],
      "execution_count": 0,
      "outputs": []
    },
    {
      "cell_type": "code",
      "metadata": {
        "id": "nDcML5-eVjqC",
        "colab_type": "code",
        "colab": {}
      },
      "source": [
        "xtrain=xd"
      ],
      "execution_count": 0,
      "outputs": []
    },
    {
      "cell_type": "code",
      "metadata": {
        "id": "rvN3Xo70kPeW",
        "colab_type": "code",
        "colab": {}
      },
      "source": [
        ""
      ],
      "execution_count": 0,
      "outputs": []
    },
    {
      "cell_type": "code",
      "metadata": {
        "id": "I0er-G6UkPaE",
        "colab_type": "code",
        "outputId": "a9524ec6-aa03-4445-ae8c-d13b0631f667",
        "colab": {
          "base_uri": "https://localhost:8080/",
          "height": 35
        }
      },
      "source": [
        "dfy.shape"
      ],
      "execution_count": 0,
      "outputs": [
        {
          "output_type": "execute_result",
          "data": {
            "text/plain": [
              "(25600,)"
            ]
          },
          "metadata": {
            "tags": []
          },
          "execution_count": 140
        }
      ]
    },
    {
      "cell_type": "code",
      "metadata": {
        "id": "BL0wAZUGkPTI",
        "colab_type": "code",
        "colab": {}
      },
      "source": [
        "yd=np.asarray(dfy)"
      ],
      "execution_count": 0,
      "outputs": []
    },
    {
      "cell_type": "code",
      "metadata": {
        "id": "IIfvWFDxkO-R",
        "colab_type": "code",
        "colab": {}
      },
      "source": [
        "yd=np.asarray(dfy)\n",
        "yd=yd.reshape(25,256,4)\n",
        "ytrain=yd"
      ],
      "execution_count": 0,
      "outputs": []
    },
    {
      "cell_type": "code",
      "metadata": {
        "id": "SPbfi691k3Lw",
        "colab_type": "code",
        "colab": {}
      },
      "source": [
        "ytrain=yd"
      ],
      "execution_count": 0,
      "outputs": []
    },
    {
      "cell_type": "code",
      "metadata": {
        "id": "bc4WRy4Kk25P",
        "colab_type": "code",
        "colab": {}
      },
      "source": [
        ""
      ],
      "execution_count": 0,
      "outputs": []
    },
    {
      "cell_type": "code",
      "metadata": {
        "id": "HXw7VpZKBw0V",
        "colab_type": "code",
        "outputId": "69e610ab-7ec0-40f8-9199-3d4865d8ab72",
        "colab": {
          "base_uri": "https://localhost:8080/",
          "height": 81
        }
      },
      "source": [
        "d1=pd.read_csv(\"/content/drive/My Drive/COLAB Files/ddata/alwyn_combine_1.csv\")\n",
        "d1.head(1)"
      ],
      "execution_count": 0,
      "outputs": [
        {
          "output_type": "execute_result",
          "data": {
            "text/html": [
              "<div>\n",
              "<style scoped>\n",
              "    .dataframe tbody tr th:only-of-type {\n",
              "        vertical-align: middle;\n",
              "    }\n",
              "\n",
              "    .dataframe tbody tr th {\n",
              "        vertical-align: top;\n",
              "    }\n",
              "\n",
              "    .dataframe thead th {\n",
              "        text-align: right;\n",
              "    }\n",
              "</style>\n",
              "<table border=\"1\" class=\"dataframe\">\n",
              "  <thead>\n",
              "    <tr style=\"text-align: right;\">\n",
              "      <th></th>\n",
              "      <th>time in sec</th>\n",
              "      <th>P7</th>\n",
              "      <th>P8</th>\n",
              "      <th>O1</th>\n",
              "      <th>O2</th>\n",
              "      <th>case</th>\n",
              "    </tr>\n",
              "  </thead>\n",
              "  <tbody>\n",
              "    <tr>\n",
              "      <th>0</th>\n",
              "      <td>1</td>\n",
              "      <td>1.919887</td>\n",
              "      <td>2.501204</td>\n",
              "      <td>3.080694</td>\n",
              "      <td>2.074751</td>\n",
              "      <td>1</td>\n",
              "    </tr>\n",
              "  </tbody>\n",
              "</table>\n",
              "</div>"
            ],
            "text/plain": [
              "   time in sec        P7        P8        O1        O2  case\n",
              "0            1  1.919887  2.501204  3.080694  2.074751     1"
            ]
          },
          "metadata": {
            "tags": []
          },
          "execution_count": 131
        }
      ]
    },
    {
      "cell_type": "code",
      "metadata": {
        "id": "pqNylL-0B_7J",
        "colab_type": "code",
        "outputId": "7f01e01b-36e8-4faa-cca9-ba01bd0f164f",
        "colab": {
          "base_uri": "https://localhost:8080/",
          "height": 81
        }
      },
      "source": [
        "d1=d1.drop(['time in sec'],axis=1)\n",
        "d1.head(1)"
      ],
      "execution_count": 0,
      "outputs": [
        {
          "output_type": "execute_result",
          "data": {
            "text/html": [
              "<div>\n",
              "<style scoped>\n",
              "    .dataframe tbody tr th:only-of-type {\n",
              "        vertical-align: middle;\n",
              "    }\n",
              "\n",
              "    .dataframe tbody tr th {\n",
              "        vertical-align: top;\n",
              "    }\n",
              "\n",
              "    .dataframe thead th {\n",
              "        text-align: right;\n",
              "    }\n",
              "</style>\n",
              "<table border=\"1\" class=\"dataframe\">\n",
              "  <thead>\n",
              "    <tr style=\"text-align: right;\">\n",
              "      <th></th>\n",
              "      <th>P7</th>\n",
              "      <th>P8</th>\n",
              "      <th>O1</th>\n",
              "      <th>O2</th>\n",
              "      <th>case</th>\n",
              "    </tr>\n",
              "  </thead>\n",
              "  <tbody>\n",
              "    <tr>\n",
              "      <th>0</th>\n",
              "      <td>1.919887</td>\n",
              "      <td>2.501204</td>\n",
              "      <td>3.080694</td>\n",
              "      <td>2.074751</td>\n",
              "      <td>1</td>\n",
              "    </tr>\n",
              "  </tbody>\n",
              "</table>\n",
              "</div>"
            ],
            "text/plain": [
              "         P7        P8        O1        O2  case\n",
              "0  1.919887  2.501204  3.080694  2.074751     1"
            ]
          },
          "metadata": {
            "tags": []
          },
          "execution_count": 132
        }
      ]
    },
    {
      "cell_type": "code",
      "metadata": {
        "id": "UNPf-Ob_jCXX",
        "colab_type": "code",
        "outputId": "67a4a730-4f49-4aec-82bf-f466ab7cbc40",
        "colab": {
          "base_uri": "https://localhost:8080/",
          "height": 35
        }
      },
      "source": [
        "d1.shape"
      ],
      "execution_count": 0,
      "outputs": [
        {
          "output_type": "execute_result",
          "data": {
            "text/plain": [
              "(16793, 5)"
            ]
          },
          "metadata": {
            "tags": []
          },
          "execution_count": 133
        }
      ]
    },
    {
      "cell_type": "code",
      "metadata": {
        "id": "eS7iBx8gjWaA",
        "colab_type": "code",
        "colab": {}
      },
      "source": [
        "d1=d1[:16384]"
      ],
      "execution_count": 0,
      "outputs": []
    },
    {
      "cell_type": "code",
      "metadata": {
        "id": "D5s5oYI0jCNS",
        "colab_type": "code",
        "colab": {}
      },
      "source": [
        ""
      ],
      "execution_count": 0,
      "outputs": []
    },
    {
      "cell_type": "code",
      "metadata": {
        "id": "cEfnHmrjCCPd",
        "colab_type": "code",
        "colab": {}
      },
      "source": [
        "yts=d1['case']"
      ],
      "execution_count": 0,
      "outputs": []
    },
    {
      "cell_type": "code",
      "metadata": {
        "id": "P6ijWoxPCEKY",
        "colab_type": "code",
        "colab": {}
      },
      "source": [
        "xts=d1.drop(['case'],axis=1)"
      ],
      "execution_count": 0,
      "outputs": []
    },
    {
      "cell_type": "code",
      "metadata": {
        "id": "OPHcoc5Ij7Jl",
        "colab_type": "code",
        "colab": {}
      },
      "source": [
        "xdd=np.asarray(d1)"
      ],
      "execution_count": 0,
      "outputs": []
    },
    {
      "cell_type": "code",
      "metadata": {
        "id": "QLkUiAkjkCVP",
        "colab_type": "code",
        "outputId": "dfb97de5-1cdf-44f3-c1b2-a68cdc26310e",
        "colab": {
          "base_uri": "https://localhost:8080/",
          "height": 35
        }
      },
      "source": [
        "xdd.shape"
      ],
      "execution_count": 0,
      "outputs": [
        {
          "output_type": "execute_result",
          "data": {
            "text/plain": [
              "(80, 256, 4)"
            ]
          },
          "metadata": {
            "tags": []
          },
          "execution_count": 154
        }
      ]
    },
    {
      "cell_type": "code",
      "metadata": {
        "id": "010PqShpj9A0",
        "colab_type": "code",
        "colab": {}
      },
      "source": [
        "xdd=xdd.reshape(80,256,4)\n",
        "xtest=xdd"
      ],
      "execution_count": 0,
      "outputs": []
    },
    {
      "cell_type": "code",
      "metadata": {
        "id": "n7L9S2-MkJSd",
        "colab_type": "code",
        "colab": {}
      },
      "source": [
        "ydd=np.asarray(yts)\n",
        "ydd=ydd.reshape(16,256,4)\n",
        "ytest=ydd"
      ],
      "execution_count": 0,
      "outputs": []
    },
    {
      "cell_type": "code",
      "metadata": {
        "id": "TzDkL-Tgo0B9",
        "colab_type": "code",
        "colab": {}
      },
      "source": [
        ""
      ],
      "execution_count": 0,
      "outputs": []
    },
    {
      "cell_type": "code",
      "metadata": {
        "id": "XT3P_IJek_P1",
        "colab_type": "code",
        "colab": {}
      },
      "source": [
        ""
      ],
      "execution_count": 0,
      "outputs": []
    },
    {
      "cell_type": "code",
      "metadata": {
        "id": "ZhOhGYDDqQUW",
        "colab_type": "code",
        "colab": {}
      },
      "source": [
        "yts=yts[:16000]"
      ],
      "execution_count": 0,
      "outputs": []
    },
    {
      "cell_type": "code",
      "metadata": {
        "id": "TDoF1YpLo5W3",
        "colab_type": "code",
        "outputId": "28044973-5e85-45f4-a558-dea9c9560a90",
        "colab": {
          "base_uri": "https://localhost:8080/",
          "height": 54
        }
      },
      "source": [
        "print(yts.shape)\n",
        "print(dfy.shape)"
      ],
      "execution_count": 0,
      "outputs": [
        {
          "output_type": "stream",
          "text": [
            "(16000,)\n",
            "(25600,)\n"
          ],
          "name": "stdout"
        }
      ]
    },
    {
      "cell_type": "code",
      "metadata": {
        "id": "P7R4cfGXo5TJ",
        "colab_type": "code",
        "colab": {}
      },
      "source": [
        "ydd=np.asarray(yts)\n",
        "ydd=ydd.reshape(80,200)\n",
        "ytest=ydd"
      ],
      "execution_count": 0,
      "outputs": []
    },
    {
      "cell_type": "code",
      "metadata": {
        "id": "_j3nRaR-o5JS",
        "colab_type": "code",
        "colab": {}
      },
      "source": [
        "yd=np.asarray(dfy)\n",
        "yd=yd.reshape(100,256)\n",
        "ytrain=yd"
      ],
      "execution_count": 0,
      "outputs": []
    },
    {
      "cell_type": "code",
      "metadata": {
        "id": "myO_tz2NlRMX",
        "colab_type": "code",
        "outputId": "f427009c-a1bd-4333-80ae-0856dd8dd102",
        "colab": {
          "base_uri": "https://localhost:8080/",
          "height": 90
        }
      },
      "source": [
        "print(xtrain.shape)\n",
        "print(ytrain.shape)\n",
        "print(xtest.shape)\n",
        "print(ytest.shape)\n"
      ],
      "execution_count": 0,
      "outputs": [
        {
          "output_type": "stream",
          "text": [
            "(100, 256, 4)\n",
            "(100, 256)\n",
            "(80, 256, 4)\n",
            "(80, 200)\n"
          ],
          "name": "stdout"
        }
      ]
    },
    {
      "cell_type": "code",
      "metadata": {
        "id": "i0_xW1qFlRJI",
        "colab_type": "code",
        "colab": {}
      },
      "source": [
        ""
      ],
      "execution_count": 0,
      "outputs": []
    },
    {
      "cell_type": "code",
      "metadata": {
        "id": "jdET2li6mUaL",
        "colab_type": "code",
        "colab": {}
      },
      "source": [
        ""
      ],
      "execution_count": 0,
      "outputs": []
    },
    {
      "cell_type": "code",
      "metadata": {
        "id": "lnTKHp2FmUXQ",
        "colab_type": "code",
        "colab": {}
      },
      "source": [
        "model = Sequential()\n",
        "model.add(LSTM(32, input_shape=(256, 4)))\n",
        "model.add(Dense(1))"
      ],
      "execution_count": 0,
      "outputs": []
    },
    {
      "cell_type": "code",
      "metadata": {
        "id": "Qj1d_cQe-l3_",
        "colab_type": "code",
        "colab": {}
      },
      "source": [
        "model.add(LSTM( 256, 4, return_sequences=True)\n",
        "model.add(Dropout(0.2))\n",
        "model.add(LSTM(300))\n",
        "model.add(Dropout(0.2))\n",
        "model.add(Dense(Y_modified.shape[1], activation='softmax'))\n",
        "\n",
        "model.compile(loss='categorical_crossentropy', optimizer='adam')"
      ],
      "execution_count": 0,
      "outputs": []
    },
    {
      "cell_type": "code",
      "metadata": {
        "id": "5Tgto66ImUUa",
        "colab_type": "code",
        "outputId": "2b94913a-1f6f-4121-e472-714876567e68",
        "colab": {
          "base_uri": "https://localhost:8080/",
          "height": 390
        }
      },
      "source": [
        "\n",
        "model.compile(loss='mean_absolute_error', optimizer='adam')\n",
        "model.fit(xtrain,ytrain, nb_epoch=100, batch_size=1, verbose=2)"
      ],
      "execution_count": 0,
      "outputs": [
        {
          "output_type": "stream",
          "text": [
            "/usr/local/lib/python3.6/dist-packages/ipykernel_launcher.py:3: UserWarning: The `nb_epoch` argument in `fit` has been renamed `epochs`.\n",
            "  This is separate from the ipykernel package so we can avoid doing imports until\n"
          ],
          "name": "stderr"
        },
        {
          "output_type": "error",
          "ename": "ValueError",
          "evalue": "ignored",
          "traceback": [
            "\u001b[0;31m---------------------------------------------------------------------------\u001b[0m",
            "\u001b[0;31mValueError\u001b[0m                                Traceback (most recent call last)",
            "\u001b[0;32m<ipython-input-182-e33e37f20fae>\u001b[0m in \u001b[0;36m<module>\u001b[0;34m()\u001b[0m\n\u001b[1;32m      1\u001b[0m \u001b[0;34m\u001b[0m\u001b[0m\n\u001b[1;32m      2\u001b[0m \u001b[0mmodel\u001b[0m\u001b[0;34m.\u001b[0m\u001b[0mcompile\u001b[0m\u001b[0;34m(\u001b[0m\u001b[0mloss\u001b[0m\u001b[0;34m=\u001b[0m\u001b[0;34m'mean_absolute_error'\u001b[0m\u001b[0;34m,\u001b[0m \u001b[0moptimizer\u001b[0m\u001b[0;34m=\u001b[0m\u001b[0;34m'adam'\u001b[0m\u001b[0;34m)\u001b[0m\u001b[0;34m\u001b[0m\u001b[0;34m\u001b[0m\u001b[0m\n\u001b[0;32m----> 3\u001b[0;31m \u001b[0mmodel\u001b[0m\u001b[0;34m.\u001b[0m\u001b[0mfit\u001b[0m\u001b[0;34m(\u001b[0m\u001b[0mxtrain\u001b[0m\u001b[0;34m,\u001b[0m\u001b[0mytrain\u001b[0m\u001b[0;34m,\u001b[0m \u001b[0mnb_epoch\u001b[0m\u001b[0;34m=\u001b[0m\u001b[0;36m100\u001b[0m\u001b[0;34m,\u001b[0m \u001b[0mbatch_size\u001b[0m\u001b[0;34m=\u001b[0m\u001b[0;36m1\u001b[0m\u001b[0;34m,\u001b[0m \u001b[0mverbose\u001b[0m\u001b[0;34m=\u001b[0m\u001b[0;36m2\u001b[0m\u001b[0;34m)\u001b[0m\u001b[0;34m\u001b[0m\u001b[0;34m\u001b[0m\u001b[0m\n\u001b[0m",
            "\u001b[0;32m/usr/local/lib/python3.6/dist-packages/keras/engine/training.py\u001b[0m in \u001b[0;36mfit\u001b[0;34m(self, x, y, batch_size, epochs, verbose, callbacks, validation_split, validation_data, shuffle, class_weight, sample_weight, initial_epoch, steps_per_epoch, validation_steps, validation_freq, max_queue_size, workers, use_multiprocessing, **kwargs)\u001b[0m\n\u001b[1;32m   1087\u001b[0m             \u001b[0msample_weight\u001b[0m\u001b[0;34m=\u001b[0m\u001b[0msample_weight\u001b[0m\u001b[0;34m,\u001b[0m\u001b[0;34m\u001b[0m\u001b[0;34m\u001b[0m\u001b[0m\n\u001b[1;32m   1088\u001b[0m             \u001b[0mclass_weight\u001b[0m\u001b[0;34m=\u001b[0m\u001b[0mclass_weight\u001b[0m\u001b[0;34m,\u001b[0m\u001b[0;34m\u001b[0m\u001b[0;34m\u001b[0m\u001b[0m\n\u001b[0;32m-> 1089\u001b[0;31m             batch_size=batch_size)\n\u001b[0m\u001b[1;32m   1090\u001b[0m \u001b[0;34m\u001b[0m\u001b[0m\n\u001b[1;32m   1091\u001b[0m         \u001b[0;31m# Prepare validation data.\u001b[0m\u001b[0;34m\u001b[0m\u001b[0;34m\u001b[0m\u001b[0;34m\u001b[0m\u001b[0m\n",
            "\u001b[0;32m/usr/local/lib/python3.6/dist-packages/keras/engine/training.py\u001b[0m in \u001b[0;36m_standardize_user_data\u001b[0;34m(self, x, y, sample_weight, class_weight, check_array_lengths, batch_size)\u001b[0m\n\u001b[1;32m    793\u001b[0m                 \u001b[0mfeed_output_shapes\u001b[0m\u001b[0;34m,\u001b[0m\u001b[0;34m\u001b[0m\u001b[0;34m\u001b[0m\u001b[0m\n\u001b[1;32m    794\u001b[0m                 \u001b[0mcheck_batch_axis\u001b[0m\u001b[0;34m=\u001b[0m\u001b[0;32mFalse\u001b[0m\u001b[0;34m,\u001b[0m  \u001b[0;31m# Don't enforce the batch size.\u001b[0m\u001b[0;34m\u001b[0m\u001b[0;34m\u001b[0m\u001b[0m\n\u001b[0;32m--> 795\u001b[0;31m                 exception_prefix='target')\n\u001b[0m\u001b[1;32m    796\u001b[0m \u001b[0;34m\u001b[0m\u001b[0m\n\u001b[1;32m    797\u001b[0m             \u001b[0;31m# Generate sample-wise weight values given the `sample_weight` and\u001b[0m\u001b[0;34m\u001b[0m\u001b[0;34m\u001b[0m\u001b[0;34m\u001b[0m\u001b[0m\n",
            "\u001b[0;32m/usr/local/lib/python3.6/dist-packages/keras/engine/training_utils.py\u001b[0m in \u001b[0;36mstandardize_input_data\u001b[0;34m(data, names, shapes, check_batch_axis, exception_prefix)\u001b[0m\n\u001b[1;32m    139\u001b[0m                             \u001b[0;34m': expected '\u001b[0m \u001b[0;34m+\u001b[0m \u001b[0mnames\u001b[0m\u001b[0;34m[\u001b[0m\u001b[0mi\u001b[0m\u001b[0;34m]\u001b[0m \u001b[0;34m+\u001b[0m \u001b[0;34m' to have shape '\u001b[0m \u001b[0;34m+\u001b[0m\u001b[0;34m\u001b[0m\u001b[0;34m\u001b[0m\u001b[0m\n\u001b[1;32m    140\u001b[0m                             \u001b[0mstr\u001b[0m\u001b[0;34m(\u001b[0m\u001b[0mshape\u001b[0m\u001b[0;34m)\u001b[0m \u001b[0;34m+\u001b[0m \u001b[0;34m' but got array with shape '\u001b[0m \u001b[0;34m+\u001b[0m\u001b[0;34m\u001b[0m\u001b[0;34m\u001b[0m\u001b[0m\n\u001b[0;32m--> 141\u001b[0;31m                             str(data_shape))\n\u001b[0m\u001b[1;32m    142\u001b[0m     \u001b[0;32mreturn\u001b[0m \u001b[0mdata\u001b[0m\u001b[0;34m\u001b[0m\u001b[0;34m\u001b[0m\u001b[0m\n\u001b[1;32m    143\u001b[0m \u001b[0;34m\u001b[0m\u001b[0m\n",
            "\u001b[0;31mValueError\u001b[0m: Error when checking target: expected dense_9 to have shape (1,) but got array with shape (256,)"
          ]
        }
      ]
    },
    {
      "cell_type": "code",
      "metadata": {
        "id": "eGwke2W-n8eY",
        "colab_type": "code",
        "colab": {}
      },
      "source": [
        ""
      ],
      "execution_count": 0,
      "outputs": []
    },
    {
      "cell_type": "code",
      "metadata": {
        "id": "yIUvKSONmURb",
        "colab_type": "code",
        "colab": {}
      },
      "source": [
        ""
      ],
      "execution_count": 0,
      "outputs": []
    },
    {
      "cell_type": "code",
      "metadata": {
        "id": "0h5AkpbJItLd",
        "colab_type": "code",
        "colab": {}
      },
      "source": [
        "#from sklearn.model_selection import train_test_split\n",
        "#X_train, X_test, y_train, y_test = train_test_split(X, y, test_size = 0.20)"
      ],
      "execution_count": 0,
      "outputs": []
    },
    {
      "cell_type": "code",
      "metadata": {
        "id": "hufm-0GgItI6",
        "colab_type": "code",
        "outputId": "70a2379a-da50-4d4e-cf5c-aacf62067af9",
        "colab": {
          "base_uri": "https://localhost:8080/",
          "height": 357
        }
      },
      "source": [
        "from sklearn.svm import SVC\n",
        "svclassifier = SVC(kernel='linear')\n",
        "svclassifier.fit(xtrain, ytrain)"
      ],
      "execution_count": 0,
      "outputs": [
        {
          "output_type": "error",
          "ename": "ValueError",
          "evalue": "ignored",
          "traceback": [
            "\u001b[0;31m---------------------------------------------------------------------------\u001b[0m",
            "\u001b[0;31mValueError\u001b[0m                                Traceback (most recent call last)",
            "\u001b[0;32m<ipython-input-183-f55008b32643>\u001b[0m in \u001b[0;36m<module>\u001b[0;34m()\u001b[0m\n\u001b[1;32m      1\u001b[0m \u001b[0;32mfrom\u001b[0m \u001b[0msklearn\u001b[0m\u001b[0;34m.\u001b[0m\u001b[0msvm\u001b[0m \u001b[0;32mimport\u001b[0m \u001b[0mSVC\u001b[0m\u001b[0;34m\u001b[0m\u001b[0;34m\u001b[0m\u001b[0m\n\u001b[1;32m      2\u001b[0m \u001b[0msvclassifier\u001b[0m \u001b[0;34m=\u001b[0m \u001b[0mSVC\u001b[0m\u001b[0;34m(\u001b[0m\u001b[0mkernel\u001b[0m\u001b[0;34m=\u001b[0m\u001b[0;34m'linear'\u001b[0m\u001b[0;34m)\u001b[0m\u001b[0;34m\u001b[0m\u001b[0;34m\u001b[0m\u001b[0m\n\u001b[0;32m----> 3\u001b[0;31m \u001b[0msvclassifier\u001b[0m\u001b[0;34m.\u001b[0m\u001b[0mfit\u001b[0m\u001b[0;34m(\u001b[0m\u001b[0mxtrain\u001b[0m\u001b[0;34m,\u001b[0m \u001b[0mytrain\u001b[0m\u001b[0;34m)\u001b[0m\u001b[0;34m\u001b[0m\u001b[0;34m\u001b[0m\u001b[0m\n\u001b[0m",
            "\u001b[0;32m/usr/local/lib/python3.6/dist-packages/sklearn/svm/base.py\u001b[0m in \u001b[0;36mfit\u001b[0;34m(self, X, y, sample_weight)\u001b[0m\n\u001b[1;32m    144\u001b[0m         X, y = check_X_y(X, y, dtype=np.float64,\n\u001b[1;32m    145\u001b[0m                          \u001b[0morder\u001b[0m\u001b[0;34m=\u001b[0m\u001b[0;34m'C'\u001b[0m\u001b[0;34m,\u001b[0m \u001b[0maccept_sparse\u001b[0m\u001b[0;34m=\u001b[0m\u001b[0;34m'csr'\u001b[0m\u001b[0;34m,\u001b[0m\u001b[0;34m\u001b[0m\u001b[0;34m\u001b[0m\u001b[0m\n\u001b[0;32m--> 146\u001b[0;31m                          accept_large_sparse=False)\n\u001b[0m\u001b[1;32m    147\u001b[0m         \u001b[0my\u001b[0m \u001b[0;34m=\u001b[0m \u001b[0mself\u001b[0m\u001b[0;34m.\u001b[0m\u001b[0m_validate_targets\u001b[0m\u001b[0;34m(\u001b[0m\u001b[0my\u001b[0m\u001b[0;34m)\u001b[0m\u001b[0;34m\u001b[0m\u001b[0;34m\u001b[0m\u001b[0m\n\u001b[1;32m    148\u001b[0m \u001b[0;34m\u001b[0m\u001b[0m\n",
            "\u001b[0;32m/usr/local/lib/python3.6/dist-packages/sklearn/utils/validation.py\u001b[0m in \u001b[0;36mcheck_X_y\u001b[0;34m(X, y, accept_sparse, accept_large_sparse, dtype, order, copy, force_all_finite, ensure_2d, allow_nd, multi_output, ensure_min_samples, ensure_min_features, y_numeric, warn_on_dtype, estimator)\u001b[0m\n\u001b[1;32m    717\u001b[0m                     \u001b[0mensure_min_features\u001b[0m\u001b[0;34m=\u001b[0m\u001b[0mensure_min_features\u001b[0m\u001b[0;34m,\u001b[0m\u001b[0;34m\u001b[0m\u001b[0;34m\u001b[0m\u001b[0m\n\u001b[1;32m    718\u001b[0m                     \u001b[0mwarn_on_dtype\u001b[0m\u001b[0;34m=\u001b[0m\u001b[0mwarn_on_dtype\u001b[0m\u001b[0;34m,\u001b[0m\u001b[0;34m\u001b[0m\u001b[0;34m\u001b[0m\u001b[0m\n\u001b[0;32m--> 719\u001b[0;31m                     estimator=estimator)\n\u001b[0m\u001b[1;32m    720\u001b[0m     \u001b[0;32mif\u001b[0m \u001b[0mmulti_output\u001b[0m\u001b[0;34m:\u001b[0m\u001b[0;34m\u001b[0m\u001b[0;34m\u001b[0m\u001b[0m\n\u001b[1;32m    721\u001b[0m         y = check_array(y, 'csr', force_all_finite=True, ensure_2d=False,\n",
            "\u001b[0;32m/usr/local/lib/python3.6/dist-packages/sklearn/utils/validation.py\u001b[0m in \u001b[0;36mcheck_array\u001b[0;34m(array, accept_sparse, accept_large_sparse, dtype, order, copy, force_all_finite, ensure_2d, allow_nd, ensure_min_samples, ensure_min_features, warn_on_dtype, estimator)\u001b[0m\n\u001b[1;32m    537\u001b[0m         \u001b[0;32mif\u001b[0m \u001b[0;32mnot\u001b[0m \u001b[0mallow_nd\u001b[0m \u001b[0;32mand\u001b[0m \u001b[0marray\u001b[0m\u001b[0;34m.\u001b[0m\u001b[0mndim\u001b[0m \u001b[0;34m>=\u001b[0m \u001b[0;36m3\u001b[0m\u001b[0;34m:\u001b[0m\u001b[0;34m\u001b[0m\u001b[0;34m\u001b[0m\u001b[0m\n\u001b[1;32m    538\u001b[0m             raise ValueError(\"Found array with dim %d. %s expected <= 2.\"\n\u001b[0;32m--> 539\u001b[0;31m                              % (array.ndim, estimator_name))\n\u001b[0m\u001b[1;32m    540\u001b[0m         \u001b[0;32mif\u001b[0m \u001b[0mforce_all_finite\u001b[0m\u001b[0;34m:\u001b[0m\u001b[0;34m\u001b[0m\u001b[0;34m\u001b[0m\u001b[0m\n\u001b[1;32m    541\u001b[0m             _assert_all_finite(array,\n",
            "\u001b[0;31mValueError\u001b[0m: Found array with dim 3. Estimator expected <= 2."
          ]
        }
      ]
    },
    {
      "cell_type": "code",
      "metadata": {
        "id": "o9fBFpOG6hQP",
        "colab_type": "code",
        "colab": {}
      },
      "source": [
        ""
      ],
      "execution_count": 0,
      "outputs": []
    },
    {
      "cell_type": "code",
      "metadata": {
        "id": "cZZqN3sp6hNg",
        "colab_type": "code",
        "colab": {}
      },
      "source": [
        ""
      ],
      "execution_count": 0,
      "outputs": []
    },
    {
      "cell_type": "code",
      "metadata": {
        "id": "xPdR5gfT6hLf",
        "colab_type": "code",
        "colab": {}
      },
      "source": [
        ""
      ],
      "execution_count": 0,
      "outputs": []
    },
    {
      "cell_type": "code",
      "metadata": {
        "id": "ZcqG5YM76hId",
        "colab_type": "code",
        "colab": {}
      },
      "source": [
        ""
      ],
      "execution_count": 0,
      "outputs": []
    },
    {
      "cell_type": "code",
      "metadata": {
        "id": "GfhEnZiZItGZ",
        "colab_type": "code",
        "colab": {}
      },
      "source": [
        "y_pred = svclassifier.predict(xtest)"
      ],
      "execution_count": 0,
      "outputs": []
    },
    {
      "cell_type": "code",
      "metadata": {
        "id": "wppOvL9VIs-0",
        "colab_type": "code",
        "outputId": "a541d99e-049c-4056-8859-cf452f26b1dc",
        "colab": {
          "base_uri": "https://localhost:8080/",
          "height": 258
        }
      },
      "source": [
        "from sklearn.metrics import classification_report, confusion_matrix\n",
        "print(confusion_matrix(ytest,y_pred))\n",
        "print(classification_report(ytest,y_pred))"
      ],
      "execution_count": 0,
      "outputs": [
        {
          "output_type": "stream",
          "text": [
            "[[8404    0]\n",
            " [8389    0]]\n",
            "              precision    recall  f1-score   support\n",
            "\n",
            "           0       0.50      1.00      0.67      8404\n",
            "           1       0.00      0.00      0.00      8389\n",
            "\n",
            "    accuracy                           0.50     16793\n",
            "   macro avg       0.25      0.50      0.33     16793\n",
            "weighted avg       0.25      0.50      0.33     16793\n",
            "\n"
          ],
          "name": "stdout"
        },
        {
          "output_type": "stream",
          "text": [
            "/usr/local/lib/python3.6/dist-packages/sklearn/metrics/classification.py:1437: UndefinedMetricWarning: Precision and F-score are ill-defined and being set to 0.0 in labels with no predicted samples.\n",
            "  'precision', 'predicted', average, warn_for)\n"
          ],
          "name": "stderr"
        }
      ]
    },
    {
      "cell_type": "code",
      "metadata": {
        "id": "ks8d0e9HIs8H",
        "colab_type": "code",
        "colab": {}
      },
      "source": [
        ""
      ],
      "execution_count": 0,
      "outputs": []
    },
    {
      "cell_type": "code",
      "metadata": {
        "id": "NR-E805MIs3j",
        "colab_type": "code",
        "colab": {}
      },
      "source": [
        ""
      ],
      "execution_count": 0,
      "outputs": []
    },
    {
      "cell_type": "code",
      "metadata": {
        "id": "cc2eLRxoIs09",
        "colab_type": "code",
        "colab": {}
      },
      "source": [
        ""
      ],
      "execution_count": 0,
      "outputs": []
    },
    {
      "cell_type": "code",
      "metadata": {
        "id": "UCJ2uwCaIsyH",
        "colab_type": "code",
        "colab": {}
      },
      "source": [
        ""
      ],
      "execution_count": 0,
      "outputs": []
    },
    {
      "cell_type": "code",
      "metadata": {
        "id": "IkHRAvsICI-m",
        "colab_type": "code",
        "colab": {}
      },
      "source": [
        "from sklearn.ensemble import RandomForestClassifier\n",
        "from sklearn.datasets import make_classification\n",
        "from sklearn.metrics import confusion_matrix\n",
        "from sklearn.metrics import accuracy_score"
      ],
      "execution_count": 0,
      "outputs": []
    },
    {
      "cell_type": "code",
      "metadata": {
        "id": "d5uh-zHtCKue",
        "colab_type": "code",
        "colab": {}
      },
      "source": [
        "#RandomForestRegressor(n_estimators=40, min_samples_leaf=3, max_features=0.5, n_jobs=-1, oob_score=True)\n",
        "clf = RandomForestClassifier(n_estimators=128, max_depth=4,random_state=0)"
      ],
      "execution_count": 0,
      "outputs": []
    },
    {
      "cell_type": "code",
      "metadata": {
        "id": "iWofWluZCMpP",
        "colab_type": "code",
        "outputId": "e0ae1742-49b5-456b-e086-bbb018f35a15",
        "colab": {
          "base_uri": "https://localhost:8080/",
          "height": 146
        }
      },
      "source": [
        "clf.fit(xtrain, ytrain)"
      ],
      "execution_count": 0,
      "outputs": [
        {
          "output_type": "execute_result",
          "data": {
            "text/plain": [
              "RandomForestClassifier(bootstrap=True, class_weight=None, criterion='gini',\n",
              "                       max_depth=4, max_features='auto', max_leaf_nodes=None,\n",
              "                       min_impurity_decrease=0.0, min_impurity_split=None,\n",
              "                       min_samples_leaf=1, min_samples_split=2,\n",
              "                       min_weight_fraction_leaf=0.0, n_estimators=128,\n",
              "                       n_jobs=None, oob_score=False, random_state=0, verbose=0,\n",
              "                       warm_start=False)"
            ]
          },
          "metadata": {
            "tags": []
          },
          "execution_count": 28
        }
      ]
    },
    {
      "cell_type": "code",
      "metadata": {
        "id": "XocmtAbFCOaN",
        "colab_type": "code",
        "outputId": "79a653a2-4620-4c2e-fa54-3aed621ecdbe",
        "colab": {
          "base_uri": "https://localhost:8080/",
          "height": 35
        }
      },
      "source": [
        "print(clf.feature_importances_)"
      ],
      "execution_count": 0,
      "outputs": [
        {
          "output_type": "stream",
          "text": [
            "[0.40578828 0.22163629 0.14888115 0.22369427]\n"
          ],
          "name": "stdout"
        }
      ]
    },
    {
      "cell_type": "code",
      "metadata": {
        "id": "hgb_QH-VCRk-",
        "colab_type": "code",
        "outputId": "7b765f27-42cb-4538-e1b6-a0f54807a895",
        "colab": {
          "base_uri": "https://localhost:8080/",
          "height": 35
        }
      },
      "source": [
        "xdata=clf.predict(xtest)\n",
        "xdata2=clf.predict(xtrain)\n",
        "xdata"
      ],
      "execution_count": 0,
      "outputs": [
        {
          "output_type": "execute_result",
          "data": {
            "text/plain": [
              "array([1, 1, 1, ..., 0, 0, 0])"
            ]
          },
          "metadata": {
            "tags": []
          },
          "execution_count": 30
        }
      ]
    },
    {
      "cell_type": "code",
      "metadata": {
        "id": "MkrTVTAPCTV8",
        "colab_type": "code",
        "colab": {}
      },
      "source": [
        "\n",
        "from sklearn.metrics import confusion_matrix\n",
        "from sklearn.metrics import accuracy_score\n",
        "#confusion_matrix(xdata,ytest)"
      ],
      "execution_count": 0,
      "outputs": []
    },
    {
      "cell_type": "code",
      "metadata": {
        "id": "o5RiKdMNCVlq",
        "colab_type": "code",
        "outputId": "4052ccab-fe2a-427b-a005-f2ac8485001a",
        "colab": {
          "base_uri": "https://localhost:8080/",
          "height": 90
        }
      },
      "source": [
        "ctrain=confusion_matrix(xdata2,ytrain)\n",
        "ctest=confusion_matrix(xdata,ytest)\n",
        "print(ctrain) \n",
        "print(ctest)"
      ],
      "execution_count": 0,
      "outputs": [
        {
          "output_type": "stream",
          "text": [
            "[[6100 4518]\n",
            " [7424 8991]]\n",
            "[[3557 2806]\n",
            " [4847 5583]]\n"
          ],
          "name": "stdout"
        }
      ]
    },
    {
      "cell_type": "code",
      "metadata": {
        "id": "FSAJjccgCXFD",
        "colab_type": "code",
        "outputId": "5bb8ac3f-d368-4206-be14-b73fb4bfa0c0",
        "colab": {
          "base_uri": "https://localhost:8080/",
          "height": 54
        }
      },
      "source": [
        "c1,c2=confusion_matrix(xdata2,ytrain)\n",
        "c3,c4=confusion_matrix(xdata,ytest)\n",
        "tp,fp=c1\n",
        "fn,tn=c2\n",
        "\n",
        "tp1,fp1=c3\n",
        "fn1,tn1=c4\n",
        "\n",
        "print('accuracytrain:',(tp+tn)/(tp+fp+fn+tn))\n",
        "print('accuracytest:',(tp1+tn1)/(tp1+fp1+fn1+tn1))"
      ],
      "execution_count": 0,
      "outputs": [
        {
          "output_type": "stream",
          "text": [
            "accuracytrain: 0.5582436281581771\n",
            "accuracytest: 0.5442744000476389\n"
          ],
          "name": "stdout"
        }
      ]
    },
    {
      "cell_type": "code",
      "metadata": {
        "id": "qBmz93aFCZri",
        "colab_type": "code",
        "colab": {}
      },
      "source": [
        ""
      ],
      "execution_count": 0,
      "outputs": []
    }
  ]
}