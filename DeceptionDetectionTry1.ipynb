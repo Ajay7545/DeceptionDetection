{
  "nbformat": 4,
  "nbformat_minor": 0,
  "metadata": {
    "colab": {
      "name": "DeceptionDetectionTry1.ipynb",
      "provenance": [],
      "include_colab_link": true
    },
    "kernelspec": {
      "name": "python3",
      "display_name": "Python 3"
    }
  },
  "cells": [
    {
      "cell_type": "markdown",
      "metadata": {
        "id": "view-in-github",
        "colab_type": "text"
      },
      "source": [
        "<a href=\"https://colab.research.google.com/github/Ajay7545/DeceptionDetection/blob/master/DeceptionDetectionTry1.ipynb\" target=\"_parent\"><img src=\"https://colab.research.google.com/assets/colab-badge.svg\" alt=\"Open In Colab\"/></a>"
      ]
    },
    {
      "cell_type": "code",
      "metadata": {
        "id": "nlV8NMLm9zcd",
        "colab_type": "code",
        "outputId": "2a7cc099-296a-4ae1-a643-afd69de8f680",
        "colab": {
          "base_uri": "https://localhost:8080/",
          "height": 128
        }
      },
      "source": [
        "from google.colab import drive\n",
        "drive.mount('/content/drive')"
      ],
      "execution_count": 1,
      "outputs": [
        {
          "output_type": "stream",
          "text": [
            "Go to this URL in a browser: https://accounts.google.com/o/oauth2/auth?client_id=947318989803-6bn6qk8qdgf4n4g3pfee6491hc0brc4i.apps.googleusercontent.com&redirect_uri=urn%3Aietf%3Awg%3Aoauth%3A2.0%3Aoob&scope=email%20https%3A%2F%2Fwww.googleapis.com%2Fauth%2Fdocs.test%20https%3A%2F%2Fwww.googleapis.com%2Fauth%2Fdrive%20https%3A%2F%2Fwww.googleapis.com%2Fauth%2Fdrive.photos.readonly%20https%3A%2F%2Fwww.googleapis.com%2Fauth%2Fpeopleapi.readonly&response_type=code\n",
            "\n",
            "Enter your authorization code:\n",
            "··········\n",
            "Mounted at /content/drive\n"
          ],
          "name": "stdout"
        }
      ]
    },
    {
      "cell_type": "code",
      "metadata": {
        "id": "BrQcpvBvR9ax",
        "colab_type": "code",
        "colab": {
          "base_uri": "https://localhost:8080/",
          "height": 35
        },
        "outputId": "dbddc377-e969-4d59-9628-f9553f39a1ba"
      },
      "source": [
        "import time\n",
        "import numpy as np\n",
        "import os\n",
        "from keras import layers, models, callbacks, regularizers, optimizers\n",
        "from keras.layers import advanced_activations\n",
        "import tensorflow as tf\n",
        "import numpy as np\n",
        "import matplotlib.pyplot as plt\n",
        "import pandas as pd\n",
        "from sklearn.svm import LinearSVC\n",
        "from sklearn.metrics import classification_report\n",
        "from sklearn.preprocessing import MinMaxScaler as ms\n",
        "import pandas as pd\n",
        "import numpy as np\n",
        "import numpy\n",
        "import csv\n",
        "import pandas as pd\n",
        "import matplotlib.pyplot as plt\n",
        "import numpy\n",
        "import matplotlib.pyplot as plt\n",
        "import os\n",
        "import glob\n",
        "import datetime as dt\n",
        "\n",
        "from datetime import timedelta\n",
        "import numpy\n",
        "import matplotlib.pyplot as plt\n",
        "from pandas import read_csv\n",
        "import pandas as pd\n",
        "import math\n",
        "from keras.callbacks import Callback\n",
        "from keras.optimizers import adagrad, adam\n",
        "from IPython.display import clear_output\n",
        "from keras.models import Sequential\n",
        "from keras.layers import Dense\n",
        "from keras.layers import LSTM\n",
        "from sklearn.preprocessing import MinMaxScaler\n",
        "from sklearn.metrics import mean_squared_error\n",
        "from sklearn.model_selection import cross_val_score\n",
        "from sklearn.model_selection import train_test_split\n",
        "from sklearn import preprocessing\n",
        "from sklearn.preprocessing import StandardScaler\n",
        "from sklearn.model_selection import StratifiedShuffleSplit\n",
        "from sklearn.ensemble import RandomForestClassifier\n",
        "from sklearn.datasets import make_classification\n",
        "from sklearn.metrics import confusion_matrix\n",
        "from sklearn.metrics import accuracy_score"
      ],
      "execution_count": 2,
      "outputs": [
        {
          "output_type": "stream",
          "text": [
            "Using TensorFlow backend.\n"
          ],
          "name": "stderr"
        }
      ]
    },
    {
      "cell_type": "code",
      "metadata": {
        "id": "0MkigraW90dc",
        "colab_type": "code",
        "outputId": "c3c7fe57-0049-436c-96ca-46a10209b646",
        "colab": {
          "base_uri": "https://localhost:8080/",
          "height": 198
        }
      },
      "source": [
        "df1=pd.read_csv(\"/content/drive/My Drive/COLAB Files/ddata/alwyn_combine_123.csv\")\n",
        "df1.head()"
      ],
      "execution_count": 3,
      "outputs": [
        {
          "output_type": "execute_result",
          "data": {
            "text/html": [
              "<div>\n",
              "<style scoped>\n",
              "    .dataframe tbody tr th:only-of-type {\n",
              "        vertical-align: middle;\n",
              "    }\n",
              "\n",
              "    .dataframe tbody tr th {\n",
              "        vertical-align: top;\n",
              "    }\n",
              "\n",
              "    .dataframe thead th {\n",
              "        text-align: right;\n",
              "    }\n",
              "</style>\n",
              "<table border=\"1\" class=\"dataframe\">\n",
              "  <thead>\n",
              "    <tr style=\"text-align: right;\">\n",
              "      <th></th>\n",
              "      <th>time in sec</th>\n",
              "      <th>P7</th>\n",
              "      <th>P8</th>\n",
              "      <th>O1</th>\n",
              "      <th>O2</th>\n",
              "      <th>case</th>\n",
              "    </tr>\n",
              "  </thead>\n",
              "  <tbody>\n",
              "    <tr>\n",
              "      <th>0</th>\n",
              "      <td>1</td>\n",
              "      <td>1.919887</td>\n",
              "      <td>2.501204</td>\n",
              "      <td>3.080694</td>\n",
              "      <td>2.074751</td>\n",
              "      <td>1</td>\n",
              "    </tr>\n",
              "    <tr>\n",
              "      <th>1</th>\n",
              "      <td>2</td>\n",
              "      <td>1.814434</td>\n",
              "      <td>0.909816</td>\n",
              "      <td>3.112040</td>\n",
              "      <td>0.501960</td>\n",
              "      <td>1</td>\n",
              "    </tr>\n",
              "    <tr>\n",
              "      <th>2</th>\n",
              "      <td>3</td>\n",
              "      <td>1.647871</td>\n",
              "      <td>-0.821347</td>\n",
              "      <td>3.006349</td>\n",
              "      <td>-1.381623</td>\n",
              "      <td>1</td>\n",
              "    </tr>\n",
              "    <tr>\n",
              "      <th>3</th>\n",
              "      <td>4</td>\n",
              "      <td>0.904148</td>\n",
              "      <td>-3.128725</td>\n",
              "      <td>2.175032</td>\n",
              "      <td>-3.619939</td>\n",
              "      <td>1</td>\n",
              "    </tr>\n",
              "    <tr>\n",
              "      <th>4</th>\n",
              "      <td>5</td>\n",
              "      <td>-0.180205</td>\n",
              "      <td>-5.614045</td>\n",
              "      <td>0.504864</td>\n",
              "      <td>-5.903103</td>\n",
              "      <td>1</td>\n",
              "    </tr>\n",
              "  </tbody>\n",
              "</table>\n",
              "</div>"
            ],
            "text/plain": [
              "   time in sec        P7        P8        O1        O2  case\n",
              "0            1  1.919887  2.501204  3.080694  2.074751     1\n",
              "1            2  1.814434  0.909816  3.112040  0.501960     1\n",
              "2            3  1.647871 -0.821347  3.006349 -1.381623     1\n",
              "3            4  0.904148 -3.128725  2.175032 -3.619939     1\n",
              "4            5 -0.180205 -5.614045  0.504864 -5.903103     1"
            ]
          },
          "metadata": {
            "tags": []
          },
          "execution_count": 3
        }
      ]
    },
    {
      "cell_type": "code",
      "metadata": {
        "id": "v9fU_D8j-KhA",
        "colab_type": "code",
        "colab": {}
      },
      "source": [
        "df1=pd.read_csv(\"/content/drive/My Drive/COLAB Files/ddata/alwyn_combine_1.csv\")\n",
        "df2=pd.read_csv(\"/content/drive/My Drive/COLAB Files/ddata/alwyn_fam_1_filt_13.csv\")\n",
        "df3=pd.read_csv(\"/content/drive/My Drive/COLAB Files/ddata/alwyn_non_1_filt_13.csv\")\n",
        "df4=pd.read_csv(\"/content/drive/My Drive/COLAB Files/ddata/deepak_combine_1.csv\")\n",
        "df5=pd.read_csv(\"/content/drive/My Drive/COLAB Files/ddata/deepak_fam_1_filt_13.csv\")\n",
        "\n",
        "df6=pd.read_csv(\"/content/drive/My Drive/COLAB Files/ddata/deepak_non_1_filt_13.csv\")\n",
        "df7=pd.read_csv(\"/content/drive/My Drive/COLAB Files/ddata/deepak_test_1.csv\")\n",
        "df8=pd.read_csv(\"/content/drive/My Drive/COLAB Files/ddata/main_combine_1.csv\")\n",
        "df9=pd.read_csv(\"/content/drive/My Drive/COLAB Files/ddata/main_combine_ica.csv\")\n",
        "df10=pd.read_csv(\"/content/drive/My Drive/COLAB Files/ddata/main_nn_1.csv\")\n",
        "\n",
        "df11=pd.read_csv(\"/content/drive/My Drive/COLAB Files/ddata/main_test_1.csv\")\n",
        "df12=pd.read_csv(\"/content/drive/My Drive/COLAB Files/ddata/main_test_ica.csv\")\n",
        "df13=pd.read_csv(\"/content/drive/My Drive/COLAB Files/ddata/murli_fam_2_filt_13.csv\")\n",
        "df14=pd.read_csv(\"/content/drive/My Drive/COLAB Files/ddata/murli_non_1_filt_13.csv\")\n",
        "df15=pd.read_csv(\"/content/drive/My Drive/COLAB Files/ddata/neeraj_combine_1.csv\")\n",
        "\n",
        "df16=pd.read_csv(\"/content/drive/My Drive/COLAB Files/ddata/neeraj_fam_1_filt_13.csv\")\n",
        "df17=pd.read_csv(\"/content/drive/My Drive/COLAB Files/ddata/neeraj_non_2_filt_13.csv\")\n",
        "df18=pd.read_csv(\"/content/drive/My Drive/COLAB Files/ddata/neeraj_test_1.csv\")\n",
        "df19=pd.read_csv(\"/content/drive/My Drive/COLAB Files/ddata/nikhil_combine_1.csv\")\n",
        "df20=pd.read_csv(\"/content/drive/My Drive/COLAB Files/ddata/nikhil_fam_1_filt_13.csv\")\n",
        "\n",
        "df21=pd.read_csv(\"/content/drive/My Drive/COLAB Files/ddata/nikhil_non_1_filt_13.csv\")\n",
        "df22=pd.read_csv(\"/content/drive/My Drive/COLAB Files/ddata/rahul_combine_1.csv\")\n",
        "df23=pd.read_csv(\"/content/drive/My Drive/COLAB Files/ddata/rahul_fam_1_filt_13.csv\")\n",
        "df24=pd.read_csv(\"/content/drive/My Drive/COLAB Files/ddata/rahul_non_1_filt_13.csv\")\n",
        "df25=pd.read_csv(\"/content/drive/My Drive/COLAB Files/ddata/rakesh_combine_1.csv\")\n",
        "\n",
        "df26=pd.read_csv(\"/content/drive/My Drive/COLAB Files/ddata/rakesh_fam_1_filt_13.csv\")\n",
        "df27=pd.read_csv(\"/content/drive/My Drive/COLAB Files/ddata/rakesh_non_1_filt_13.csv\")\n",
        "df28=pd.read_csv(\"/content/drive/My Drive/COLAB Files/ddata/subham_combine_1.csv\")\n",
        "df29=pd.read_csv(\"/content/drive/My Drive/COLAB Files/ddata/subham_fam_1_filt_13.csv\")\n",
        "df30=pd.read_csv(\"/content/drive/My Drive/COLAB Files/ddata/subham_non_1_filt_13.csv\")\n",
        "\n",
        "df31=pd.read_csv(\"/content/drive/My Drive/COLAB Files/ddata/sunny_fam_1_filt_13.csv\")\n",
        "df32=pd.read_csv(\"/content/drive/My Drive/COLAB Files/ddata/sunny_non_1_filt_13.csv\")\n",
        "df33=pd.read_csv(\"/content/drive/My Drive/COLAB Files/ddata/sus_combine_1.csv\")\n",
        "df34=pd.read_csv(\"/content/drive/My Drive/COLAB Files/ddata/sus_fam_1_filt_13.csv\")\n",
        "df35=pd.read_csv(\"/content/drive/My Drive/COLAB Files/ddata/sus_non_1_filt_13.csv\")\n",
        "\n",
        "df36=pd.read_csv(\"/content/drive/My Drive/COLAB Files/ddata/utkarsh_combine_1.csv\")\n",
        "df37=pd.read_csv(\"/content/drive/My Drive/COLAB Files/ddata/utkarsh_fam_1_filt_13.csv\")\n",
        "df38=pd.read_csv(\"/content/drive/My Drive/COLAB Files/ddata/utkarsh_non_1_filt_13.csv\")\n",
        "df39=pd.read_csv(\"/content/drive/My Drive/COLAB Files/ddata/vageesh_combine_1.csv\")\n",
        "df40=pd.read_csv(\"/content/drive/My Drive/COLAB Files/ddata/vageesh_fam_1_filt_13.csv\")\n",
        "\n",
        "df41=pd.read_csv(\"/content/drive/My Drive/COLAB Files/ddata/vageesh_non_1_filt_13.csv\")"
      ],
      "execution_count": 0,
      "outputs": []
    },
    {
      "cell_type": "code",
      "metadata": {
        "id": "KKk_-X0abwCV",
        "colab_type": "code",
        "colab": {}
      },
      "source": [
        "data=df1.append(df2)\n",
        "data=data.append(df3)\n",
        "data=data.append(df4)\n",
        "data=data.append(df5)\n",
        "data=data.append(df6)\n",
        "data=data.append(df7)\n",
        "data=data.append(df8)\n",
        "data=data.append(df9)\n",
        "data=data.append(df10)\n",
        "data=data.append(df11)\n",
        "data=data.append(df12)\n",
        "data=data.append(df13)\n",
        "data=data.append(df14)\n",
        "data=data.append(df15)\n",
        "data=data.append(df16)\n",
        "data=data.append(df17)\n",
        "data=data.append(df18)\n",
        "data=data.append(df19)\n",
        "data=data.append(df20)\n",
        "data=data.append(df21)\n",
        "data=data.append(df22)\n",
        "data=data.append(df23)\n",
        "data=data.append(df24)\n",
        "data=data.append(df25)\n",
        "data=data.append(df26)\n",
        "data=data.append(df27)\n",
        "data=data.append(df28)\n",
        "data=data.append(df29)\n",
        "data=data.append(df30)\n",
        "data=data.append(df31)\n",
        "data=data.append(df32)\n",
        "data=data.append(df33)\n",
        "data=data.append(df34)\n",
        "data=data.append(df35)\n",
        "data=data.append(df36)\n",
        "data=data.append(df37)\n",
        "data=data.append(df38)\n",
        "data=data.append(df39)\n",
        "data=data.append(df40)\n",
        "data=data.append(df41)\n",
        "data.shape"
      ],
      "execution_count": 0,
      "outputs": []
    },
    {
      "cell_type": "code",
      "metadata": {
        "id": "dVzcnBaBfvnz",
        "colab_type": "code",
        "colab": {}
      },
      "source": [
        "de=pd.read_csv(\"/content/drive/My Drive/COLAB Files/ddata/emotions.csv\")"
      ],
      "execution_count": 0,
      "outputs": []
    },
    {
      "cell_type": "code",
      "metadata": {
        "id": "4QUlCykL_n_x",
        "colab_type": "code",
        "outputId": "65dbc4bd-1e95-446a-b044-2926441323df",
        "colab": {
          "base_uri": "https://localhost:8080/",
          "height": 108
        }
      },
      "source": [
        "df1.head(2)"
      ],
      "execution_count": 0,
      "outputs": [
        {
          "output_type": "execute_result",
          "data": {
            "text/html": [
              "<div>\n",
              "<style scoped>\n",
              "    .dataframe tbody tr th:only-of-type {\n",
              "        vertical-align: middle;\n",
              "    }\n",
              "\n",
              "    .dataframe tbody tr th {\n",
              "        vertical-align: top;\n",
              "    }\n",
              "\n",
              "    .dataframe thead th {\n",
              "        text-align: right;\n",
              "    }\n",
              "</style>\n",
              "<table border=\"1\" class=\"dataframe\">\n",
              "  <thead>\n",
              "    <tr style=\"text-align: right;\">\n",
              "      <th></th>\n",
              "      <th>time in sec</th>\n",
              "      <th>P7</th>\n",
              "      <th>P8</th>\n",
              "      <th>O1</th>\n",
              "      <th>O2</th>\n",
              "      <th>case</th>\n",
              "    </tr>\n",
              "  </thead>\n",
              "  <tbody>\n",
              "    <tr>\n",
              "      <th>0</th>\n",
              "      <td>1</td>\n",
              "      <td>1.919887</td>\n",
              "      <td>2.501204</td>\n",
              "      <td>3.080694</td>\n",
              "      <td>2.074751</td>\n",
              "      <td>1</td>\n",
              "    </tr>\n",
              "    <tr>\n",
              "      <th>1</th>\n",
              "      <td>2</td>\n",
              "      <td>1.814434</td>\n",
              "      <td>0.909816</td>\n",
              "      <td>3.112040</td>\n",
              "      <td>0.501960</td>\n",
              "      <td>1</td>\n",
              "    </tr>\n",
              "  </tbody>\n",
              "</table>\n",
              "</div>"
            ],
            "text/plain": [
              "   time in sec        P7        P8        O1        O2  case\n",
              "0            1  1.919887  2.501204  3.080694  2.074751     1\n",
              "1            2  1.814434  0.909816  3.112040  0.501960     1"
            ]
          },
          "metadata": {
            "tags": []
          },
          "execution_count": 92
        }
      ]
    },
    {
      "cell_type": "code",
      "metadata": {
        "id": "xT71gGqS_qXN",
        "colab_type": "code",
        "outputId": "aca5d5fb-f6a7-41d9-d9f5-c780dd5b5f26",
        "colab": {
          "base_uri": "https://localhost:8080/",
          "height": 108
        }
      },
      "source": [
        "df2.head(2)\n",
        "df4.head(2)\n",
        "df4.rename({\"Sample\":\"time in sec\"},axis=1,inplace=True)\n",
        "df4.head(2)"
      ],
      "execution_count": 0,
      "outputs": [
        {
          "output_type": "execute_result",
          "data": {
            "text/html": [
              "<div>\n",
              "<style scoped>\n",
              "    .dataframe tbody tr th:only-of-type {\n",
              "        vertical-align: middle;\n",
              "    }\n",
              "\n",
              "    .dataframe tbody tr th {\n",
              "        vertical-align: top;\n",
              "    }\n",
              "\n",
              "    .dataframe thead th {\n",
              "        text-align: right;\n",
              "    }\n",
              "</style>\n",
              "<table border=\"1\" class=\"dataframe\">\n",
              "  <thead>\n",
              "    <tr style=\"text-align: right;\">\n",
              "      <th></th>\n",
              "      <th>time in sec</th>\n",
              "      <th>P7</th>\n",
              "      <th>P8</th>\n",
              "      <th>O1</th>\n",
              "      <th>O2</th>\n",
              "      <th>case</th>\n",
              "    </tr>\n",
              "  </thead>\n",
              "  <tbody>\n",
              "    <tr>\n",
              "      <th>0</th>\n",
              "      <td>1</td>\n",
              "      <td>-3.239991</td>\n",
              "      <td>2.845498</td>\n",
              "      <td>2.576851</td>\n",
              "      <td>5.817392</td>\n",
              "      <td>1</td>\n",
              "    </tr>\n",
              "    <tr>\n",
              "      <th>1</th>\n",
              "      <td>2</td>\n",
              "      <td>-3.647375</td>\n",
              "      <td>4.195437</td>\n",
              "      <td>2.032674</td>\n",
              "      <td>5.409704</td>\n",
              "      <td>1</td>\n",
              "    </tr>\n",
              "  </tbody>\n",
              "</table>\n",
              "</div>"
            ],
            "text/plain": [
              "   time in sec        P7        P8        O1        O2  case\n",
              "0            1 -3.239991  2.845498  2.576851  5.817392     1\n",
              "1            2 -3.647375  4.195437  2.032674  5.409704     1"
            ]
          },
          "metadata": {
            "tags": []
          },
          "execution_count": 97
        }
      ]
    },
    {
      "cell_type": "code",
      "metadata": {
        "id": "7eBWR5sB0_hC",
        "colab_type": "code",
        "colab": {}
      },
      "source": [
        "df4.to_csv(\"data4.csv\")"
      ],
      "execution_count": 0,
      "outputs": []
    },
    {
      "cell_type": "code",
      "metadata": {
        "id": "UQNScmnI1EPP",
        "colab_type": "code",
        "outputId": "ab3c0ed6-d2b5-41f1-dd5d-a6cb89499043",
        "colab": {
          "base_uri": "https://localhost:8080/",
          "height": 108
        }
      },
      "source": [
        "df5.head(2)\n",
        "df6.head(2)\n",
        "df6.rename({\"Sample\":\"time in sec\"},axis=1,inplace=True)\n",
        "df6.head(2)"
      ],
      "execution_count": 0,
      "outputs": [
        {
          "output_type": "execute_result",
          "data": {
            "text/html": [
              "<div>\n",
              "<style scoped>\n",
              "    .dataframe tbody tr th:only-of-type {\n",
              "        vertical-align: middle;\n",
              "    }\n",
              "\n",
              "    .dataframe tbody tr th {\n",
              "        vertical-align: top;\n",
              "    }\n",
              "\n",
              "    .dataframe thead th {\n",
              "        text-align: right;\n",
              "    }\n",
              "</style>\n",
              "<table border=\"1\" class=\"dataframe\">\n",
              "  <thead>\n",
              "    <tr style=\"text-align: right;\">\n",
              "      <th></th>\n",
              "      <th>time in sec</th>\n",
              "      <th>P7</th>\n",
              "      <th>P8</th>\n",
              "      <th>O1</th>\n",
              "      <th>O2</th>\n",
              "      <th>case</th>\n",
              "    </tr>\n",
              "  </thead>\n",
              "  <tbody>\n",
              "    <tr>\n",
              "      <th>0</th>\n",
              "      <td>1</td>\n",
              "      <td>-0.222316</td>\n",
              "      <td>-0.068399</td>\n",
              "      <td>-0.209128</td>\n",
              "      <td>-0.162353</td>\n",
              "      <td>0</td>\n",
              "    </tr>\n",
              "    <tr>\n",
              "      <th>1</th>\n",
              "      <td>2</td>\n",
              "      <td>0.361101</td>\n",
              "      <td>0.282927</td>\n",
              "      <td>0.431919</td>\n",
              "      <td>0.699698</td>\n",
              "      <td>0</td>\n",
              "    </tr>\n",
              "  </tbody>\n",
              "</table>\n",
              "</div>"
            ],
            "text/plain": [
              "   time in sec        P7        P8        O1        O2  case\n",
              "0            1 -0.222316 -0.068399 -0.209128 -0.162353     0\n",
              "1            2  0.361101  0.282927  0.431919  0.699698     0"
            ]
          },
          "metadata": {
            "tags": []
          },
          "execution_count": 101
        }
      ]
    },
    {
      "cell_type": "code",
      "metadata": {
        "id": "Kg6clIau1VAy",
        "colab_type": "code",
        "colab": {}
      },
      "source": [
        "df6.to_csv(\"data6.csv\")"
      ],
      "execution_count": 0,
      "outputs": []
    },
    {
      "cell_type": "code",
      "metadata": {
        "id": "-sGiEm6e1b-r",
        "colab_type": "code",
        "outputId": "d7a4d96d-41a1-4a4e-c047-e499b6cd653b",
        "colab": {
          "base_uri": "https://localhost:8080/",
          "height": 108
        }
      },
      "source": [
        "df7.head(2)"
      ],
      "execution_count": 0,
      "outputs": [
        {
          "output_type": "execute_result",
          "data": {
            "text/html": [
              "<div>\n",
              "<style scoped>\n",
              "    .dataframe tbody tr th:only-of-type {\n",
              "        vertical-align: middle;\n",
              "    }\n",
              "\n",
              "    .dataframe tbody tr th {\n",
              "        vertical-align: top;\n",
              "    }\n",
              "\n",
              "    .dataframe thead th {\n",
              "        text-align: right;\n",
              "    }\n",
              "</style>\n",
              "<table border=\"1\" class=\"dataframe\">\n",
              "  <thead>\n",
              "    <tr style=\"text-align: right;\">\n",
              "      <th></th>\n",
              "      <th>Sample</th>\n",
              "      <th>P7</th>\n",
              "      <th>P8</th>\n",
              "      <th>O1</th>\n",
              "      <th>O2</th>\n",
              "      <th>case</th>\n",
              "    </tr>\n",
              "  </thead>\n",
              "  <tbody>\n",
              "    <tr>\n",
              "      <th>0</th>\n",
              "      <td>1</td>\n",
              "      <td>3.846958</td>\n",
              "      <td>3.689288</td>\n",
              "      <td>4.300865</td>\n",
              "      <td>3.229091</td>\n",
              "      <td>1</td>\n",
              "    </tr>\n",
              "    <tr>\n",
              "      <th>1</th>\n",
              "      <td>2</td>\n",
              "      <td>0.167942</td>\n",
              "      <td>2.067021</td>\n",
              "      <td>1.028694</td>\n",
              "      <td>-0.841279</td>\n",
              "      <td>1</td>\n",
              "    </tr>\n",
              "  </tbody>\n",
              "</table>\n",
              "</div>"
            ],
            "text/plain": [
              "   Sample        P7        P8        O1        O2  case\n",
              "0       1  3.846958  3.689288  4.300865  3.229091     1\n",
              "1       2  0.167942  2.067021  1.028694 -0.841279     1"
            ]
          },
          "metadata": {
            "tags": []
          },
          "execution_count": 103
        }
      ]
    },
    {
      "cell_type": "code",
      "metadata": {
        "id": "w_U93BZy13k_",
        "colab_type": "code",
        "outputId": "9d524505-86b3-4cb0-9e52-287338b20f80",
        "colab": {
          "base_uri": "https://localhost:8080/",
          "height": 108
        }
      },
      "source": [
        "df7.rename({\"Sample\":\"time in sec\"},axis=1,inplace=True)\n",
        "df7.to_csv(\"data7.csv\")\n",
        "df7.head(2)"
      ],
      "execution_count": 0,
      "outputs": [
        {
          "output_type": "execute_result",
          "data": {
            "text/html": [
              "<div>\n",
              "<style scoped>\n",
              "    .dataframe tbody tr th:only-of-type {\n",
              "        vertical-align: middle;\n",
              "    }\n",
              "\n",
              "    .dataframe tbody tr th {\n",
              "        vertical-align: top;\n",
              "    }\n",
              "\n",
              "    .dataframe thead th {\n",
              "        text-align: right;\n",
              "    }\n",
              "</style>\n",
              "<table border=\"1\" class=\"dataframe\">\n",
              "  <thead>\n",
              "    <tr style=\"text-align: right;\">\n",
              "      <th></th>\n",
              "      <th>time in sec</th>\n",
              "      <th>P7</th>\n",
              "      <th>P8</th>\n",
              "      <th>O1</th>\n",
              "      <th>O2</th>\n",
              "      <th>case</th>\n",
              "    </tr>\n",
              "  </thead>\n",
              "  <tbody>\n",
              "    <tr>\n",
              "      <th>0</th>\n",
              "      <td>1</td>\n",
              "      <td>3.846958</td>\n",
              "      <td>3.689288</td>\n",
              "      <td>4.300865</td>\n",
              "      <td>3.229091</td>\n",
              "      <td>1</td>\n",
              "    </tr>\n",
              "    <tr>\n",
              "      <th>1</th>\n",
              "      <td>2</td>\n",
              "      <td>0.167942</td>\n",
              "      <td>2.067021</td>\n",
              "      <td>1.028694</td>\n",
              "      <td>-0.841279</td>\n",
              "      <td>1</td>\n",
              "    </tr>\n",
              "  </tbody>\n",
              "</table>\n",
              "</div>"
            ],
            "text/plain": [
              "   time in sec        P7        P8        O1        O2  case\n",
              "0            1  3.846958  3.689288  4.300865  3.229091     1\n",
              "1            2  0.167942  2.067021  1.028694 -0.841279     1"
            ]
          },
          "metadata": {
            "tags": []
          },
          "execution_count": 104
        }
      ]
    },
    {
      "cell_type": "code",
      "metadata": {
        "id": "7BgrWfLV1b6p",
        "colab_type": "code",
        "outputId": "b772b4f1-9a81-4306-ccad-649eb91c59a5",
        "colab": {
          "base_uri": "https://localhost:8080/",
          "height": 108
        }
      },
      "source": [
        "df8.head(2)"
      ],
      "execution_count": 0,
      "outputs": [
        {
          "output_type": "execute_result",
          "data": {
            "text/html": [
              "<div>\n",
              "<style scoped>\n",
              "    .dataframe tbody tr th:only-of-type {\n",
              "        vertical-align: middle;\n",
              "    }\n",
              "\n",
              "    .dataframe tbody tr th {\n",
              "        vertical-align: top;\n",
              "    }\n",
              "\n",
              "    .dataframe thead th {\n",
              "        text-align: right;\n",
              "    }\n",
              "</style>\n",
              "<table border=\"1\" class=\"dataframe\">\n",
              "  <thead>\n",
              "    <tr style=\"text-align: right;\">\n",
              "      <th></th>\n",
              "      <th>Sample</th>\n",
              "      <th>P7</th>\n",
              "      <th>P8</th>\n",
              "      <th>O1</th>\n",
              "      <th>O2</th>\n",
              "      <th>case</th>\n",
              "    </tr>\n",
              "  </thead>\n",
              "  <tbody>\n",
              "    <tr>\n",
              "      <th>0</th>\n",
              "      <td>1</td>\n",
              "      <td>1.919887</td>\n",
              "      <td>2.501204</td>\n",
              "      <td>3.080694</td>\n",
              "      <td>2.074751</td>\n",
              "      <td>1</td>\n",
              "    </tr>\n",
              "    <tr>\n",
              "      <th>1</th>\n",
              "      <td>2</td>\n",
              "      <td>1.814434</td>\n",
              "      <td>0.909816</td>\n",
              "      <td>3.112040</td>\n",
              "      <td>0.501960</td>\n",
              "      <td>1</td>\n",
              "    </tr>\n",
              "  </tbody>\n",
              "</table>\n",
              "</div>"
            ],
            "text/plain": [
              "   Sample        P7        P8        O1        O2  case\n",
              "0       1  1.919887  2.501204  3.080694  2.074751     1\n",
              "1       2  1.814434  0.909816  3.112040  0.501960     1"
            ]
          },
          "metadata": {
            "tags": []
          },
          "execution_count": 105
        }
      ]
    },
    {
      "cell_type": "code",
      "metadata": {
        "id": "J1sl5f1j1b43",
        "colab_type": "code",
        "outputId": "cc43fc48-7830-40db-b484-5133f9db7d69",
        "colab": {
          "base_uri": "https://localhost:8080/",
          "height": 108
        }
      },
      "source": [
        "df8.rename({\"Sample\":\"time in sec\"},axis=1,inplace=True)\n",
        "df8.to_csv(\"data8.csv\")\n",
        "df8.head(2)"
      ],
      "execution_count": 0,
      "outputs": [
        {
          "output_type": "execute_result",
          "data": {
            "text/html": [
              "<div>\n",
              "<style scoped>\n",
              "    .dataframe tbody tr th:only-of-type {\n",
              "        vertical-align: middle;\n",
              "    }\n",
              "\n",
              "    .dataframe tbody tr th {\n",
              "        vertical-align: top;\n",
              "    }\n",
              "\n",
              "    .dataframe thead th {\n",
              "        text-align: right;\n",
              "    }\n",
              "</style>\n",
              "<table border=\"1\" class=\"dataframe\">\n",
              "  <thead>\n",
              "    <tr style=\"text-align: right;\">\n",
              "      <th></th>\n",
              "      <th>time in sec</th>\n",
              "      <th>P7</th>\n",
              "      <th>P8</th>\n",
              "      <th>O1</th>\n",
              "      <th>O2</th>\n",
              "      <th>case</th>\n",
              "    </tr>\n",
              "  </thead>\n",
              "  <tbody>\n",
              "    <tr>\n",
              "      <th>0</th>\n",
              "      <td>1</td>\n",
              "      <td>1.919887</td>\n",
              "      <td>2.501204</td>\n",
              "      <td>3.080694</td>\n",
              "      <td>2.074751</td>\n",
              "      <td>1</td>\n",
              "    </tr>\n",
              "    <tr>\n",
              "      <th>1</th>\n",
              "      <td>2</td>\n",
              "      <td>1.814434</td>\n",
              "      <td>0.909816</td>\n",
              "      <td>3.112040</td>\n",
              "      <td>0.501960</td>\n",
              "      <td>1</td>\n",
              "    </tr>\n",
              "  </tbody>\n",
              "</table>\n",
              "</div>"
            ],
            "text/plain": [
              "   time in sec        P7        P8        O1        O2  case\n",
              "0            1  1.919887  2.501204  3.080694  2.074751     1\n",
              "1            2  1.814434  0.909816  3.112040  0.501960     1"
            ]
          },
          "metadata": {
            "tags": []
          },
          "execution_count": 108
        }
      ]
    },
    {
      "cell_type": "code",
      "metadata": {
        "id": "ctP4AmxG1b05",
        "colab_type": "code",
        "outputId": "6496fb54-cbf7-409b-eb31-e0ef50f43e2c",
        "colab": {
          "base_uri": "https://localhost:8080/",
          "height": 108
        }
      },
      "source": [
        "df9.rename({\"Sample\":\"time in sec\"},axis=1,inplace=True)\n",
        "df9.to_csv(\"data9.csv\")\n",
        "df9.head(2)"
      ],
      "execution_count": 0,
      "outputs": [
        {
          "output_type": "execute_result",
          "data": {
            "text/html": [
              "<div>\n",
              "<style scoped>\n",
              "    .dataframe tbody tr th:only-of-type {\n",
              "        vertical-align: middle;\n",
              "    }\n",
              "\n",
              "    .dataframe tbody tr th {\n",
              "        vertical-align: top;\n",
              "    }\n",
              "\n",
              "    .dataframe thead th {\n",
              "        text-align: right;\n",
              "    }\n",
              "</style>\n",
              "<table border=\"1\" class=\"dataframe\">\n",
              "  <thead>\n",
              "    <tr style=\"text-align: right;\">\n",
              "      <th></th>\n",
              "      <th>time in sec</th>\n",
              "      <th>P7</th>\n",
              "      <th>P8</th>\n",
              "      <th>O1</th>\n",
              "      <th>O2</th>\n",
              "      <th>case</th>\n",
              "    </tr>\n",
              "  </thead>\n",
              "  <tbody>\n",
              "    <tr>\n",
              "      <th>0</th>\n",
              "      <td>1</td>\n",
              "      <td>-0.000461</td>\n",
              "      <td>0.001127</td>\n",
              "      <td>0.000256</td>\n",
              "      <td>0.000017</td>\n",
              "      <td>1</td>\n",
              "    </tr>\n",
              "    <tr>\n",
              "      <th>1</th>\n",
              "      <td>2</td>\n",
              "      <td>-0.000131</td>\n",
              "      <td>0.001219</td>\n",
              "      <td>0.000345</td>\n",
              "      <td>-0.000784</td>\n",
              "      <td>1</td>\n",
              "    </tr>\n",
              "  </tbody>\n",
              "</table>\n",
              "</div>"
            ],
            "text/plain": [
              "   time in sec        P7        P8        O1        O2  case\n",
              "0            1 -0.000461  0.001127  0.000256  0.000017     1\n",
              "1            2 -0.000131  0.001219  0.000345 -0.000784     1"
            ]
          },
          "metadata": {
            "tags": []
          },
          "execution_count": 110
        }
      ]
    },
    {
      "cell_type": "code",
      "metadata": {
        "id": "IM9vrlOW1bsj",
        "colab_type": "code",
        "outputId": "37f20d94-c584-4c45-cce0-3295fcde1000",
        "colab": {
          "base_uri": "https://localhost:8080/",
          "height": 108
        }
      },
      "source": [
        "df10.rename({\"Sample\":\"time in sec\"},axis=1,inplace=True)\n",
        "df10.to_csv(\"data10.csv\")\n",
        "df10.head(2)"
      ],
      "execution_count": 0,
      "outputs": [
        {
          "output_type": "execute_result",
          "data": {
            "text/html": [
              "<div>\n",
              "<style scoped>\n",
              "    .dataframe tbody tr th:only-of-type {\n",
              "        vertical-align: middle;\n",
              "    }\n",
              "\n",
              "    .dataframe tbody tr th {\n",
              "        vertical-align: top;\n",
              "    }\n",
              "\n",
              "    .dataframe thead th {\n",
              "        text-align: right;\n",
              "    }\n",
              "</style>\n",
              "<table border=\"1\" class=\"dataframe\">\n",
              "  <thead>\n",
              "    <tr style=\"text-align: right;\">\n",
              "      <th></th>\n",
              "      <th>time in sec</th>\n",
              "      <th>P7</th>\n",
              "      <th>P8</th>\n",
              "      <th>O1</th>\n",
              "      <th>O2</th>\n",
              "      <th>case</th>\n",
              "    </tr>\n",
              "  </thead>\n",
              "  <tbody>\n",
              "    <tr>\n",
              "      <th>0</th>\n",
              "      <td>1</td>\n",
              "      <td>3.478626</td>\n",
              "      <td>3.073398</td>\n",
              "      <td>6.011334</td>\n",
              "      <td>6.466850</td>\n",
              "      <td>0</td>\n",
              "    </tr>\n",
              "    <tr>\n",
              "      <th>1</th>\n",
              "      <td>2</td>\n",
              "      <td>3.979115</td>\n",
              "      <td>2.881399</td>\n",
              "      <td>5.301760</td>\n",
              "      <td>6.017831</td>\n",
              "      <td>0</td>\n",
              "    </tr>\n",
              "  </tbody>\n",
              "</table>\n",
              "</div>"
            ],
            "text/plain": [
              "   time in sec        P7        P8        O1        O2  case\n",
              "0            1  3.478626  3.073398  6.011334  6.466850     0\n",
              "1            2  3.979115  2.881399  5.301760  6.017831     0"
            ]
          },
          "metadata": {
            "tags": []
          },
          "execution_count": 112
        }
      ]
    },
    {
      "cell_type": "code",
      "metadata": {
        "id": "xl0I0IRI1blN",
        "colab_type": "code",
        "outputId": "f75c0b98-79af-4030-9c67-b4092ef340f7",
        "colab": {
          "base_uri": "https://localhost:8080/",
          "height": 108
        }
      },
      "source": [
        "df11.rename({\"Sample\":\"time in sec\"},axis=1,inplace=True)\n",
        "df11.to_csv(\"data11.csv\")\n",
        "df11.head(2)"
      ],
      "execution_count": 0,
      "outputs": [
        {
          "output_type": "execute_result",
          "data": {
            "text/html": [
              "<div>\n",
              "<style scoped>\n",
              "    .dataframe tbody tr th:only-of-type {\n",
              "        vertical-align: middle;\n",
              "    }\n",
              "\n",
              "    .dataframe tbody tr th {\n",
              "        vertical-align: top;\n",
              "    }\n",
              "\n",
              "    .dataframe thead th {\n",
              "        text-align: right;\n",
              "    }\n",
              "</style>\n",
              "<table border=\"1\" class=\"dataframe\">\n",
              "  <thead>\n",
              "    <tr style=\"text-align: right;\">\n",
              "      <th></th>\n",
              "      <th>time in sec</th>\n",
              "      <th>P7</th>\n",
              "      <th>P8</th>\n",
              "      <th>O1</th>\n",
              "      <th>O2</th>\n",
              "      <th>case</th>\n",
              "    </tr>\n",
              "  </thead>\n",
              "  <tbody>\n",
              "    <tr>\n",
              "      <th>0</th>\n",
              "      <td>1</td>\n",
              "      <td>22.442435</td>\n",
              "      <td>16.776875</td>\n",
              "      <td>22.315031</td>\n",
              "      <td>24.554244</td>\n",
              "      <td>1</td>\n",
              "    </tr>\n",
              "    <tr>\n",
              "      <th>1</th>\n",
              "      <td>2</td>\n",
              "      <td>17.360605</td>\n",
              "      <td>12.769806</td>\n",
              "      <td>20.395620</td>\n",
              "      <td>20.240154</td>\n",
              "      <td>1</td>\n",
              "    </tr>\n",
              "  </tbody>\n",
              "</table>\n",
              "</div>"
            ],
            "text/plain": [
              "   time in sec         P7         P8         O1         O2  case\n",
              "0            1  22.442435  16.776875  22.315031  24.554244     1\n",
              "1            2  17.360605  12.769806  20.395620  20.240154     1"
            ]
          },
          "metadata": {
            "tags": []
          },
          "execution_count": 116
        }
      ]
    },
    {
      "cell_type": "code",
      "metadata": {
        "id": "arOXCeT72_II",
        "colab_type": "code",
        "outputId": "8fefd11a-af21-4ec0-8d5f-ff987fdb97eb",
        "colab": {
          "base_uri": "https://localhost:8080/",
          "height": 78
        }
      },
      "source": [
        "df12.drop(['Unnamed: 0'],axis=1,inplace=True)\n",
        "df12.rename({\"Sample\":\"time in sec\"},axis=1,inplace=True)\n",
        "df12.to_csv(\"data12.csv\")\n",
        "df12.head(1)"
      ],
      "execution_count": 0,
      "outputs": [
        {
          "output_type": "execute_result",
          "data": {
            "text/html": [
              "<div>\n",
              "<style scoped>\n",
              "    .dataframe tbody tr th:only-of-type {\n",
              "        vertical-align: middle;\n",
              "    }\n",
              "\n",
              "    .dataframe tbody tr th {\n",
              "        vertical-align: top;\n",
              "    }\n",
              "\n",
              "    .dataframe thead th {\n",
              "        text-align: right;\n",
              "    }\n",
              "</style>\n",
              "<table border=\"1\" class=\"dataframe\">\n",
              "  <thead>\n",
              "    <tr style=\"text-align: right;\">\n",
              "      <th></th>\n",
              "      <th>time in sec</th>\n",
              "      <th>P7</th>\n",
              "      <th>P8</th>\n",
              "      <th>O1</th>\n",
              "      <th>O2</th>\n",
              "      <th>case</th>\n",
              "    </tr>\n",
              "  </thead>\n",
              "  <tbody>\n",
              "    <tr>\n",
              "      <th>0</th>\n",
              "      <td>1</td>\n",
              "      <td>0.015003</td>\n",
              "      <td>0.0069</td>\n",
              "      <td>-0.006951</td>\n",
              "      <td>-0.00252</td>\n",
              "      <td>1</td>\n",
              "    </tr>\n",
              "  </tbody>\n",
              "</table>\n",
              "</div>"
            ],
            "text/plain": [
              "   time in sec        P7      P8        O1       O2  case\n",
              "0            1  0.015003  0.0069 -0.006951 -0.00252     1"
            ]
          },
          "metadata": {
            "tags": []
          },
          "execution_count": 122
        }
      ]
    },
    {
      "cell_type": "code",
      "metadata": {
        "id": "qcMiLSaK2-2l",
        "colab_type": "code",
        "outputId": "392b93de-1235-4188-970c-70b15ae9d7eb",
        "colab": {
          "base_uri": "https://localhost:8080/",
          "height": 78
        }
      },
      "source": [
        "df18.rename({\"Sample\":\"time in sec\"},axis=1,inplace=True)\n",
        "df18.to_csv(\"data18.csv\")\n",
        "df18.head(1)"
      ],
      "execution_count": 0,
      "outputs": [
        {
          "output_type": "execute_result",
          "data": {
            "text/html": [
              "<div>\n",
              "<style scoped>\n",
              "    .dataframe tbody tr th:only-of-type {\n",
              "        vertical-align: middle;\n",
              "    }\n",
              "\n",
              "    .dataframe tbody tr th {\n",
              "        vertical-align: top;\n",
              "    }\n",
              "\n",
              "    .dataframe thead th {\n",
              "        text-align: right;\n",
              "    }\n",
              "</style>\n",
              "<table border=\"1\" class=\"dataframe\">\n",
              "  <thead>\n",
              "    <tr style=\"text-align: right;\">\n",
              "      <th></th>\n",
              "      <th>time in sec</th>\n",
              "      <th>P7</th>\n",
              "      <th>P8</th>\n",
              "      <th>O1</th>\n",
              "      <th>O2</th>\n",
              "      <th>case</th>\n",
              "    </tr>\n",
              "  </thead>\n",
              "  <tbody>\n",
              "    <tr>\n",
              "      <th>0</th>\n",
              "      <td>1</td>\n",
              "      <td>5.076048</td>\n",
              "      <td>2.035574</td>\n",
              "      <td>5.650254</td>\n",
              "      <td>3.482081</td>\n",
              "      <td>1</td>\n",
              "    </tr>\n",
              "  </tbody>\n",
              "</table>\n",
              "</div>"
            ],
            "text/plain": [
              "   time in sec        P7        P8        O1        O2  case\n",
              "0            1  5.076048  2.035574  5.650254  3.482081     1"
            ]
          },
          "metadata": {
            "tags": []
          },
          "execution_count": 129
        }
      ]
    },
    {
      "cell_type": "code",
      "metadata": {
        "id": "ImAxsLYn4Cx7",
        "colab_type": "code",
        "outputId": "4f91cf5d-df3f-4892-a134-20c38abe56ba",
        "colab": {
          "base_uri": "https://localhost:8080/",
          "height": 78
        }
      },
      "source": [
        "df19.rename({\"Sample\":\"time in sec\"},axis=1,inplace=True)\n",
        "df19.to_csv(\"data19.csv\")\n",
        "df19.head(1)"
      ],
      "execution_count": 0,
      "outputs": [
        {
          "output_type": "execute_result",
          "data": {
            "text/html": [
              "<div>\n",
              "<style scoped>\n",
              "    .dataframe tbody tr th:only-of-type {\n",
              "        vertical-align: middle;\n",
              "    }\n",
              "\n",
              "    .dataframe tbody tr th {\n",
              "        vertical-align: top;\n",
              "    }\n",
              "\n",
              "    .dataframe thead th {\n",
              "        text-align: right;\n",
              "    }\n",
              "</style>\n",
              "<table border=\"1\" class=\"dataframe\">\n",
              "  <thead>\n",
              "    <tr style=\"text-align: right;\">\n",
              "      <th></th>\n",
              "      <th>time in sec</th>\n",
              "      <th>P7</th>\n",
              "      <th>P8</th>\n",
              "      <th>O1</th>\n",
              "      <th>O2</th>\n",
              "      <th>case</th>\n",
              "    </tr>\n",
              "  </thead>\n",
              "  <tbody>\n",
              "    <tr>\n",
              "      <th>0</th>\n",
              "      <td>1</td>\n",
              "      <td>1.855429</td>\n",
              "      <td>3.721328</td>\n",
              "      <td>0.76468</td>\n",
              "      <td>0.130835</td>\n",
              "      <td>1</td>\n",
              "    </tr>\n",
              "  </tbody>\n",
              "</table>\n",
              "</div>"
            ],
            "text/plain": [
              "   time in sec        P7        P8       O1        O2  case\n",
              "0            1  1.855429  3.721328  0.76468  0.130835     1"
            ]
          },
          "metadata": {
            "tags": []
          },
          "execution_count": 131
        }
      ]
    },
    {
      "cell_type": "code",
      "metadata": {
        "id": "pUJdaQt44Cq_",
        "colab_type": "code",
        "outputId": "99f6e362-92ea-45d1-eee4-a503dafdf5b5",
        "colab": {
          "base_uri": "https://localhost:8080/",
          "height": 78
        }
      },
      "source": [
        "df21.rename({\"Sample\":\"time in sec\"},axis=1,inplace=True)\n",
        "df21.to_csv(\"data21.csv\")\n",
        "df21.head(1)"
      ],
      "execution_count": 0,
      "outputs": [
        {
          "output_type": "execute_result",
          "data": {
            "text/html": [
              "<div>\n",
              "<style scoped>\n",
              "    .dataframe tbody tr th:only-of-type {\n",
              "        vertical-align: middle;\n",
              "    }\n",
              "\n",
              "    .dataframe tbody tr th {\n",
              "        vertical-align: top;\n",
              "    }\n",
              "\n",
              "    .dataframe thead th {\n",
              "        text-align: right;\n",
              "    }\n",
              "</style>\n",
              "<table border=\"1\" class=\"dataframe\">\n",
              "  <thead>\n",
              "    <tr style=\"text-align: right;\">\n",
              "      <th></th>\n",
              "      <th>time in sec</th>\n",
              "      <th>P7</th>\n",
              "      <th>P8</th>\n",
              "      <th>O1</th>\n",
              "      <th>O2</th>\n",
              "      <th>case</th>\n",
              "    </tr>\n",
              "  </thead>\n",
              "  <tbody>\n",
              "    <tr>\n",
              "      <th>0</th>\n",
              "      <td>1</td>\n",
              "      <td>0.260619</td>\n",
              "      <td>0.267886</td>\n",
              "      <td>0.15431</td>\n",
              "      <td>0.174198</td>\n",
              "      <td>0</td>\n",
              "    </tr>\n",
              "  </tbody>\n",
              "</table>\n",
              "</div>"
            ],
            "text/plain": [
              "   time in sec        P7        P8       O1        O2  case\n",
              "0            1  0.260619  0.267886  0.15431  0.174198     0"
            ]
          },
          "metadata": {
            "tags": []
          },
          "execution_count": 135
        }
      ]
    },
    {
      "cell_type": "code",
      "metadata": {
        "id": "ql5tN0KV4ClR",
        "colab_type": "code",
        "outputId": "50087064-3275-4a96-f42b-a7de5cd56be0",
        "colab": {
          "base_uri": "https://localhost:8080/",
          "height": 78
        }
      },
      "source": [
        "df22.rename({\"Sample\":\"time in sec\"},axis=1,inplace=True)\n",
        "df22.to_csv(\"data22.csv\")\n",
        "df22.head(1)"
      ],
      "execution_count": 0,
      "outputs": [
        {
          "output_type": "execute_result",
          "data": {
            "text/html": [
              "<div>\n",
              "<style scoped>\n",
              "    .dataframe tbody tr th:only-of-type {\n",
              "        vertical-align: middle;\n",
              "    }\n",
              "\n",
              "    .dataframe tbody tr th {\n",
              "        vertical-align: top;\n",
              "    }\n",
              "\n",
              "    .dataframe thead th {\n",
              "        text-align: right;\n",
              "    }\n",
              "</style>\n",
              "<table border=\"1\" class=\"dataframe\">\n",
              "  <thead>\n",
              "    <tr style=\"text-align: right;\">\n",
              "      <th></th>\n",
              "      <th>time in sec</th>\n",
              "      <th>P7</th>\n",
              "      <th>P8</th>\n",
              "      <th>O1</th>\n",
              "      <th>O2</th>\n",
              "      <th>case</th>\n",
              "    </tr>\n",
              "  </thead>\n",
              "  <tbody>\n",
              "    <tr>\n",
              "      <th>0</th>\n",
              "      <td>1</td>\n",
              "      <td>-7.609301</td>\n",
              "      <td>-4.738793</td>\n",
              "      <td>-4.828183</td>\n",
              "      <td>-6.883428</td>\n",
              "      <td>1</td>\n",
              "    </tr>\n",
              "  </tbody>\n",
              "</table>\n",
              "</div>"
            ],
            "text/plain": [
              "   time in sec        P7        P8        O1        O2  case\n",
              "0            1 -7.609301 -4.738793 -4.828183 -6.883428     1"
            ]
          },
          "metadata": {
            "tags": []
          },
          "execution_count": 137
        }
      ]
    },
    {
      "cell_type": "code",
      "metadata": {
        "id": "EWqcoHHu4Cce",
        "colab_type": "code",
        "outputId": "54ba458d-2a10-4f2a-8759-4af5c874d4ef",
        "colab": {
          "base_uri": "https://localhost:8080/",
          "height": 78
        }
      },
      "source": [
        "df24.rename({\"Sample\":\"time in sec\"},axis=1,inplace=True)\n",
        "df24.to_csv(\"data24.csv\")\n",
        "df24.head(1)"
      ],
      "execution_count": 0,
      "outputs": [
        {
          "output_type": "execute_result",
          "data": {
            "text/html": [
              "<div>\n",
              "<style scoped>\n",
              "    .dataframe tbody tr th:only-of-type {\n",
              "        vertical-align: middle;\n",
              "    }\n",
              "\n",
              "    .dataframe tbody tr th {\n",
              "        vertical-align: top;\n",
              "    }\n",
              "\n",
              "    .dataframe thead th {\n",
              "        text-align: right;\n",
              "    }\n",
              "</style>\n",
              "<table border=\"1\" class=\"dataframe\">\n",
              "  <thead>\n",
              "    <tr style=\"text-align: right;\">\n",
              "      <th></th>\n",
              "      <th>time in sec</th>\n",
              "      <th>P7</th>\n",
              "      <th>P8</th>\n",
              "      <th>O1</th>\n",
              "      <th>O2</th>\n",
              "      <th>case</th>\n",
              "    </tr>\n",
              "  </thead>\n",
              "  <tbody>\n",
              "    <tr>\n",
              "      <th>0</th>\n",
              "      <td>1</td>\n",
              "      <td>-0.029517</td>\n",
              "      <td>-0.040655</td>\n",
              "      <td>-0.017535</td>\n",
              "      <td>-0.013207</td>\n",
              "      <td>0</td>\n",
              "    </tr>\n",
              "  </tbody>\n",
              "</table>\n",
              "</div>"
            ],
            "text/plain": [
              "   time in sec        P7        P8        O1        O2  case\n",
              "0            1 -0.029517 -0.040655 -0.017535 -0.013207     0"
            ]
          },
          "metadata": {
            "tags": []
          },
          "execution_count": 140
        }
      ]
    },
    {
      "cell_type": "code",
      "metadata": {
        "id": "muB4HnKC4CXB",
        "colab_type": "code",
        "outputId": "06e876e6-faa3-41b5-db50-84885d41293e",
        "colab": {
          "base_uri": "https://localhost:8080/",
          "height": 78
        }
      },
      "source": [
        "df25.rename({\"Sample\":\"time in sec\"},axis=1,inplace=True)\n",
        "df25.to_csv(\"data25.csv\")\n",
        "df25.head(1)"
      ],
      "execution_count": 0,
      "outputs": [
        {
          "output_type": "execute_result",
          "data": {
            "text/html": [
              "<div>\n",
              "<style scoped>\n",
              "    .dataframe tbody tr th:only-of-type {\n",
              "        vertical-align: middle;\n",
              "    }\n",
              "\n",
              "    .dataframe tbody tr th {\n",
              "        vertical-align: top;\n",
              "    }\n",
              "\n",
              "    .dataframe thead th {\n",
              "        text-align: right;\n",
              "    }\n",
              "</style>\n",
              "<table border=\"1\" class=\"dataframe\">\n",
              "  <thead>\n",
              "    <tr style=\"text-align: right;\">\n",
              "      <th></th>\n",
              "      <th>time in sec</th>\n",
              "      <th>P7</th>\n",
              "      <th>P8</th>\n",
              "      <th>O1</th>\n",
              "      <th>O2</th>\n",
              "      <th>case</th>\n",
              "    </tr>\n",
              "  </thead>\n",
              "  <tbody>\n",
              "    <tr>\n",
              "      <th>0</th>\n",
              "      <td>1</td>\n",
              "      <td>6.791923</td>\n",
              "      <td>-2.55749</td>\n",
              "      <td>11.31696</td>\n",
              "      <td>10.443311</td>\n",
              "      <td>1</td>\n",
              "    </tr>\n",
              "  </tbody>\n",
              "</table>\n",
              "</div>"
            ],
            "text/plain": [
              "   time in sec        P7       P8        O1         O2  case\n",
              "0            1  6.791923 -2.55749  11.31696  10.443311     1"
            ]
          },
          "metadata": {
            "tags": []
          },
          "execution_count": 142
        }
      ]
    },
    {
      "cell_type": "code",
      "metadata": {
        "id": "N-WD3g9_4CRe",
        "colab_type": "code",
        "outputId": "090a834f-c9af-4b0d-c24e-0cd0abdf4c43",
        "colab": {
          "base_uri": "https://localhost:8080/",
          "height": 78
        }
      },
      "source": [
        "df27.head(1)"
      ],
      "execution_count": 0,
      "outputs": [
        {
          "output_type": "execute_result",
          "data": {
            "text/html": [
              "<div>\n",
              "<style scoped>\n",
              "    .dataframe tbody tr th:only-of-type {\n",
              "        vertical-align: middle;\n",
              "    }\n",
              "\n",
              "    .dataframe tbody tr th {\n",
              "        vertical-align: top;\n",
              "    }\n",
              "\n",
              "    .dataframe thead th {\n",
              "        text-align: right;\n",
              "    }\n",
              "</style>\n",
              "<table border=\"1\" class=\"dataframe\">\n",
              "  <thead>\n",
              "    <tr style=\"text-align: right;\">\n",
              "      <th></th>\n",
              "      <th>Sample</th>\n",
              "      <th>P7</th>\n",
              "      <th>P8</th>\n",
              "      <th>O1</th>\n",
              "      <th>O2</th>\n",
              "      <th>case</th>\n",
              "    </tr>\n",
              "  </thead>\n",
              "  <tbody>\n",
              "    <tr>\n",
              "      <th>0</th>\n",
              "      <td>1</td>\n",
              "      <td>1.23186</td>\n",
              "      <td>0.333497</td>\n",
              "      <td>1.281548</td>\n",
              "      <td>1.141624</td>\n",
              "      <td>0</td>\n",
              "    </tr>\n",
              "  </tbody>\n",
              "</table>\n",
              "</div>"
            ],
            "text/plain": [
              "   Sample       P7        P8        O1        O2  case\n",
              "0       1  1.23186  0.333497  1.281548  1.141624     0"
            ]
          },
          "metadata": {
            "tags": []
          },
          "execution_count": 144
        }
      ]
    },
    {
      "cell_type": "code",
      "metadata": {
        "id": "PTeGxlFP4COB",
        "colab_type": "code",
        "outputId": "4d0a2ae8-872a-469c-cf80-1b91ebf3e9f0",
        "colab": {
          "base_uri": "https://localhost:8080/",
          "height": 78
        }
      },
      "source": [
        "df27.rename({\"Sample\":\"time in sec\"},axis=1,inplace=True)\n",
        "df27.to_csv(\"data27.csv\")\n",
        "df27.head(1)"
      ],
      "execution_count": 0,
      "outputs": [
        {
          "output_type": "execute_result",
          "data": {
            "text/html": [
              "<div>\n",
              "<style scoped>\n",
              "    .dataframe tbody tr th:only-of-type {\n",
              "        vertical-align: middle;\n",
              "    }\n",
              "\n",
              "    .dataframe tbody tr th {\n",
              "        vertical-align: top;\n",
              "    }\n",
              "\n",
              "    .dataframe thead th {\n",
              "        text-align: right;\n",
              "    }\n",
              "</style>\n",
              "<table border=\"1\" class=\"dataframe\">\n",
              "  <thead>\n",
              "    <tr style=\"text-align: right;\">\n",
              "      <th></th>\n",
              "      <th>time in sec</th>\n",
              "      <th>P7</th>\n",
              "      <th>P8</th>\n",
              "      <th>O1</th>\n",
              "      <th>O2</th>\n",
              "      <th>case</th>\n",
              "    </tr>\n",
              "  </thead>\n",
              "  <tbody>\n",
              "    <tr>\n",
              "      <th>0</th>\n",
              "      <td>1</td>\n",
              "      <td>1.23186</td>\n",
              "      <td>0.333497</td>\n",
              "      <td>1.281548</td>\n",
              "      <td>1.141624</td>\n",
              "      <td>0</td>\n",
              "    </tr>\n",
              "  </tbody>\n",
              "</table>\n",
              "</div>"
            ],
            "text/plain": [
              "   time in sec       P7        P8        O1        O2  case\n",
              "0            1  1.23186  0.333497  1.281548  1.141624     0"
            ]
          },
          "metadata": {
            "tags": []
          },
          "execution_count": 145
        }
      ]
    },
    {
      "cell_type": "code",
      "metadata": {
        "id": "v425Fe4pD5Yt",
        "colab_type": "code",
        "outputId": "989257ae-d816-4e8d-f98c-7f83150cfec2",
        "colab": {
          "base_uri": "https://localhost:8080/",
          "height": 78
        }
      },
      "source": [
        "df28.head(1)"
      ],
      "execution_count": 0,
      "outputs": [
        {
          "output_type": "execute_result",
          "data": {
            "text/html": [
              "<div>\n",
              "<style scoped>\n",
              "    .dataframe tbody tr th:only-of-type {\n",
              "        vertical-align: middle;\n",
              "    }\n",
              "\n",
              "    .dataframe tbody tr th {\n",
              "        vertical-align: top;\n",
              "    }\n",
              "\n",
              "    .dataframe thead th {\n",
              "        text-align: right;\n",
              "    }\n",
              "</style>\n",
              "<table border=\"1\" class=\"dataframe\">\n",
              "  <thead>\n",
              "    <tr style=\"text-align: right;\">\n",
              "      <th></th>\n",
              "      <th>Sample</th>\n",
              "      <th>P7</th>\n",
              "      <th>P8</th>\n",
              "      <th>O1</th>\n",
              "      <th>O2</th>\n",
              "      <th>case</th>\n",
              "    </tr>\n",
              "  </thead>\n",
              "  <tbody>\n",
              "    <tr>\n",
              "      <th>0</th>\n",
              "      <td>1</td>\n",
              "      <td>-3.602665</td>\n",
              "      <td>-6.004532</td>\n",
              "      <td>-6.587911</td>\n",
              "      <td>-4.201767</td>\n",
              "      <td>1</td>\n",
              "    </tr>\n",
              "  </tbody>\n",
              "</table>\n",
              "</div>"
            ],
            "text/plain": [
              "   Sample        P7        P8        O1        O2  case\n",
              "0       1 -3.602665 -6.004532 -6.587911 -4.201767     1"
            ]
          },
          "metadata": {
            "tags": []
          },
          "execution_count": 146
        }
      ]
    },
    {
      "cell_type": "code",
      "metadata": {
        "id": "Fg4XtNcPD5V9",
        "colab_type": "code",
        "outputId": "daeba0ef-4e67-4ba0-e635-b6056778af1e",
        "colab": {
          "base_uri": "https://localhost:8080/",
          "height": 78
        }
      },
      "source": [
        "df28.rename({\"Sample\":\"time in sec\"},axis=1,inplace=True)\n",
        "df28.to_csv(\"data28.csv\")\n",
        "df28.head(1)"
      ],
      "execution_count": 0,
      "outputs": [
        {
          "output_type": "execute_result",
          "data": {
            "text/html": [
              "<div>\n",
              "<style scoped>\n",
              "    .dataframe tbody tr th:only-of-type {\n",
              "        vertical-align: middle;\n",
              "    }\n",
              "\n",
              "    .dataframe tbody tr th {\n",
              "        vertical-align: top;\n",
              "    }\n",
              "\n",
              "    .dataframe thead th {\n",
              "        text-align: right;\n",
              "    }\n",
              "</style>\n",
              "<table border=\"1\" class=\"dataframe\">\n",
              "  <thead>\n",
              "    <tr style=\"text-align: right;\">\n",
              "      <th></th>\n",
              "      <th>time in sec</th>\n",
              "      <th>P7</th>\n",
              "      <th>P8</th>\n",
              "      <th>O1</th>\n",
              "      <th>O2</th>\n",
              "      <th>case</th>\n",
              "    </tr>\n",
              "  </thead>\n",
              "  <tbody>\n",
              "    <tr>\n",
              "      <th>0</th>\n",
              "      <td>1</td>\n",
              "      <td>-3.602665</td>\n",
              "      <td>-6.004532</td>\n",
              "      <td>-6.587911</td>\n",
              "      <td>-4.201767</td>\n",
              "      <td>1</td>\n",
              "    </tr>\n",
              "  </tbody>\n",
              "</table>\n",
              "</div>"
            ],
            "text/plain": [
              "   time in sec        P7        P8        O1        O2  case\n",
              "0            1 -3.602665 -6.004532 -6.587911 -4.201767     1"
            ]
          },
          "metadata": {
            "tags": []
          },
          "execution_count": 147
        }
      ]
    },
    {
      "cell_type": "code",
      "metadata": {
        "id": "Ti36P5EhD5Qk",
        "colab_type": "code",
        "outputId": "e3f23d87-827c-460a-d9d1-fb3a7f598a1f",
        "colab": {
          "base_uri": "https://localhost:8080/",
          "height": 78
        }
      },
      "source": [
        "df30.head(1)"
      ],
      "execution_count": 0,
      "outputs": [
        {
          "output_type": "execute_result",
          "data": {
            "text/html": [
              "<div>\n",
              "<style scoped>\n",
              "    .dataframe tbody tr th:only-of-type {\n",
              "        vertical-align: middle;\n",
              "    }\n",
              "\n",
              "    .dataframe tbody tr th {\n",
              "        vertical-align: top;\n",
              "    }\n",
              "\n",
              "    .dataframe thead th {\n",
              "        text-align: right;\n",
              "    }\n",
              "</style>\n",
              "<table border=\"1\" class=\"dataframe\">\n",
              "  <thead>\n",
              "    <tr style=\"text-align: right;\">\n",
              "      <th></th>\n",
              "      <th>Sample</th>\n",
              "      <th>P7</th>\n",
              "      <th>P8</th>\n",
              "      <th>O1</th>\n",
              "      <th>O2</th>\n",
              "      <th>case</th>\n",
              "    </tr>\n",
              "  </thead>\n",
              "  <tbody>\n",
              "    <tr>\n",
              "      <th>0</th>\n",
              "      <td>1</td>\n",
              "      <td>0.200144</td>\n",
              "      <td>-0.022276</td>\n",
              "      <td>0.145727</td>\n",
              "      <td>0.234376</td>\n",
              "      <td>0</td>\n",
              "    </tr>\n",
              "  </tbody>\n",
              "</table>\n",
              "</div>"
            ],
            "text/plain": [
              "   Sample        P7        P8        O1        O2  case\n",
              "0       1  0.200144 -0.022276  0.145727  0.234376     0"
            ]
          },
          "metadata": {
            "tags": []
          },
          "execution_count": 149
        }
      ]
    },
    {
      "cell_type": "code",
      "metadata": {
        "id": "A5BEyws8D5N1",
        "colab_type": "code",
        "outputId": "c5003090-799e-48d6-e80c-b59c8ccf337d",
        "colab": {
          "base_uri": "https://localhost:8080/",
          "height": 78
        }
      },
      "source": [
        "df29.rename({\"Sample\":\"time in sec\"},axis=1,inplace=True)\n",
        "df29.to_csv(\"data29.csv\")\n",
        "df29.head(1)"
      ],
      "execution_count": 0,
      "outputs": [
        {
          "output_type": "execute_result",
          "data": {
            "text/html": [
              "<div>\n",
              "<style scoped>\n",
              "    .dataframe tbody tr th:only-of-type {\n",
              "        vertical-align: middle;\n",
              "    }\n",
              "\n",
              "    .dataframe tbody tr th {\n",
              "        vertical-align: top;\n",
              "    }\n",
              "\n",
              "    .dataframe thead th {\n",
              "        text-align: right;\n",
              "    }\n",
              "</style>\n",
              "<table border=\"1\" class=\"dataframe\">\n",
              "  <thead>\n",
              "    <tr style=\"text-align: right;\">\n",
              "      <th></th>\n",
              "      <th>time in sec</th>\n",
              "      <th>P7</th>\n",
              "      <th>P8</th>\n",
              "      <th>O1</th>\n",
              "      <th>O2</th>\n",
              "      <th>case</th>\n",
              "    </tr>\n",
              "  </thead>\n",
              "  <tbody>\n",
              "    <tr>\n",
              "      <th>0</th>\n",
              "      <td>1</td>\n",
              "      <td>0.102475</td>\n",
              "      <td>-0.119854</td>\n",
              "      <td>-0.017485</td>\n",
              "      <td>0.206888</td>\n",
              "      <td>1</td>\n",
              "    </tr>\n",
              "  </tbody>\n",
              "</table>\n",
              "</div>"
            ],
            "text/plain": [
              "   time in sec        P7        P8        O1        O2  case\n",
              "0            1  0.102475 -0.119854 -0.017485  0.206888     1"
            ]
          },
          "metadata": {
            "tags": []
          },
          "execution_count": 150
        }
      ]
    },
    {
      "cell_type": "code",
      "metadata": {
        "id": "LFVAOVAZD5LN",
        "colab_type": "code",
        "outputId": "79a85542-7a3d-4bea-92d4-d555ae353a15",
        "colab": {
          "base_uri": "https://localhost:8080/",
          "height": 78
        }
      },
      "source": [
        "df30.head(1)"
      ],
      "execution_count": 0,
      "outputs": [
        {
          "output_type": "execute_result",
          "data": {
            "text/html": [
              "<div>\n",
              "<style scoped>\n",
              "    .dataframe tbody tr th:only-of-type {\n",
              "        vertical-align: middle;\n",
              "    }\n",
              "\n",
              "    .dataframe tbody tr th {\n",
              "        vertical-align: top;\n",
              "    }\n",
              "\n",
              "    .dataframe thead th {\n",
              "        text-align: right;\n",
              "    }\n",
              "</style>\n",
              "<table border=\"1\" class=\"dataframe\">\n",
              "  <thead>\n",
              "    <tr style=\"text-align: right;\">\n",
              "      <th></th>\n",
              "      <th>Sample</th>\n",
              "      <th>P7</th>\n",
              "      <th>P8</th>\n",
              "      <th>O1</th>\n",
              "      <th>O2</th>\n",
              "      <th>case</th>\n",
              "    </tr>\n",
              "  </thead>\n",
              "  <tbody>\n",
              "    <tr>\n",
              "      <th>0</th>\n",
              "      <td>1</td>\n",
              "      <td>0.200144</td>\n",
              "      <td>-0.022276</td>\n",
              "      <td>0.145727</td>\n",
              "      <td>0.234376</td>\n",
              "      <td>0</td>\n",
              "    </tr>\n",
              "  </tbody>\n",
              "</table>\n",
              "</div>"
            ],
            "text/plain": [
              "   Sample        P7        P8        O1        O2  case\n",
              "0       1  0.200144 -0.022276  0.145727  0.234376     0"
            ]
          },
          "metadata": {
            "tags": []
          },
          "execution_count": 151
        }
      ]
    },
    {
      "cell_type": "code",
      "metadata": {
        "id": "YsRszsT7D5ID",
        "colab_type": "code",
        "outputId": "255fbf9a-36b1-4ed2-9dd5-2e87868d51f8",
        "colab": {
          "base_uri": "https://localhost:8080/",
          "height": 78
        }
      },
      "source": [
        "df30.rename({\"Sample\":\"time in sec\"},axis=1,inplace=True)\n",
        "df30.to_csv(\"data30.csv\")\n",
        "df30.head(1)"
      ],
      "execution_count": 0,
      "outputs": [
        {
          "output_type": "execute_result",
          "data": {
            "text/html": [
              "<div>\n",
              "<style scoped>\n",
              "    .dataframe tbody tr th:only-of-type {\n",
              "        vertical-align: middle;\n",
              "    }\n",
              "\n",
              "    .dataframe tbody tr th {\n",
              "        vertical-align: top;\n",
              "    }\n",
              "\n",
              "    .dataframe thead th {\n",
              "        text-align: right;\n",
              "    }\n",
              "</style>\n",
              "<table border=\"1\" class=\"dataframe\">\n",
              "  <thead>\n",
              "    <tr style=\"text-align: right;\">\n",
              "      <th></th>\n",
              "      <th>time in sec</th>\n",
              "      <th>P7</th>\n",
              "      <th>P8</th>\n",
              "      <th>O1</th>\n",
              "      <th>O2</th>\n",
              "      <th>case</th>\n",
              "    </tr>\n",
              "  </thead>\n",
              "  <tbody>\n",
              "    <tr>\n",
              "      <th>0</th>\n",
              "      <td>1</td>\n",
              "      <td>0.200144</td>\n",
              "      <td>-0.022276</td>\n",
              "      <td>0.145727</td>\n",
              "      <td>0.234376</td>\n",
              "      <td>0</td>\n",
              "    </tr>\n",
              "  </tbody>\n",
              "</table>\n",
              "</div>"
            ],
            "text/plain": [
              "   time in sec        P7        P8        O1        O2  case\n",
              "0            1  0.200144 -0.022276  0.145727  0.234376     0"
            ]
          },
          "metadata": {
            "tags": []
          },
          "execution_count": 152
        }
      ]
    },
    {
      "cell_type": "code",
      "metadata": {
        "id": "xj52c7GxD5Cr",
        "colab_type": "code",
        "outputId": "37104a24-e696-4115-a1b1-a9a3429fa029",
        "colab": {
          "base_uri": "https://localhost:8080/",
          "height": 78
        }
      },
      "source": [
        "df32.head(1)"
      ],
      "execution_count": 0,
      "outputs": [
        {
          "output_type": "execute_result",
          "data": {
            "text/html": [
              "<div>\n",
              "<style scoped>\n",
              "    .dataframe tbody tr th:only-of-type {\n",
              "        vertical-align: middle;\n",
              "    }\n",
              "\n",
              "    .dataframe tbody tr th {\n",
              "        vertical-align: top;\n",
              "    }\n",
              "\n",
              "    .dataframe thead th {\n",
              "        text-align: right;\n",
              "    }\n",
              "</style>\n",
              "<table border=\"1\" class=\"dataframe\">\n",
              "  <thead>\n",
              "    <tr style=\"text-align: right;\">\n",
              "      <th></th>\n",
              "      <th>time in sec</th>\n",
              "      <th>P7</th>\n",
              "      <th>P8</th>\n",
              "      <th>O1</th>\n",
              "      <th>O2</th>\n",
              "      <th>case</th>\n",
              "    </tr>\n",
              "  </thead>\n",
              "  <tbody>\n",
              "    <tr>\n",
              "      <th>0</th>\n",
              "      <td>1</td>\n",
              "      <td>1.094534</td>\n",
              "      <td>-0.695392</td>\n",
              "      <td>1.133272</td>\n",
              "      <td>-0.251647</td>\n",
              "      <td>0</td>\n",
              "    </tr>\n",
              "  </tbody>\n",
              "</table>\n",
              "</div>"
            ],
            "text/plain": [
              "   time in sec        P7        P8        O1        O2  case\n",
              "0            1  1.094534 -0.695392  1.133272 -0.251647     0"
            ]
          },
          "metadata": {
            "tags": []
          },
          "execution_count": 154
        }
      ]
    },
    {
      "cell_type": "code",
      "metadata": {
        "id": "MV1_g6kDD4_5",
        "colab_type": "code",
        "outputId": "64f59ed6-ea6f-414b-af58-f1d93823daf3",
        "colab": {
          "base_uri": "https://localhost:8080/",
          "height": 78
        }
      },
      "source": [
        "df33.head(1)"
      ],
      "execution_count": 0,
      "outputs": [
        {
          "output_type": "execute_result",
          "data": {
            "text/html": [
              "<div>\n",
              "<style scoped>\n",
              "    .dataframe tbody tr th:only-of-type {\n",
              "        vertical-align: middle;\n",
              "    }\n",
              "\n",
              "    .dataframe tbody tr th {\n",
              "        vertical-align: top;\n",
              "    }\n",
              "\n",
              "    .dataframe thead th {\n",
              "        text-align: right;\n",
              "    }\n",
              "</style>\n",
              "<table border=\"1\" class=\"dataframe\">\n",
              "  <thead>\n",
              "    <tr style=\"text-align: right;\">\n",
              "      <th></th>\n",
              "      <th>Sample</th>\n",
              "      <th>P7</th>\n",
              "      <th>P8</th>\n",
              "      <th>O1</th>\n",
              "      <th>O2</th>\n",
              "      <th>case</th>\n",
              "    </tr>\n",
              "  </thead>\n",
              "  <tbody>\n",
              "    <tr>\n",
              "      <th>0</th>\n",
              "      <td>1</td>\n",
              "      <td>5.854189</td>\n",
              "      <td>1.892939</td>\n",
              "      <td>1.089081</td>\n",
              "      <td>2.24739</td>\n",
              "      <td>1</td>\n",
              "    </tr>\n",
              "  </tbody>\n",
              "</table>\n",
              "</div>"
            ],
            "text/plain": [
              "   Sample        P7        P8        O1       O2  case\n",
              "0       1  5.854189  1.892939  1.089081  2.24739     1"
            ]
          },
          "metadata": {
            "tags": []
          },
          "execution_count": 155
        }
      ]
    },
    {
      "cell_type": "code",
      "metadata": {
        "id": "aDlQg7jbD476",
        "colab_type": "code",
        "outputId": "5dc1af9a-8c55-4c69-8078-f1bd45876d54",
        "colab": {
          "base_uri": "https://localhost:8080/",
          "height": 78
        }
      },
      "source": [
        "df33.rename({\"Sample\":\"time in sec\"},axis=1,inplace=True)\n",
        "df33.to_csv(\"data33.csv\")\n",
        "df33.head(1)"
      ],
      "execution_count": 0,
      "outputs": [
        {
          "output_type": "execute_result",
          "data": {
            "text/html": [
              "<div>\n",
              "<style scoped>\n",
              "    .dataframe tbody tr th:only-of-type {\n",
              "        vertical-align: middle;\n",
              "    }\n",
              "\n",
              "    .dataframe tbody tr th {\n",
              "        vertical-align: top;\n",
              "    }\n",
              "\n",
              "    .dataframe thead th {\n",
              "        text-align: right;\n",
              "    }\n",
              "</style>\n",
              "<table border=\"1\" class=\"dataframe\">\n",
              "  <thead>\n",
              "    <tr style=\"text-align: right;\">\n",
              "      <th></th>\n",
              "      <th>time in sec</th>\n",
              "      <th>P7</th>\n",
              "      <th>P8</th>\n",
              "      <th>O1</th>\n",
              "      <th>O2</th>\n",
              "      <th>case</th>\n",
              "    </tr>\n",
              "  </thead>\n",
              "  <tbody>\n",
              "    <tr>\n",
              "      <th>0</th>\n",
              "      <td>1</td>\n",
              "      <td>5.854189</td>\n",
              "      <td>1.892939</td>\n",
              "      <td>1.089081</td>\n",
              "      <td>2.24739</td>\n",
              "      <td>1</td>\n",
              "    </tr>\n",
              "  </tbody>\n",
              "</table>\n",
              "</div>"
            ],
            "text/plain": [
              "   time in sec        P7        P8        O1       O2  case\n",
              "0            1  5.854189  1.892939  1.089081  2.24739     1"
            ]
          },
          "metadata": {
            "tags": []
          },
          "execution_count": 156
        }
      ]
    },
    {
      "cell_type": "code",
      "metadata": {
        "id": "QmK_w9SWD4zJ",
        "colab_type": "code",
        "outputId": "5b2ce13f-a3b7-4a99-aaeb-54d17468ce10",
        "colab": {
          "base_uri": "https://localhost:8080/",
          "height": 78
        }
      },
      "source": [
        "df35.rename({\"Sample\":\"time in sec\"},axis=1,inplace=True)\n",
        "df35.to_csv(\"data35.csv\")\n",
        "df35.head(1)"
      ],
      "execution_count": 0,
      "outputs": [
        {
          "output_type": "execute_result",
          "data": {
            "text/html": [
              "<div>\n",
              "<style scoped>\n",
              "    .dataframe tbody tr th:only-of-type {\n",
              "        vertical-align: middle;\n",
              "    }\n",
              "\n",
              "    .dataframe tbody tr th {\n",
              "        vertical-align: top;\n",
              "    }\n",
              "\n",
              "    .dataframe thead th {\n",
              "        text-align: right;\n",
              "    }\n",
              "</style>\n",
              "<table border=\"1\" class=\"dataframe\">\n",
              "  <thead>\n",
              "    <tr style=\"text-align: right;\">\n",
              "      <th></th>\n",
              "      <th>time in sec</th>\n",
              "      <th>P7</th>\n",
              "      <th>P8</th>\n",
              "      <th>O1</th>\n",
              "      <th>O2</th>\n",
              "      <th>case</th>\n",
              "    </tr>\n",
              "  </thead>\n",
              "  <tbody>\n",
              "    <tr>\n",
              "      <th>0</th>\n",
              "      <td>1</td>\n",
              "      <td>-0.050948</td>\n",
              "      <td>0.028652</td>\n",
              "      <td>-0.068061</td>\n",
              "      <td>-0.050761</td>\n",
              "      <td>0</td>\n",
              "    </tr>\n",
              "  </tbody>\n",
              "</table>\n",
              "</div>"
            ],
            "text/plain": [
              "   time in sec        P7        P8        O1        O2  case\n",
              "0            1 -0.050948  0.028652 -0.068061 -0.050761     0"
            ]
          },
          "metadata": {
            "tags": []
          },
          "execution_count": 159
        }
      ]
    },
    {
      "cell_type": "code",
      "metadata": {
        "id": "itoDOT27D4vt",
        "colab_type": "code",
        "outputId": "7ddfa118-d6cc-4341-f121-7b6f3bbc1130",
        "colab": {
          "base_uri": "https://localhost:8080/",
          "height": 78
        }
      },
      "source": [
        "df36.head(1)"
      ],
      "execution_count": 0,
      "outputs": [
        {
          "output_type": "execute_result",
          "data": {
            "text/html": [
              "<div>\n",
              "<style scoped>\n",
              "    .dataframe tbody tr th:only-of-type {\n",
              "        vertical-align: middle;\n",
              "    }\n",
              "\n",
              "    .dataframe tbody tr th {\n",
              "        vertical-align: top;\n",
              "    }\n",
              "\n",
              "    .dataframe thead th {\n",
              "        text-align: right;\n",
              "    }\n",
              "</style>\n",
              "<table border=\"1\" class=\"dataframe\">\n",
              "  <thead>\n",
              "    <tr style=\"text-align: right;\">\n",
              "      <th></th>\n",
              "      <th>Sample</th>\n",
              "      <th>P7</th>\n",
              "      <th>P8</th>\n",
              "      <th>O1</th>\n",
              "      <th>O2</th>\n",
              "      <th>case</th>\n",
              "    </tr>\n",
              "  </thead>\n",
              "  <tbody>\n",
              "    <tr>\n",
              "      <th>0</th>\n",
              "      <td>1</td>\n",
              "      <td>2.486292</td>\n",
              "      <td>3.728686</td>\n",
              "      <td>-2.560684</td>\n",
              "      <td>-6.129791</td>\n",
              "      <td>1</td>\n",
              "    </tr>\n",
              "  </tbody>\n",
              "</table>\n",
              "</div>"
            ],
            "text/plain": [
              "   Sample        P7        P8        O1        O2  case\n",
              "0       1  2.486292  3.728686 -2.560684 -6.129791     1"
            ]
          },
          "metadata": {
            "tags": []
          },
          "execution_count": 160
        }
      ]
    },
    {
      "cell_type": "code",
      "metadata": {
        "id": "rkTf1eOUD4s-",
        "colab_type": "code",
        "outputId": "3227a19c-beb8-42fa-a42a-03dc962b7915",
        "colab": {
          "base_uri": "https://localhost:8080/",
          "height": 78
        }
      },
      "source": [
        "df36.rename({\"Sample\":\"time in sec\"},axis=1,inplace=True)\n",
        "df36.to_csv(\"data36.csv\")\n",
        "df36.head(1)"
      ],
      "execution_count": 0,
      "outputs": [
        {
          "output_type": "execute_result",
          "data": {
            "text/html": [
              "<div>\n",
              "<style scoped>\n",
              "    .dataframe tbody tr th:only-of-type {\n",
              "        vertical-align: middle;\n",
              "    }\n",
              "\n",
              "    .dataframe tbody tr th {\n",
              "        vertical-align: top;\n",
              "    }\n",
              "\n",
              "    .dataframe thead th {\n",
              "        text-align: right;\n",
              "    }\n",
              "</style>\n",
              "<table border=\"1\" class=\"dataframe\">\n",
              "  <thead>\n",
              "    <tr style=\"text-align: right;\">\n",
              "      <th></th>\n",
              "      <th>time in sec</th>\n",
              "      <th>P7</th>\n",
              "      <th>P8</th>\n",
              "      <th>O1</th>\n",
              "      <th>O2</th>\n",
              "      <th>case</th>\n",
              "    </tr>\n",
              "  </thead>\n",
              "  <tbody>\n",
              "    <tr>\n",
              "      <th>0</th>\n",
              "      <td>1</td>\n",
              "      <td>2.486292</td>\n",
              "      <td>3.728686</td>\n",
              "      <td>-2.560684</td>\n",
              "      <td>-6.129791</td>\n",
              "      <td>1</td>\n",
              "    </tr>\n",
              "  </tbody>\n",
              "</table>\n",
              "</div>"
            ],
            "text/plain": [
              "   time in sec        P7        P8        O1        O2  case\n",
              "0            1  2.486292  3.728686 -2.560684 -6.129791     1"
            ]
          },
          "metadata": {
            "tags": []
          },
          "execution_count": 161
        }
      ]
    },
    {
      "cell_type": "code",
      "metadata": {
        "id": "KZwalnvtD4lU",
        "colab_type": "code",
        "outputId": "9f0f2860-891d-4f0a-df06-f2b9aef6aead",
        "colab": {
          "base_uri": "https://localhost:8080/",
          "height": 78
        }
      },
      "source": [
        "df38.rename({\"Sample\":\"time in sec\"},axis=1,inplace=True)\n",
        "df38.to_csv(\"data38.csv\")\n",
        "df38.head(1)"
      ],
      "execution_count": 0,
      "outputs": [
        {
          "output_type": "execute_result",
          "data": {
            "text/html": [
              "<div>\n",
              "<style scoped>\n",
              "    .dataframe tbody tr th:only-of-type {\n",
              "        vertical-align: middle;\n",
              "    }\n",
              "\n",
              "    .dataframe tbody tr th {\n",
              "        vertical-align: top;\n",
              "    }\n",
              "\n",
              "    .dataframe thead th {\n",
              "        text-align: right;\n",
              "    }\n",
              "</style>\n",
              "<table border=\"1\" class=\"dataframe\">\n",
              "  <thead>\n",
              "    <tr style=\"text-align: right;\">\n",
              "      <th></th>\n",
              "      <th>time in sec</th>\n",
              "      <th>P7</th>\n",
              "      <th>P8</th>\n",
              "      <th>O1</th>\n",
              "      <th>O2</th>\n",
              "      <th>case</th>\n",
              "    </tr>\n",
              "  </thead>\n",
              "  <tbody>\n",
              "    <tr>\n",
              "      <th>0</th>\n",
              "      <td>1</td>\n",
              "      <td>-0.142971</td>\n",
              "      <td>-0.12935</td>\n",
              "      <td>-0.039839</td>\n",
              "      <td>-0.007707</td>\n",
              "      <td>0</td>\n",
              "    </tr>\n",
              "  </tbody>\n",
              "</table>\n",
              "</div>"
            ],
            "text/plain": [
              "   time in sec        P7       P8        O1        O2  case\n",
              "0            1 -0.142971 -0.12935 -0.039839 -0.007707     0"
            ]
          },
          "metadata": {
            "tags": []
          },
          "execution_count": 164
        }
      ]
    },
    {
      "cell_type": "code",
      "metadata": {
        "id": "UAm8WlewD4iy",
        "colab_type": "code",
        "outputId": "8694de94-c3e6-40ce-bf6a-446e5abdcf47",
        "colab": {
          "base_uri": "https://localhost:8080/",
          "height": 78
        }
      },
      "source": [
        "df39.head(1)"
      ],
      "execution_count": 0,
      "outputs": [
        {
          "output_type": "execute_result",
          "data": {
            "text/html": [
              "<div>\n",
              "<style scoped>\n",
              "    .dataframe tbody tr th:only-of-type {\n",
              "        vertical-align: middle;\n",
              "    }\n",
              "\n",
              "    .dataframe tbody tr th {\n",
              "        vertical-align: top;\n",
              "    }\n",
              "\n",
              "    .dataframe thead th {\n",
              "        text-align: right;\n",
              "    }\n",
              "</style>\n",
              "<table border=\"1\" class=\"dataframe\">\n",
              "  <thead>\n",
              "    <tr style=\"text-align: right;\">\n",
              "      <th></th>\n",
              "      <th>Sample</th>\n",
              "      <th>P7</th>\n",
              "      <th>P8</th>\n",
              "      <th>O1</th>\n",
              "      <th>O2</th>\n",
              "      <th>case</th>\n",
              "    </tr>\n",
              "  </thead>\n",
              "  <tbody>\n",
              "    <tr>\n",
              "      <th>0</th>\n",
              "      <td>1</td>\n",
              "      <td>-3.602787</td>\n",
              "      <td>-11.840184</td>\n",
              "      <td>-1.659014</td>\n",
              "      <td>-1.3107</td>\n",
              "      <td>1</td>\n",
              "    </tr>\n",
              "  </tbody>\n",
              "</table>\n",
              "</div>"
            ],
            "text/plain": [
              "   Sample        P7         P8        O1      O2  case\n",
              "0       1 -3.602787 -11.840184 -1.659014 -1.3107     1"
            ]
          },
          "metadata": {
            "tags": []
          },
          "execution_count": 165
        }
      ]
    },
    {
      "cell_type": "code",
      "metadata": {
        "id": "P2jIr6-fD4e_",
        "colab_type": "code",
        "outputId": "b3317f38-7243-4cdd-c834-afd47b7dcc15",
        "colab": {
          "base_uri": "https://localhost:8080/",
          "height": 78
        }
      },
      "source": [
        "df39.rename({\"Sample\":\"time in sec\"},axis=1,inplace=True)\n",
        "df39.to_csv(\"data39.csv\")\n",
        "df39.head(1)"
      ],
      "execution_count": 0,
      "outputs": [
        {
          "output_type": "execute_result",
          "data": {
            "text/html": [
              "<div>\n",
              "<style scoped>\n",
              "    .dataframe tbody tr th:only-of-type {\n",
              "        vertical-align: middle;\n",
              "    }\n",
              "\n",
              "    .dataframe tbody tr th {\n",
              "        vertical-align: top;\n",
              "    }\n",
              "\n",
              "    .dataframe thead th {\n",
              "        text-align: right;\n",
              "    }\n",
              "</style>\n",
              "<table border=\"1\" class=\"dataframe\">\n",
              "  <thead>\n",
              "    <tr style=\"text-align: right;\">\n",
              "      <th></th>\n",
              "      <th>time in sec</th>\n",
              "      <th>P7</th>\n",
              "      <th>P8</th>\n",
              "      <th>O1</th>\n",
              "      <th>O2</th>\n",
              "      <th>case</th>\n",
              "    </tr>\n",
              "  </thead>\n",
              "  <tbody>\n",
              "    <tr>\n",
              "      <th>0</th>\n",
              "      <td>1</td>\n",
              "      <td>-3.602787</td>\n",
              "      <td>-11.840184</td>\n",
              "      <td>-1.659014</td>\n",
              "      <td>-1.3107</td>\n",
              "      <td>1</td>\n",
              "    </tr>\n",
              "  </tbody>\n",
              "</table>\n",
              "</div>"
            ],
            "text/plain": [
              "   time in sec        P7         P8        O1      O2  case\n",
              "0            1 -3.602787 -11.840184 -1.659014 -1.3107     1"
            ]
          },
          "metadata": {
            "tags": []
          },
          "execution_count": 166
        }
      ]
    },
    {
      "cell_type": "code",
      "metadata": {
        "id": "qGqR-FAQD4UU",
        "colab_type": "code",
        "outputId": "07e3fa71-1074-410f-c4a8-e4c408fa6c84",
        "colab": {
          "base_uri": "https://localhost:8080/",
          "height": 78
        }
      },
      "source": [
        "df41.rename({\"Sample\":\"time in sec\"},axis=1,inplace=True)\n",
        "df41.to_csv(\"data41.csv\")\n",
        "df41.head(1)"
      ],
      "execution_count": 0,
      "outputs": [
        {
          "output_type": "execute_result",
          "data": {
            "text/html": [
              "<div>\n",
              "<style scoped>\n",
              "    .dataframe tbody tr th:only-of-type {\n",
              "        vertical-align: middle;\n",
              "    }\n",
              "\n",
              "    .dataframe tbody tr th {\n",
              "        vertical-align: top;\n",
              "    }\n",
              "\n",
              "    .dataframe thead th {\n",
              "        text-align: right;\n",
              "    }\n",
              "</style>\n",
              "<table border=\"1\" class=\"dataframe\">\n",
              "  <thead>\n",
              "    <tr style=\"text-align: right;\">\n",
              "      <th></th>\n",
              "      <th>time in sec</th>\n",
              "      <th>P7</th>\n",
              "      <th>P8</th>\n",
              "      <th>O1</th>\n",
              "      <th>O2</th>\n",
              "      <th>case</th>\n",
              "    </tr>\n",
              "  </thead>\n",
              "  <tbody>\n",
              "    <tr>\n",
              "      <th>0</th>\n",
              "      <td>1</td>\n",
              "      <td>-0.325842</td>\n",
              "      <td>0.042877</td>\n",
              "      <td>0.00014</td>\n",
              "      <td>-0.000353</td>\n",
              "      <td>0</td>\n",
              "    </tr>\n",
              "  </tbody>\n",
              "</table>\n",
              "</div>"
            ],
            "text/plain": [
              "   time in sec        P7        P8       O1        O2  case\n",
              "0            1 -0.325842  0.042877  0.00014 -0.000353     0"
            ]
          },
          "metadata": {
            "tags": []
          },
          "execution_count": 169
        }
      ]
    },
    {
      "cell_type": "code",
      "metadata": {
        "id": "a3PeCQraD4RU",
        "colab_type": "code",
        "colab": {}
      },
      "source": [
        "df1=pd.read_csv(\"/content/drive/My Drive/COLAB Files/ddata/alwyn_combine_1.csv\")\n",
        "df2=pd.read_csv(\"/content/drive/My Drive/COLAB Files/ddata/alwyn_fam_1_filt_13.csv\")\n",
        "df3=pd.read_csv(\"/content/drive/My Drive/COLAB Files/ddata/alwyn_non_1_filt_13.csv\")\n",
        "df4=pd.read_csv(\"/content/drive/My Drive/COLAB Files/ddata/data4.csv\")\n",
        "df5=pd.read_csv(\"/content/drive/My Drive/COLAB Files/ddata/deepak_fam_1_filt_13.csv\")\n",
        "\n",
        "df6=pd.read_csv(\"/content/drive/My Drive/COLAB Files/ddata/data6.csv\")\n",
        "df7=pd.read_csv(\"/content/drive/My Drive/COLAB Files/ddata/data7.csv\")\n",
        "df8=pd.read_csv(\"/content/drive/My Drive/COLAB Files/ddata/data8.csv\")\n",
        "df9=pd.read_csv(\"/content/drive/My Drive/COLAB Files/ddata/data9.csv\")\n",
        "df10=pd.read_csv(\"/content/drive/My Drive/COLAB Files/ddata/data10.csv\")\n",
        "\n",
        "df11=pd.read_csv(\"/content/drive/My Drive/COLAB Files/ddata/data11.csv\")\n",
        "df12=pd.read_csv(\"/content/drive/My Drive/COLAB Files/ddata/data12.csv\")\n",
        "df13=pd.read_csv(\"/content/drive/My Drive/COLAB Files/ddata/murli_fam_2_filt_13.csv\")\n",
        "df14=pd.read_csv(\"/content/drive/My Drive/COLAB Files/ddata/murli_non_1_filt_13.csv\")\n",
        "df15=pd.read_csv(\"/content/drive/My Drive/COLAB Files/ddata/neeraj_combine_1.csv\")\n",
        "\n",
        "df16=pd.read_csv(\"/content/drive/My Drive/COLAB Files/ddata/neeraj_fam_1_filt_13.csv\")\n",
        "df17=pd.read_csv(\"/content/drive/My Drive/COLAB Files/ddata/neeraj_non_2_filt_13.csv\")\n",
        "df18=pd.read_csv(\"/content/drive/My Drive/COLAB Files/ddata/data18.csv\")\n",
        "df19=pd.read_csv(\"/content/drive/My Drive/COLAB Files/ddata/data19.csv\")\n",
        "df20=pd.read_csv(\"/content/drive/My Drive/COLAB Files/ddata/nikhil_fam_1_filt_13.csv\")\n",
        "\n",
        "df21=pd.read_csv(\"/content/drive/My Drive/COLAB Files/ddata/data21.csv\")\n",
        "df22=pd.read_csv(\"/content/drive/My Drive/COLAB Files/ddata/data22.csv\")\n",
        "df23=pd.read_csv(\"/content/drive/My Drive/COLAB Files/ddata/rahul_fam_1_filt_13.csv\")\n",
        "df24=pd.read_csv(\"/content/drive/My Drive/COLAB Files/ddata/data24.csv\")\n",
        "df25=pd.read_csv(\"/content/drive/My Drive/COLAB Files/ddata/data25.csv\")\n",
        "\n",
        "df26=pd.read_csv(\"/content/drive/My Drive/COLAB Files/ddata/rakesh_fam_1_filt_13.csv\")\n",
        "df27=pd.read_csv(\"/content/drive/My Drive/COLAB Files/ddata/data27.csv\")\n",
        "df28=pd.read_csv(\"/content/drive/My Drive/COLAB Files/ddata/data28.csv\")\n",
        "df29=pd.read_csv(\"/content/drive/My Drive/COLAB Files/ddata/data29.csv\")\n",
        "df30=pd.read_csv(\"/content/drive/My Drive/COLAB Files/ddata/data30.csv\")\n",
        "\n",
        "df31=pd.read_csv(\"/content/drive/My Drive/COLAB Files/ddata/sunny_fam_1_filt_13.csv\")\n",
        "df32=pd.read_csv(\"/content/drive/My Drive/COLAB Files/ddata/sunny_non_1_filt_13.csv\")\n",
        "df33=pd.read_csv(\"/content/drive/My Drive/COLAB Files/ddata/data33.csv\")\n",
        "df34=pd.read_csv(\"/content/drive/My Drive/COLAB Files/ddata/sus_fam_1_filt_13.csv\")\n",
        "df35=pd.read_csv(\"/content/drive/My Drive/COLAB Files/ddata/data35.csv\")\n",
        "\n",
        "df36=pd.read_csv(\"/content/drive/My Drive/COLAB Files/ddata/data36.csv\")\n",
        "df37=pd.read_csv(\"/content/drive/My Drive/COLAB Files/ddata/utkarsh_fam_1_filt_13.csv\")\n",
        "df38=pd.read_csv(\"/content/drive/My Drive/COLAB Files/ddata/data38.csv\")\n",
        "df39=pd.read_csv(\"/content/drive/My Drive/COLAB Files/ddata/data39.csv\")\n",
        "df40=pd.read_csv(\"/content/drive/My Drive/COLAB Files/ddata/vageesh_fam_1_filt_13.csv\")\n",
        "\n",
        "df41=pd.read_csv(\"/content/drive/My Drive/COLAB Files/ddata/data41.csv\")"
      ],
      "execution_count": 0,
      "outputs": []
    },
    {
      "cell_type": "code",
      "metadata": {
        "id": "4EX52-zWZICg",
        "colab_type": "code",
        "outputId": "d9aafa13-d2b0-4b3c-87f8-c898a8b83763",
        "colab": {
          "base_uri": "https://localhost:8080/",
          "height": 183
        }
      },
      "source": [
        "#df1=pd.read_csv(\"/content/drive/My Drive/COLAB Files/ddata/alwyn_combine_1.csv\")\n",
        "df2=pd.read_csv(\"/content/drive/My Drive/COLAB Files/ddata/alwyn_fam_1_filt_13.csv\")\n",
        "df3=pd.read_csv(\"/content/drive/My Drive/COLAB Files/ddata/alwyn_non_1_filt_13.csv\")\n",
        "data1=df2.append(df3)\n",
        "#df4=pd.read_csv(\"/content/drive/My Drive/COLAB Files/ddata/deepak_combine_1.csv\")\n",
        "df5=pd.read_csv(\"/content/drive/My Drive/COLAB Files/ddata/deepak_fam_1_filt_13.csv\")\n",
        "df6=pd.read_csv(\"/content/drive/My Drive/COLAB Files/ddata/deepak_non_1_filt_13.csv\")\n",
        "data2=df5.append(df6)\n",
        "#df7=pd.read_csv(\"/content/drive/My Drive/COLAB Files/ddata/deepak_test_1.csv\")\n",
        "\n",
        "#df8=pd.read_csv(\"/content/drive/My Drive/COLAB Files/ddata/main_combine_1.csv\")\n",
        "#df9=pd.read_csv(\"/content/drive/My Drive/COLAB Files/ddata/main_combine_ica.csv\")\n",
        "#df10=pd.read_csv(\"/content/drive/My Drive/COLAB Files/ddata/main_nn_1.csv\")\n",
        "\n",
        "#df11=pd.read_csv(\"/content/drive/My Drive/COLAB Files/ddata/main_test_1.csv\")\n",
        "#df12=pd.read_csv(\"/content/drive/My Drive/COLAB Files/ddata/main_test_ica.csv\")\n",
        "df13=pd.read_csv(\"/content/drive/My Drive/COLAB Files/ddata/murli_fam_2_filt_13.csv\")\n",
        "df14=pd.read_csv(\"/content/drive/My Drive/COLAB Files/ddata/murli_non_1_filt_13.csv\")\n",
        "data3=df13.append(df14)\n",
        "#df15=pd.read_csv(\"/content/drive/My Drive/COLAB Files/ddata/neeraj_combine_1.csv\")\n",
        "df16=pd.read_csv(\"/content/drive/My Drive/COLAB Files/ddata/neeraj_fam_1_filt_13.csv\")\n",
        "df17=pd.read_csv(\"/content/drive/My Drive/COLAB Files/ddata/neeraj_non_2_filt_13.csv\")\n",
        "data4=df16.append(df17)\n",
        "#df18=pd.read_csv(\"/content/drive/My Drive/COLAB Files/ddata/neeraj_test_1.csv\")\n",
        "#df19=pd.read_csv(\"/content/drive/My Drive/COLAB Files/ddata/nikhil_combine_1.csv\")\n",
        "\n",
        "df20=pd.read_csv(\"/content/drive/My Drive/COLAB Files/ddata/nikhil_fam_1_filt_13.csv\")\n",
        "df21=pd.read_csv(\"/content/drive/My Drive/COLAB Files/ddata/nikhil_non_1_filt_13.csv\")\n",
        "data5=df20.append(df21)\n",
        "#df22=pd.read_csv(\"/content/drive/My Drive/COLAB Files/ddata/rahul_combine_1.csv\")\n",
        "df23=pd.read_csv(\"/content/drive/My Drive/COLAB Files/ddata/rahul_fam_1_filt_13.csv\")\n",
        "df24=pd.read_csv(\"/content/drive/My Drive/COLAB Files/ddata/rahul_non_1_filt_13.csv\")\n",
        "data6=df23.append(df24)\n",
        "#df25=pd.read_csv(\"/content/drive/My Drive/COLAB Files/ddata/rakesh_combine_1.csv\")\n",
        "df26=pd.read_csv(\"/content/drive/My Drive/COLAB Files/ddata/rakesh_fam_1_filt_13.csv\")\n",
        "df27=pd.read_csv(\"/content/drive/My Drive/COLAB Files/ddata/rakesh_non_1_filt_13.csv\")\n",
        "data7=df26.append(df27)\n",
        "#df28=pd.read_csv(\"/content/drive/My Drive/COLAB Files/ddata/subham_combine_1.csv\")\n",
        "df29=pd.read_csv(\"/content/drive/My Drive/COLAB Files/ddata/subham_fam_1_filt_13.csv\")\n",
        "df30=pd.read_csv(\"/content/drive/My Drive/COLAB Files/ddata/subham_non_1_filt_13.csv\")\n",
        "data8=df29.append(df30)\n",
        "df31=pd.read_csv(\"/content/drive/My Drive/COLAB Files/ddata/sunny_fam_1_filt_13.csv\")\n",
        "df32=pd.read_csv(\"/content/drive/My Drive/COLAB Files/ddata/sunny_non_1_filt_13.csv\")\n",
        "data9=df31.append(df32)\n",
        "#df33=pd.read_csv(\"/content/drive/My Drive/COLAB Files/ddata/sus_combine_1.csv\")\n",
        "df34=pd.read_csv(\"/content/drive/My Drive/COLAB Files/ddata/sus_fam_1_filt_13.csv\")\n",
        "df35=pd.read_csv(\"/content/drive/My Drive/COLAB Files/ddata/sus_non_1_filt_13.csv\")\n",
        "data10=df34.append(df35)\n",
        "#df36=pd.read_csv(\"/content/drive/My Drive/COLAB Files/ddata/utkarsh_combine_1.csv\")\n",
        "df37=pd.read_csv(\"/content/drive/My Drive/COLAB Files/ddata/utkarsh_fam_1_filt_13.csv\")\n",
        "df38=pd.read_csv(\"/content/drive/My Drive/COLAB Files/ddata/utkarsh_non_1_filt_13.csv\")\n",
        "data11=df37.append(df38)\n",
        "#df39=pd.read_csv(\"/content/drive/My Drive/COLAB Files/ddata/vageesh_combine_1.csv\")\n",
        "df40=pd.read_csv(\"/content/drive/My Drive/COLAB Files/ddata/vageesh_fam_1_filt_13.csv\")\n",
        "df41=pd.read_csv(\"/content/drive/My Drive/COLAB Files/ddata/vageesh_non_1_filt_13.csv\")\n",
        "data12=df40.append(df41)"
      ],
      "execution_count": 6,
      "outputs": [
        {
          "output_type": "stream",
          "text": [
            "/usr/local/lib/python3.6/dist-packages/pandas/core/frame.py:6692: FutureWarning: Sorting because non-concatenation axis is not aligned. A future version\n",
            "of pandas will change to not sort by default.\n",
            "\n",
            "To accept the future behavior, pass 'sort=False'.\n",
            "\n",
            "To retain the current behavior and silence the warning, pass 'sort=True'.\n",
            "\n",
            "  sort=sort)\n"
          ],
          "name": "stderr"
        }
      ]
    },
    {
      "cell_type": "code",
      "metadata": {
        "id": "dNKrGXHDbp6h",
        "colab_type": "code",
        "outputId": "6bcdec80-00d4-4b5b-f0a6-5df88af351dc",
        "colab": {
          "base_uri": "https://localhost:8080/",
          "height": 108
        }
      },
      "source": [
        "data1.head(2)"
      ],
      "execution_count": 7,
      "outputs": [
        {
          "output_type": "execute_result",
          "data": {
            "text/html": [
              "<div>\n",
              "<style scoped>\n",
              "    .dataframe tbody tr th:only-of-type {\n",
              "        vertical-align: middle;\n",
              "    }\n",
              "\n",
              "    .dataframe tbody tr th {\n",
              "        vertical-align: top;\n",
              "    }\n",
              "\n",
              "    .dataframe thead th {\n",
              "        text-align: right;\n",
              "    }\n",
              "</style>\n",
              "<table border=\"1\" class=\"dataframe\">\n",
              "  <thead>\n",
              "    <tr style=\"text-align: right;\">\n",
              "      <th></th>\n",
              "      <th>time in sec</th>\n",
              "      <th>P7</th>\n",
              "      <th>P8</th>\n",
              "      <th>O1</th>\n",
              "      <th>O2</th>\n",
              "      <th>case</th>\n",
              "    </tr>\n",
              "  </thead>\n",
              "  <tbody>\n",
              "    <tr>\n",
              "      <th>0</th>\n",
              "      <td>1</td>\n",
              "      <td>0.019579</td>\n",
              "      <td>0.031368</td>\n",
              "      <td>0.049292</td>\n",
              "      <td>0.031376</td>\n",
              "      <td>1</td>\n",
              "    </tr>\n",
              "    <tr>\n",
              "      <th>1</th>\n",
              "      <td>2</td>\n",
              "      <td>-0.005074</td>\n",
              "      <td>0.061788</td>\n",
              "      <td>0.172507</td>\n",
              "      <td>-0.009579</td>\n",
              "      <td>1</td>\n",
              "    </tr>\n",
              "  </tbody>\n",
              "</table>\n",
              "</div>"
            ],
            "text/plain": [
              "   time in sec        P7        P8        O1        O2  case\n",
              "0            1  0.019579  0.031368  0.049292  0.031376     1\n",
              "1            2 -0.005074  0.061788  0.172507 -0.009579     1"
            ]
          },
          "metadata": {
            "tags": []
          },
          "execution_count": 7
        }
      ]
    },
    {
      "cell_type": "code",
      "metadata": {
        "id": "EENd2pedFFlr",
        "colab_type": "code",
        "colab": {}
      },
      "source": [
        "data1.drop(['time in sec'],axis=1,inplace=True)\n",
        "data2.drop(['time in sec'],axis=1,inplace=True)\n",
        "data3.drop(['time in sec'],axis=1,inplace=True)\n",
        "data4.drop(['time in sec'],axis=1,inplace=True)\n",
        "data5.drop(['time in sec'],axis=1,inplace=True)\n",
        "data6.drop(['time in sec'],axis=1,inplace=True)\n",
        "data7.drop(['time in sec'],axis=1,inplace=True)\n",
        "data8.drop(['time in sec'],axis=1,inplace=True)\n",
        "data9.drop(['time in sec'],axis=1,inplace=True)\n",
        "data10.drop(['time in sec'],axis=1,inplace=True)\n",
        "data11.drop(['time in sec'],axis=1,inplace=True)\n",
        "data12.drop(['time in sec'],axis=1,inplace=True)\n"
      ],
      "execution_count": 0,
      "outputs": []
    },
    {
      "cell_type": "code",
      "metadata": {
        "id": "PLGYpSl9FFhb",
        "colab_type": "code",
        "outputId": "a2fe0bc0-59b9-4788-cebb-9e1c9285108a",
        "colab": {
          "base_uri": "https://localhost:8080/",
          "height": 108
        }
      },
      "source": [
        "data1.head(2)"
      ],
      "execution_count": 0,
      "outputs": [
        {
          "output_type": "execute_result",
          "data": {
            "text/html": [
              "<div>\n",
              "<style scoped>\n",
              "    .dataframe tbody tr th:only-of-type {\n",
              "        vertical-align: middle;\n",
              "    }\n",
              "\n",
              "    .dataframe tbody tr th {\n",
              "        vertical-align: top;\n",
              "    }\n",
              "\n",
              "    .dataframe thead th {\n",
              "        text-align: right;\n",
              "    }\n",
              "</style>\n",
              "<table border=\"1\" class=\"dataframe\">\n",
              "  <thead>\n",
              "    <tr style=\"text-align: right;\">\n",
              "      <th></th>\n",
              "      <th>P7</th>\n",
              "      <th>P8</th>\n",
              "      <th>O1</th>\n",
              "      <th>O2</th>\n",
              "      <th>case</th>\n",
              "    </tr>\n",
              "  </thead>\n",
              "  <tbody>\n",
              "    <tr>\n",
              "      <th>0</th>\n",
              "      <td>0.019579</td>\n",
              "      <td>0.031368</td>\n",
              "      <td>0.049292</td>\n",
              "      <td>0.031376</td>\n",
              "      <td>1</td>\n",
              "    </tr>\n",
              "    <tr>\n",
              "      <th>1</th>\n",
              "      <td>-0.005074</td>\n",
              "      <td>0.061788</td>\n",
              "      <td>0.172507</td>\n",
              "      <td>-0.009579</td>\n",
              "      <td>1</td>\n",
              "    </tr>\n",
              "  </tbody>\n",
              "</table>\n",
              "</div>"
            ],
            "text/plain": [
              "         P7        P8        O1        O2  case\n",
              "0  0.019579  0.031368  0.049292  0.031376     1\n",
              "1 -0.005074  0.061788  0.172507 -0.009579     1"
            ]
          },
          "metadata": {
            "tags": []
          },
          "execution_count": 240
        }
      ]
    },
    {
      "cell_type": "code",
      "metadata": {
        "id": "H0fm2beie6Pf",
        "colab_type": "code",
        "outputId": "3c5e9565-a7cb-482b-8708-fe7880419bc8",
        "colab": {
          "base_uri": "https://localhost:8080/",
          "height": 35
        }
      },
      "source": [
        "data1.shape"
      ],
      "execution_count": 9,
      "outputs": [
        {
          "output_type": "execute_result",
          "data": {
            "text/plain": [
              "(27033, 5)"
            ]
          },
          "metadata": {
            "tags": []
          },
          "execution_count": 9
        }
      ]
    },
    {
      "cell_type": "code",
      "metadata": {
        "id": "1viyC-6yFFee",
        "colab_type": "code",
        "colab": {}
      },
      "source": [
        "data1.to_csv('data1.csv')\n",
        "data2.to_csv('data2.csv')\n",
        "data3.to_csv('data3.csv')\n",
        "data4.to_csv('data4.csv')\n",
        "data5.to_csv('data5.csv')\n",
        "data6.to_csv('data6.csv')\n",
        "data7.to_csv('data7.csv')\n",
        "data8.to_csv('data8.csv')\n",
        "data9.to_csv('data9.csv')\n",
        "data10.to_csv('data10.csv')\n",
        "data11.to_csv('data11.csv')\n",
        "data12.to_csv('data12.csv')"
      ],
      "execution_count": 0,
      "outputs": []
    },
    {
      "cell_type": "code",
      "metadata": {
        "id": "zAqsMHEzmU6J",
        "colab_type": "code",
        "colab": {}
      },
      "source": [
        "dfy=data1['case']"
      ],
      "execution_count": 0,
      "outputs": []
    },
    {
      "cell_type": "code",
      "metadata": {
        "id": "Sf9CtykCmU3k",
        "colab_type": "code",
        "outputId": "ea5d17aa-d307-44e9-ba4e-d4c4b5c26008",
        "colab": {
          "base_uri": "https://localhost:8080/",
          "height": 90
        }
      },
      "source": [
        "print(dfy.shape)\n",
        "dfy.head(2)"
      ],
      "execution_count": 11,
      "outputs": [
        {
          "output_type": "stream",
          "text": [
            "(27033,)\n"
          ],
          "name": "stdout"
        },
        {
          "output_type": "execute_result",
          "data": {
            "text/plain": [
              "0    1\n",
              "1    1\n",
              "Name: case, dtype: int64"
            ]
          },
          "metadata": {
            "tags": []
          },
          "execution_count": 11
        }
      ]
    },
    {
      "cell_type": "code",
      "metadata": {
        "id": "HQM_eKxKmU00",
        "colab_type": "code",
        "outputId": "49d6ddc2-3986-4ea2-82c2-6dd0dbffe0e8",
        "colab": {
          "base_uri": "https://localhost:8080/",
          "height": 78
        }
      },
      "source": [
        "dfx=data1.drop(['case'],axis=1)\n",
        "dfx.head(1)"
      ],
      "execution_count": 12,
      "outputs": [
        {
          "output_type": "execute_result",
          "data": {
            "text/html": [
              "<div>\n",
              "<style scoped>\n",
              "    .dataframe tbody tr th:only-of-type {\n",
              "        vertical-align: middle;\n",
              "    }\n",
              "\n",
              "    .dataframe tbody tr th {\n",
              "        vertical-align: top;\n",
              "    }\n",
              "\n",
              "    .dataframe thead th {\n",
              "        text-align: right;\n",
              "    }\n",
              "</style>\n",
              "<table border=\"1\" class=\"dataframe\">\n",
              "  <thead>\n",
              "    <tr style=\"text-align: right;\">\n",
              "      <th></th>\n",
              "      <th>P7</th>\n",
              "      <th>P8</th>\n",
              "      <th>O1</th>\n",
              "      <th>O2</th>\n",
              "    </tr>\n",
              "  </thead>\n",
              "  <tbody>\n",
              "    <tr>\n",
              "      <th>0</th>\n",
              "      <td>0.019579</td>\n",
              "      <td>0.031368</td>\n",
              "      <td>0.049292</td>\n",
              "      <td>0.031376</td>\n",
              "    </tr>\n",
              "  </tbody>\n",
              "</table>\n",
              "</div>"
            ],
            "text/plain": [
              "         P7        P8        O1        O2\n",
              "0  0.019579  0.031368  0.049292  0.031376"
            ]
          },
          "metadata": {
            "tags": []
          },
          "execution_count": 12
        }
      ]
    },
    {
      "cell_type": "code",
      "metadata": {
        "id": "hQB9QoZXmUkm",
        "colab_type": "code",
        "colab": {}
      },
      "source": [
        "xtrain=dfx\n",
        "ytrain=dfy"
      ],
      "execution_count": 0,
      "outputs": []
    },
    {
      "cell_type": "code",
      "metadata": {
        "id": "f-SJXdk-yQ22",
        "colab_type": "code",
        "outputId": "7b6ff312-6367-45dc-c241-7cd6f5b2dd7e",
        "colab": {
          "base_uri": "https://localhost:8080/",
          "height": 78
        }
      },
      "source": [
        "d1=pd.read_csv(\"/content/drive/My Drive/COLAB Files/ddata/alwyn_combine_1.csv\")\n",
        "d1.head(1)"
      ],
      "execution_count": 14,
      "outputs": [
        {
          "output_type": "execute_result",
          "data": {
            "text/html": [
              "<div>\n",
              "<style scoped>\n",
              "    .dataframe tbody tr th:only-of-type {\n",
              "        vertical-align: middle;\n",
              "    }\n",
              "\n",
              "    .dataframe tbody tr th {\n",
              "        vertical-align: top;\n",
              "    }\n",
              "\n",
              "    .dataframe thead th {\n",
              "        text-align: right;\n",
              "    }\n",
              "</style>\n",
              "<table border=\"1\" class=\"dataframe\">\n",
              "  <thead>\n",
              "    <tr style=\"text-align: right;\">\n",
              "      <th></th>\n",
              "      <th>time in sec</th>\n",
              "      <th>P7</th>\n",
              "      <th>P8</th>\n",
              "      <th>O1</th>\n",
              "      <th>O2</th>\n",
              "      <th>case</th>\n",
              "    </tr>\n",
              "  </thead>\n",
              "  <tbody>\n",
              "    <tr>\n",
              "      <th>0</th>\n",
              "      <td>1</td>\n",
              "      <td>1.919887</td>\n",
              "      <td>2.501204</td>\n",
              "      <td>3.080694</td>\n",
              "      <td>2.074751</td>\n",
              "      <td>1</td>\n",
              "    </tr>\n",
              "  </tbody>\n",
              "</table>\n",
              "</div>"
            ],
            "text/plain": [
              "   time in sec        P7        P8        O1        O2  case\n",
              "0            1  1.919887  2.501204  3.080694  2.074751     1"
            ]
          },
          "metadata": {
            "tags": []
          },
          "execution_count": 14
        }
      ]
    },
    {
      "cell_type": "code",
      "metadata": {
        "id": "0oYrnMuVydFS",
        "colab_type": "code",
        "outputId": "32fa2b18-1c5d-456f-dca4-8f40af1e70a1",
        "colab": {
          "base_uri": "https://localhost:8080/",
          "height": 78
        }
      },
      "source": [
        "d1=d1.drop(['time in sec'],axis=1)\n",
        "d1.head(1)"
      ],
      "execution_count": 15,
      "outputs": [
        {
          "output_type": "execute_result",
          "data": {
            "text/html": [
              "<div>\n",
              "<style scoped>\n",
              "    .dataframe tbody tr th:only-of-type {\n",
              "        vertical-align: middle;\n",
              "    }\n",
              "\n",
              "    .dataframe tbody tr th {\n",
              "        vertical-align: top;\n",
              "    }\n",
              "\n",
              "    .dataframe thead th {\n",
              "        text-align: right;\n",
              "    }\n",
              "</style>\n",
              "<table border=\"1\" class=\"dataframe\">\n",
              "  <thead>\n",
              "    <tr style=\"text-align: right;\">\n",
              "      <th></th>\n",
              "      <th>P7</th>\n",
              "      <th>P8</th>\n",
              "      <th>O1</th>\n",
              "      <th>O2</th>\n",
              "      <th>case</th>\n",
              "    </tr>\n",
              "  </thead>\n",
              "  <tbody>\n",
              "    <tr>\n",
              "      <th>0</th>\n",
              "      <td>1.919887</td>\n",
              "      <td>2.501204</td>\n",
              "      <td>3.080694</td>\n",
              "      <td>2.074751</td>\n",
              "      <td>1</td>\n",
              "    </tr>\n",
              "  </tbody>\n",
              "</table>\n",
              "</div>"
            ],
            "text/plain": [
              "         P7        P8        O1        O2  case\n",
              "0  1.919887  2.501204  3.080694  2.074751     1"
            ]
          },
          "metadata": {
            "tags": []
          },
          "execution_count": 15
        }
      ]
    },
    {
      "cell_type": "code",
      "metadata": {
        "id": "vbjZxw0l5at9",
        "colab_type": "code",
        "colab": {}
      },
      "source": [
        "yts=d1['case']"
      ],
      "execution_count": 0,
      "outputs": []
    },
    {
      "cell_type": "code",
      "metadata": {
        "id": "pHSlhrz35fXZ",
        "colab_type": "code",
        "colab": {}
      },
      "source": [
        "xts=d1.drop(['case'],axis=1)"
      ],
      "execution_count": 0,
      "outputs": []
    },
    {
      "cell_type": "code",
      "metadata": {
        "id": "oLEHQxuPyc1l",
        "colab_type": "code",
        "colab": {}
      },
      "source": [
        "ytest=yts\n",
        "xtest=xts"
      ],
      "execution_count": 0,
      "outputs": []
    },
    {
      "cell_type": "code",
      "metadata": {
        "id": "kY6cwvp3-Yem",
        "colab_type": "code",
        "colab": {}
      },
      "source": [
        ""
      ],
      "execution_count": 0,
      "outputs": []
    },
    {
      "cell_type": "code",
      "metadata": {
        "id": "tT2az6QN-YHx",
        "colab_type": "code",
        "colab": {}
      },
      "source": [
        ""
      ],
      "execution_count": 0,
      "outputs": []
    },
    {
      "cell_type": "code",
      "metadata": {
        "id": "G2BzLY0NxWJY",
        "colab_type": "code",
        "colab": {}
      },
      "source": [
        "from sklearn.ensemble import RandomForestClassifier\n",
        "from sklearn.datasets import make_classification\n",
        "from sklearn.metrics import confusion_matrix\n",
        "from sklearn.metrics import accuracy_score"
      ],
      "execution_count": 0,
      "outputs": []
    },
    {
      "cell_type": "code",
      "metadata": {
        "id": "3eLXUOYBxWGX",
        "colab_type": "code",
        "colab": {}
      },
      "source": [
        "#RandomForestRegressor(n_estimators=40, min_samples_leaf=3, max_features=0.5, n_jobs=-1, oob_score=True)\n",
        "clf = RandomForestClassifier(n_estimators=300, max_depth=4,random_state=0)"
      ],
      "execution_count": 0,
      "outputs": []
    },
    {
      "cell_type": "code",
      "metadata": {
        "id": "cH9QzUJrxWCD",
        "colab_type": "code",
        "colab": {}
      },
      "source": [
        "clf.fit(xtrain, ytrain)"
      ],
      "execution_count": 0,
      "outputs": []
    },
    {
      "cell_type": "code",
      "metadata": {
        "id": "Gev1WqvQ-yVF",
        "colab_type": "code",
        "outputId": "f78962e0-e484-478f-c320-7a46c04c4b10",
        "colab": {
          "base_uri": "https://localhost:8080/",
          "height": 35
        }
      },
      "source": [
        "print(clf.feature_importances_)"
      ],
      "execution_count": 0,
      "outputs": [
        {
          "output_type": "stream",
          "text": [
            "[0.41194306 0.21220951 0.14780129 0.22804614]\n"
          ],
          "name": "stdout"
        }
      ]
    },
    {
      "cell_type": "code",
      "metadata": {
        "id": "drIPXI8J-yJP",
        "colab_type": "code",
        "outputId": "cfee36aa-ebc0-441b-fedc-5aba58b968c8",
        "colab": {
          "base_uri": "https://localhost:8080/",
          "height": 35
        }
      },
      "source": [
        "xdata=clf.predict(xtest)\n",
        "xdata2=clf.predict(xtrain)\n",
        "xdata"
      ],
      "execution_count": 0,
      "outputs": [
        {
          "output_type": "execute_result",
          "data": {
            "text/plain": [
              "array([1, 1, 1, ..., 0, 0, 0])"
            ]
          },
          "metadata": {
            "tags": []
          },
          "execution_count": 259
        }
      ]
    },
    {
      "cell_type": "code",
      "metadata": {
        "id": "VkEkpbmB-x_8",
        "colab_type": "code",
        "colab": {}
      },
      "source": [
        "\n",
        "from sklearn.metrics import confusion_matrix\n",
        "from sklearn.metrics import accuracy_score\n",
        "#confusion_matrix(xdata,ytest)"
      ],
      "execution_count": 0,
      "outputs": []
    },
    {
      "cell_type": "code",
      "metadata": {
        "id": "jH1ckHJ__JH8",
        "colab_type": "code",
        "outputId": "14b443e1-7ac2-4fab-cc5c-7c9158396d05",
        "colab": {
          "base_uri": "https://localhost:8080/",
          "height": 90
        }
      },
      "source": [
        "ctrain=confusion_matrix(xdata2,ytrain)\n",
        "ctest=confusion_matrix(xdata,ytest)\n",
        "print(ctrain) \n",
        "print(ctest)"
      ],
      "execution_count": 0,
      "outputs": [
        {
          "output_type": "stream",
          "text": [
            "[[6057 4479]\n",
            " [7467 9030]]\n",
            "[[3536 2779]\n",
            " [4868 5610]]\n"
          ],
          "name": "stdout"
        }
      ]
    },
    {
      "cell_type": "code",
      "metadata": {
        "id": "vetZ9z6a_JEw",
        "colab_type": "code",
        "outputId": "41706202-7c13-41ba-a601-69b117c1f387",
        "colab": {
          "base_uri": "https://localhost:8080/",
          "height": 54
        }
      },
      "source": [
        "c1,c2=confusion_matrix(xdata2,ytrain)\n",
        "c3,c4=confusion_matrix(xdata,ytest)\n",
        "tp,fp=c1\n",
        "fn,tn=c2\n",
        "\n",
        "tp1,fp1=c3\n",
        "fn1,tn1=c4\n",
        "\n",
        "print('accuracytrain:',(tp+tn)/(tp+fp+fn+tn))\n",
        "print('accuracytest:',(tp1+tn1)/(tp1+fp1+fn1+tn1))"
      ],
      "execution_count": 0,
      "outputs": [
        {
          "output_type": "stream",
          "text": [
            "accuracytrain: 0.5580956608589501\n",
            "accuracytest: 0.5446316917763354\n"
          ],
          "name": "stdout"
        }
      ]
    },
    {
      "cell_type": "code",
      "metadata": {
        "id": "MRB2uO3G_JBr",
        "colab_type": "code",
        "colab": {}
      },
      "source": [
        ""
      ],
      "execution_count": 0,
      "outputs": []
    },
    {
      "cell_type": "markdown",
      "metadata": {
        "id": "IYa8yFcf-gDO",
        "colab_type": "text"
      },
      "source": [
        "trial Random..."
      ]
    },
    {
      "cell_type": "code",
      "metadata": {
        "id": "7VA2NhHJ_I-X",
        "colab_type": "code",
        "colab": {}
      },
      "source": [
        "from sklearn.datasets import load_iris\n",
        "from sklearn.ensemble import RandomForestClassifier\n",
        "import pandas as pd\n",
        "import numpy as np"
      ],
      "execution_count": 0,
      "outputs": []
    },
    {
      "cell_type": "code",
      "metadata": {
        "id": "nwkKrU8V_I6F",
        "colab_type": "code",
        "colab": {
          "base_uri": "https://localhost:8080/",
          "height": 165
        },
        "outputId": "c4a00021-a6c8-4901-9703-20b5758fff3e"
      },
      "source": [
        "clf = RandomForestClassifier(n_jobs=2 ,n_estimators=500, max_depth=4,random_state=0)\n",
        "clf.fit(xtrain, ytrain)"
      ],
      "execution_count": 24,
      "outputs": [
        {
          "output_type": "execute_result",
          "data": {
            "text/plain": [
              "RandomForestClassifier(bootstrap=True, class_weight=None, criterion='gini',\n",
              "                       max_depth=4, max_features='auto', max_leaf_nodes=None,\n",
              "                       min_impurity_decrease=0.0, min_impurity_split=None,\n",
              "                       min_samples_leaf=1, min_samples_split=2,\n",
              "                       min_weight_fraction_leaf=0.0, n_estimators=500, n_jobs=2,\n",
              "                       oob_score=False, random_state=0, verbose=0,\n",
              "                       warm_start=False)"
            ]
          },
          "metadata": {
            "tags": []
          },
          "execution_count": 24
        }
      ]
    },
    {
      "cell_type": "code",
      "metadata": {
        "id": "ISP9dpgI_I1a",
        "colab_type": "code",
        "colab": {
          "base_uri": "https://localhost:8080/",
          "height": 78
        },
        "outputId": "a57b4445-76c2-4a60-ea13-931d6e933e9f"
      },
      "source": [
        "xtest.head(1)"
      ],
      "execution_count": 27,
      "outputs": [
        {
          "output_type": "execute_result",
          "data": {
            "text/html": [
              "<div>\n",
              "<style scoped>\n",
              "    .dataframe tbody tr th:only-of-type {\n",
              "        vertical-align: middle;\n",
              "    }\n",
              "\n",
              "    .dataframe tbody tr th {\n",
              "        vertical-align: top;\n",
              "    }\n",
              "\n",
              "    .dataframe thead th {\n",
              "        text-align: right;\n",
              "    }\n",
              "</style>\n",
              "<table border=\"1\" class=\"dataframe\">\n",
              "  <thead>\n",
              "    <tr style=\"text-align: right;\">\n",
              "      <th></th>\n",
              "      <th>P7</th>\n",
              "      <th>P8</th>\n",
              "      <th>O1</th>\n",
              "      <th>O2</th>\n",
              "    </tr>\n",
              "  </thead>\n",
              "  <tbody>\n",
              "    <tr>\n",
              "      <th>0</th>\n",
              "      <td>1.919887</td>\n",
              "      <td>2.501204</td>\n",
              "      <td>3.080694</td>\n",
              "      <td>2.074751</td>\n",
              "    </tr>\n",
              "  </tbody>\n",
              "</table>\n",
              "</div>"
            ],
            "text/plain": [
              "         P7        P8        O1        O2\n",
              "0  1.919887  2.501204  3.080694  2.074751"
            ]
          },
          "metadata": {
            "tags": []
          },
          "execution_count": 27
        }
      ]
    },
    {
      "cell_type": "code",
      "metadata": {
        "id": "0ylDb156xV7z",
        "colab_type": "code",
        "colab": {
          "base_uri": "https://localhost:8080/",
          "height": 35
        },
        "outputId": "4c16045c-8bd5-4b6c-f94e-0a3cf6a5f3fe"
      },
      "source": [
        "xdata=clf.predict(xtest)\n",
        "xdata"
      ],
      "execution_count": 30,
      "outputs": [
        {
          "output_type": "execute_result",
          "data": {
            "text/plain": [
              "array([1, 1, 1, ..., 0, 0, 0])"
            ]
          },
          "metadata": {
            "tags": []
          },
          "execution_count": 30
        }
      ]
    },
    {
      "cell_type": "code",
      "metadata": {
        "id": "a60YtilC_zZK",
        "colab_type": "code",
        "colab": {
          "base_uri": "https://localhost:8080/",
          "height": 54
        },
        "outputId": "d2ffa860-d4c3-467b-d123-633db8cb9ee8"
      },
      "source": [
        "\n",
        "ctest=confusion_matrix(xdata,ytest)\n",
        "print(ctest)"
      ],
      "execution_count": 32,
      "outputs": [
        {
          "output_type": "stream",
          "text": [
            "[[3536 2779]\n",
            " [4868 5610]]\n"
          ],
          "name": "stdout"
        }
      ]
    },
    {
      "cell_type": "code",
      "metadata": {
        "id": "yVkyg-Rt_zVy",
        "colab_type": "code",
        "colab": {
          "base_uri": "https://localhost:8080/",
          "height": 35
        },
        "outputId": "bf4d12ed-1de5-4485-83b0-ad09732e7267"
      },
      "source": [
        "c1,c2=confusion_matrix(xdata,ytest)\n",
        "tp,fp=c1\n",
        "fn,tn=c2\n",
        "print('accuracytest:',(tp+tn)/(tp+fp+fn+tn))"
      ],
      "execution_count": 33,
      "outputs": [
        {
          "output_type": "stream",
          "text": [
            "accuracytest: 0.5446316917763354\n"
          ],
          "name": "stdout"
        }
      ]
    },
    {
      "cell_type": "markdown",
      "metadata": {
        "id": "S66oPP5lFTNw",
        "colab_type": "text"
      },
      "source": [
        "NEED TO CHECK FOR TRAINING AND TEST BOTH"
      ]
    },
    {
      "cell_type": "code",
      "metadata": {
        "id": "kkKGJVN6_zKF",
        "colab_type": "code",
        "colab": {}
      },
      "source": [
        ""
      ],
      "execution_count": 0,
      "outputs": []
    },
    {
      "cell_type": "code",
      "metadata": {
        "id": "_1SNuPClFFaf",
        "colab_type": "code",
        "colab": {}
      },
      "source": [
        "data1.to_csv(\"d123.csv\")"
      ],
      "execution_count": 0,
      "outputs": []
    },
    {
      "cell_type": "code",
      "metadata": {
        "id": "qA1ogVGzEglr",
        "colab_type": "code",
        "outputId": "ff4c9012-bf8e-4841-dddd-cd3564ec806d",
        "colab": {
          "base_uri": "https://localhost:8080/",
          "height": 168
        }
      },
      "source": [
        "dff.drop(['Unnamed: 0','Unnamed: 0.1'],axis=1,inplace=True)\n",
        "dff.head(4)"
      ],
      "execution_count": 0,
      "outputs": [
        {
          "output_type": "execute_result",
          "data": {
            "text/html": [
              "<div>\n",
              "<style scoped>\n",
              "    .dataframe tbody tr th:only-of-type {\n",
              "        vertical-align: middle;\n",
              "    }\n",
              "\n",
              "    .dataframe tbody tr th {\n",
              "        vertical-align: top;\n",
              "    }\n",
              "\n",
              "    .dataframe thead th {\n",
              "        text-align: right;\n",
              "    }\n",
              "</style>\n",
              "<table border=\"1\" class=\"dataframe\">\n",
              "  <thead>\n",
              "    <tr style=\"text-align: right;\">\n",
              "      <th></th>\n",
              "      <th>O1</th>\n",
              "      <th>O2</th>\n",
              "      <th>P7</th>\n",
              "      <th>P8</th>\n",
              "      <th>case</th>\n",
              "      <th>time in sec</th>\n",
              "    </tr>\n",
              "  </thead>\n",
              "  <tbody>\n",
              "    <tr>\n",
              "      <th>0</th>\n",
              "      <td>3.080694</td>\n",
              "      <td>2.074751</td>\n",
              "      <td>1.919887</td>\n",
              "      <td>2.501204</td>\n",
              "      <td>1</td>\n",
              "      <td>1</td>\n",
              "    </tr>\n",
              "    <tr>\n",
              "      <th>1</th>\n",
              "      <td>3.112040</td>\n",
              "      <td>0.501960</td>\n",
              "      <td>1.814434</td>\n",
              "      <td>0.909816</td>\n",
              "      <td>1</td>\n",
              "      <td>2</td>\n",
              "    </tr>\n",
              "    <tr>\n",
              "      <th>2</th>\n",
              "      <td>3.006349</td>\n",
              "      <td>-1.381623</td>\n",
              "      <td>1.647871</td>\n",
              "      <td>-0.821347</td>\n",
              "      <td>1</td>\n",
              "      <td>3</td>\n",
              "    </tr>\n",
              "    <tr>\n",
              "      <th>3</th>\n",
              "      <td>2.175032</td>\n",
              "      <td>-3.619939</td>\n",
              "      <td>0.904148</td>\n",
              "      <td>-3.128725</td>\n",
              "      <td>1</td>\n",
              "      <td>4</td>\n",
              "    </tr>\n",
              "  </tbody>\n",
              "</table>\n",
              "</div>"
            ],
            "text/plain": [
              "         O1        O2        P7        P8  case  time in sec\n",
              "0  3.080694  2.074751  1.919887  2.501204     1            1\n",
              "1  3.112040  0.501960  1.814434  0.909816     1            2\n",
              "2  3.006349 -1.381623  1.647871 -0.821347     1            3\n",
              "3  2.175032 -3.619939  0.904148 -3.128725     1            4"
            ]
          },
          "metadata": {
            "tags": []
          },
          "execution_count": 180
        }
      ]
    },
    {
      "cell_type": "code",
      "metadata": {
        "id": "TeZozAstTmqK",
        "colab_type": "code",
        "colab": {}
      },
      "source": [
        "dfy=dff['case']"
      ],
      "execution_count": 0,
      "outputs": []
    },
    {
      "cell_type": "code",
      "metadata": {
        "id": "7RqzM09UTs4X",
        "colab_type": "code",
        "outputId": "23a80926-8649-4614-b82b-594e7f8429c7",
        "colab": {
          "base_uri": "https://localhost:8080/",
          "height": 108
        }
      },
      "source": [
        "dfx=dff.drop(['case'],axis=1)\n",
        "dfx.head(2)"
      ],
      "execution_count": 0,
      "outputs": [
        {
          "output_type": "execute_result",
          "data": {
            "text/html": [
              "<div>\n",
              "<style scoped>\n",
              "    .dataframe tbody tr th:only-of-type {\n",
              "        vertical-align: middle;\n",
              "    }\n",
              "\n",
              "    .dataframe tbody tr th {\n",
              "        vertical-align: top;\n",
              "    }\n",
              "\n",
              "    .dataframe thead th {\n",
              "        text-align: right;\n",
              "    }\n",
              "</style>\n",
              "<table border=\"1\" class=\"dataframe\">\n",
              "  <thead>\n",
              "    <tr style=\"text-align: right;\">\n",
              "      <th></th>\n",
              "      <th>O1</th>\n",
              "      <th>O2</th>\n",
              "      <th>P7</th>\n",
              "      <th>P8</th>\n",
              "      <th>time in sec</th>\n",
              "    </tr>\n",
              "  </thead>\n",
              "  <tbody>\n",
              "    <tr>\n",
              "      <th>0</th>\n",
              "      <td>3.080694</td>\n",
              "      <td>2.074751</td>\n",
              "      <td>1.919887</td>\n",
              "      <td>2.501204</td>\n",
              "      <td>1</td>\n",
              "    </tr>\n",
              "    <tr>\n",
              "      <th>1</th>\n",
              "      <td>3.112040</td>\n",
              "      <td>0.501960</td>\n",
              "      <td>1.814434</td>\n",
              "      <td>0.909816</td>\n",
              "      <td>2</td>\n",
              "    </tr>\n",
              "  </tbody>\n",
              "</table>\n",
              "</div>"
            ],
            "text/plain": [
              "         O1        O2        P7        P8  time in sec\n",
              "0  3.080694  2.074751  1.919887  2.501204            1\n",
              "1  3.112040  0.501960  1.814434  0.909816            2"
            ]
          },
          "metadata": {
            "tags": []
          },
          "execution_count": 182
        }
      ]
    },
    {
      "cell_type": "code",
      "metadata": {
        "id": "0Un7zzl6F5L-",
        "colab_type": "code",
        "outputId": "550ddc78-b800-4403-d0d5-0bd887496fa2",
        "colab": {
          "base_uri": "https://localhost:8080/",
          "height": 35
        }
      },
      "source": [
        "dfx.shape"
      ],
      "execution_count": 0,
      "outputs": [
        {
          "output_type": "execute_result",
          "data": {
            "text/plain": [
              "(919517, 5)"
            ]
          },
          "metadata": {
            "tags": []
          },
          "execution_count": 184
        }
      ]
    },
    {
      "cell_type": "code",
      "metadata": {
        "id": "-Z8JzeQI5bt1",
        "colab_type": "code",
        "outputId": "13f17b89-b854-4008-9cd6-8aea0ce5c708",
        "colab": {
          "base_uri": "https://localhost:8080/",
          "height": 35
        }
      },
      "source": [
        "dfy.shape"
      ],
      "execution_count": 0,
      "outputs": [
        {
          "output_type": "execute_result",
          "data": {
            "text/plain": [
              "(919517,)"
            ]
          },
          "metadata": {
            "tags": []
          },
          "execution_count": 185
        }
      ]
    },
    {
      "cell_type": "code",
      "metadata": {
        "id": "VnGRczAhF_rd",
        "colab_type": "code",
        "colab": {}
      },
      "source": [
        "xtrain=dfx[0:700000]\n",
        "ytrain=dfy[0:700000]\n",
        "xtest=dfx[700001:]\n",
        "ytest=dfy[700001:]\n"
      ],
      "execution_count": 0,
      "outputs": []
    },
    {
      "cell_type": "code",
      "metadata": {
        "id": "ZYKcoJnl5qUP",
        "colab_type": "code",
        "outputId": "a0f45c86-9321-4c31-c51b-7ab4a4b8f18d",
        "colab": {
          "base_uri": "https://localhost:8080/",
          "height": 90
        }
      },
      "source": [
        "print(xtrain.shape)\n",
        "print(ytrain.shape)\n",
        "print(xtest.shape)\n",
        "print(ytest.shape)"
      ],
      "execution_count": 0,
      "outputs": [
        {
          "output_type": "stream",
          "text": [
            "(700000, 5)\n",
            "(700000,)\n",
            "(219516, 5)\n",
            "(219516,)\n"
          ],
          "name": "stdout"
        }
      ]
    },
    {
      "cell_type": "code",
      "metadata": {
        "id": "WnUr-zKH5xWL",
        "colab_type": "code",
        "colab": {}
      },
      "source": [
        ""
      ],
      "execution_count": 0,
      "outputs": []
    },
    {
      "cell_type": "code",
      "metadata": {
        "id": "lmLjWcGhmqAh",
        "colab_type": "code",
        "colab": {}
      },
      "source": [
        ""
      ],
      "execution_count": 0,
      "outputs": []
    },
    {
      "cell_type": "markdown",
      "metadata": {
        "id": "eFe1XqCwmpfW",
        "colab_type": "text"
      },
      "source": [
        "\n",
        "\n",
        "```\n",
        "data for individual member\n",
        "```\n",
        "\n"
      ]
    },
    {
      "cell_type": "code",
      "metadata": {
        "id": "98Y4ovBBnJx9",
        "colab_type": "code",
        "outputId": "a35f384a-b647-442c-edf9-e248db44b76a",
        "colab": {
          "base_uri": "https://localhost:8080/",
          "height": 35
        }
      },
      "source": [
        "data1.shape"
      ],
      "execution_count": 0,
      "outputs": [
        {
          "output_type": "execute_result",
          "data": {
            "text/plain": [
              "(27033, 5)"
            ]
          },
          "metadata": {
            "tags": []
          },
          "execution_count": 208
        }
      ]
    },
    {
      "cell_type": "code",
      "metadata": {
        "id": "JYzfORR1nk2k",
        "colab_type": "code",
        "outputId": "7a823953-7cf4-435c-b674-000b095d6750",
        "colab": {
          "base_uri": "https://localhost:8080/",
          "height": 78
        }
      },
      "source": [
        "data1.head(1)"
      ],
      "execution_count": 0,
      "outputs": [
        {
          "output_type": "execute_result",
          "data": {
            "text/html": [
              "<div>\n",
              "<style scoped>\n",
              "    .dataframe tbody tr th:only-of-type {\n",
              "        vertical-align: middle;\n",
              "    }\n",
              "\n",
              "    .dataframe tbody tr th {\n",
              "        vertical-align: top;\n",
              "    }\n",
              "\n",
              "    .dataframe thead th {\n",
              "        text-align: right;\n",
              "    }\n",
              "</style>\n",
              "<table border=\"1\" class=\"dataframe\">\n",
              "  <thead>\n",
              "    <tr style=\"text-align: right;\">\n",
              "      <th></th>\n",
              "      <th>P7</th>\n",
              "      <th>P8</th>\n",
              "      <th>O1</th>\n",
              "      <th>O2</th>\n",
              "      <th>case</th>\n",
              "    </tr>\n",
              "  </thead>\n",
              "  <tbody>\n",
              "    <tr>\n",
              "      <th>0</th>\n",
              "      <td>0.019579</td>\n",
              "      <td>0.031368</td>\n",
              "      <td>0.049292</td>\n",
              "      <td>0.031376</td>\n",
              "      <td>1</td>\n",
              "    </tr>\n",
              "  </tbody>\n",
              "</table>\n",
              "</div>"
            ],
            "text/plain": [
              "         P7        P8        O1        O2  case\n",
              "0  0.019579  0.031368  0.049292  0.031376     1"
            ]
          },
          "metadata": {
            "tags": []
          },
          "execution_count": 211
        }
      ]
    },
    {
      "cell_type": "code",
      "metadata": {
        "id": "A9yE0-Cwne89",
        "colab_type": "code",
        "colab": {}
      },
      "source": [
        "dfy=data1['case']"
      ],
      "execution_count": 0,
      "outputs": []
    },
    {
      "cell_type": "code",
      "metadata": {
        "id": "9RGZUfISnp_3",
        "colab_type": "code",
        "colab": {}
      },
      "source": [
        "dfx=data1.drop(['case'],axis=1)"
      ],
      "execution_count": 0,
      "outputs": []
    },
    {
      "cell_type": "code",
      "metadata": {
        "id": "33oQVT7dnCO4",
        "colab_type": "code",
        "colab": {}
      },
      "source": [
        "xtrain=dfx[0:20000]\n",
        "ytrain=dfy[0:20000]\n",
        "xtest=dfx[20001:]\n",
        "ytest=dfy[20001:]\n"
      ],
      "execution_count": 0,
      "outputs": []
    },
    {
      "cell_type": "code",
      "metadata": {
        "id": "jiqzDWK6nTRL",
        "colab_type": "code",
        "outputId": "d576e090-b01e-4b81-a15c-65a2132e5fe0",
        "colab": {
          "base_uri": "https://localhost:8080/",
          "height": 90
        }
      },
      "source": [
        "print(xtrain.shape)\n",
        "print(ytrain.shape)\n",
        "print(xtest.shape)\n",
        "print(ytest.shape)"
      ],
      "execution_count": 0,
      "outputs": [
        {
          "output_type": "stream",
          "text": [
            "(20000, 4)\n",
            "(20000,)\n",
            "(7032, 4)\n",
            "(7032,)\n"
          ],
          "name": "stdout"
        }
      ]
    },
    {
      "cell_type": "markdown",
      "metadata": {
        "id": "S96utQon6UIl",
        "colab_type": "text"
      },
      "source": [
        "1MODEL RANDOM ROREST CLASSIFIACTION TRY WITH ANY MODIFICATION IN DATASET\n"
      ]
    },
    {
      "cell_type": "code",
      "metadata": {
        "id": "LABTLzDL6lBE",
        "colab_type": "code",
        "colab": {}
      },
      "source": [
        "from sklearn.ensemble import RandomForestClassifier\n",
        "from sklearn.datasets import make_classification\n",
        "from sklearn.metrics import confusion_matrix\n",
        "from sklearn.metrics import accuracy_score"
      ],
      "execution_count": 0,
      "outputs": []
    },
    {
      "cell_type": "code",
      "metadata": {
        "id": "dnizCq-I6ng5",
        "colab_type": "code",
        "colab": {}
      },
      "source": [
        "#RandomForestRegressor(n_estimators=40, min_samples_leaf=3, max_features=0.5, n_jobs=-1, oob_score=True)\n",
        "clf = RandomForestClassifier(n_estimators=500, max_depth=4,random_state=0)"
      ],
      "execution_count": 0,
      "outputs": []
    },
    {
      "cell_type": "code",
      "metadata": {
        "id": "pUUm0v9Z72CK",
        "colab_type": "code",
        "outputId": "3071cc76-2120-4928-fc33-e9232bddfc38",
        "colab": {
          "base_uri": "https://localhost:8080/",
          "height": 165
        }
      },
      "source": [
        "clf.fit(xtrain, ytrain)"
      ],
      "execution_count": 0,
      "outputs": [
        {
          "output_type": "execute_result",
          "data": {
            "text/plain": [
              "RandomForestClassifier(bootstrap=True, class_weight=None, criterion='gini',\n",
              "                       max_depth=4, max_features='auto', max_leaf_nodes=None,\n",
              "                       min_impurity_decrease=0.0, min_impurity_split=None,\n",
              "                       min_samples_leaf=1, min_samples_split=2,\n",
              "                       min_weight_fraction_leaf=0.0, n_estimators=500,\n",
              "                       n_jobs=None, oob_score=False, random_state=0, verbose=0,\n",
              "                       warm_start=False)"
            ]
          },
          "metadata": {
            "tags": []
          },
          "execution_count": 230
        }
      ]
    },
    {
      "cell_type": "code",
      "metadata": {
        "id": "fN4CWmU_758z",
        "colab_type": "code",
        "outputId": "35ffdd0d-1ae4-4cdc-d674-bdd1122ad918",
        "colab": {
          "base_uri": "https://localhost:8080/",
          "height": 35
        }
      },
      "source": [
        "print(clf.feature_importances_)"
      ],
      "execution_count": 0,
      "outputs": [
        {
          "output_type": "stream",
          "text": [
            "[0.47828549 0.13772456 0.1480042  0.23598575]\n"
          ],
          "name": "stdout"
        }
      ]
    },
    {
      "cell_type": "code",
      "metadata": {
        "id": "iqRKEH9V7_Eh",
        "colab_type": "code",
        "outputId": "3f49a102-59dc-47f8-d087-dee77c0d4b3d",
        "colab": {
          "base_uri": "https://localhost:8080/",
          "height": 35
        }
      },
      "source": [
        "xdata=clf.predict(xtest)\n",
        "xdata2=clf.predict(xtrain)\n",
        "xdata"
      ],
      "execution_count": 0,
      "outputs": [
        {
          "output_type": "execute_result",
          "data": {
            "text/plain": [
              "array([1, 1, 1, ..., 1, 1, 1])"
            ]
          },
          "metadata": {
            "tags": []
          },
          "execution_count": 232
        }
      ]
    },
    {
      "cell_type": "code",
      "metadata": {
        "id": "MCPJn9rC8L5J",
        "colab_type": "code",
        "colab": {}
      },
      "source": [
        "\n",
        "from sklearn.metrics import confusion_matrix\n",
        "from sklearn.metrics import accuracy_score\n",
        "#confusion_matrix(xdata,ytest)"
      ],
      "execution_count": 0,
      "outputs": []
    },
    {
      "cell_type": "code",
      "metadata": {
        "id": "Sfo7Z-ODhVvG",
        "colab_type": "code",
        "outputId": "ac6015e6-d3fb-4fba-d1b5-65f4da9ca015",
        "colab": {
          "base_uri": "https://localhost:8080/",
          "height": 90
        }
      },
      "source": [
        "ctrain=confusion_matrix(xdata2,ytrain)\n",
        "ctest=confusion_matrix(xdata,ytest)\n",
        "print(ctrain) \n",
        "print(ctest)"
      ],
      "execution_count": 0,
      "outputs": [
        {
          "output_type": "stream",
          "text": [
            "[[  198    34]\n",
            " [ 6293 13475]]\n",
            "[[  69    0]\n",
            " [6963    0]]\n"
          ],
          "name": "stdout"
        }
      ]
    },
    {
      "cell_type": "code",
      "metadata": {
        "id": "0IxAzCaS8RVl",
        "colab_type": "code",
        "outputId": "e75f0090-b5ec-4bf7-f884-6b67b4c1eb5c",
        "colab": {
          "base_uri": "https://localhost:8080/",
          "height": 54
        }
      },
      "source": [
        "c1,c2=confusion_matrix(xdata2,ytrain)\n",
        "c3,c4=confusion_matrix(xdata,ytest)\n",
        "tp,fp=c1\n",
        "fn,tn=c2\n",
        "\n",
        "tp1,fp1=c3\n",
        "fn1,tn1=c4\n",
        "\n",
        "print('accuracytrain:',(tp+tn)/(tp+fp+fn+tn))\n",
        "print('accuracytest:',(tp1+tn1)/(tp1+fp1+fn1+tn1))"
      ],
      "execution_count": 0,
      "outputs": [
        {
          "output_type": "stream",
          "text": [
            "accuracytrain: 0.68365\n",
            "accuracytest: 0.009812286689419795\n"
          ],
          "name": "stdout"
        }
      ]
    },
    {
      "cell_type": "code",
      "metadata": {
        "id": "d25kCCwIepLH",
        "colab_type": "code",
        "colab": {}
      },
      "source": [
        ""
      ],
      "execution_count": 0,
      "outputs": []
    },
    {
      "cell_type": "code",
      "metadata": {
        "id": "l_zb0BuvgzqC",
        "colab_type": "code",
        "colab": {}
      },
      "source": [
        ""
      ],
      "execution_count": 0,
      "outputs": []
    },
    {
      "cell_type": "code",
      "metadata": {
        "id": "3otQ0x8Heo99",
        "colab_type": "code",
        "colab": {}
      },
      "source": [
        ""
      ],
      "execution_count": 0,
      "outputs": []
    },
    {
      "cell_type": "code",
      "metadata": {
        "id": "UV25T8GE9XMV",
        "colab_type": "code",
        "colab": {}
      },
      "source": [
        "clf = RandomForestClassifier(n_estimators=250, max_depth=60,random_state=1)\n",
        "clf.fit(xtrain, ytrain)\n",
        "xdata1=clf.predict(xtest)\n"
      ],
      "execution_count": 0,
      "outputs": []
    },
    {
      "cell_type": "code",
      "metadata": {
        "id": "Nb3xipVnEcbU",
        "colab_type": "code",
        "outputId": "fb1d5f49-369d-49fe-b731-8217718e0e7a",
        "colab": {
          "base_uri": "https://localhost:8080/",
          "height": 35
        }
      },
      "source": [
        "xdata1.shape"
      ],
      "execution_count": 0,
      "outputs": [
        {
          "output_type": "execute_result",
          "data": {
            "text/plain": [
              "(6792,)"
            ]
          },
          "metadata": {
            "tags": []
          },
          "execution_count": 29
        }
      ]
    },
    {
      "cell_type": "code",
      "metadata": {
        "id": "UGX8NMhIESrI",
        "colab_type": "code",
        "outputId": "6217d3a5-3b75-4fe2-8207-efb3808ff61b",
        "colab": {
          "base_uri": "https://localhost:8080/",
          "height": 145
        }
      },
      "source": [
        "xdata1.reshape(6792,1)"
      ],
      "execution_count": 0,
      "outputs": [
        {
          "output_type": "execute_result",
          "data": {
            "text/plain": [
              "array([[0],\n",
              "       [0],\n",
              "       [0],\n",
              "       ...,\n",
              "       [0],\n",
              "       [0],\n",
              "       [0]])"
            ]
          },
          "metadata": {
            "tags": []
          },
          "execution_count": 30
        }
      ]
    },
    {
      "cell_type": "code",
      "metadata": {
        "id": "tDi-F6ToEqrI",
        "colab_type": "code",
        "outputId": "71806f4a-fba2-424c-fb4b-4495e6016054",
        "colab": {
          "base_uri": "https://localhost:8080/",
          "height": 163
        }
      },
      "source": [
        "xdata2=clf.predict(xtrain)\n",
        "print(xdata2.shape)\n",
        "xdata2.reshape(10000,1)"
      ],
      "execution_count": 0,
      "outputs": [
        {
          "output_type": "stream",
          "text": [
            "(10000,)\n"
          ],
          "name": "stdout"
        },
        {
          "output_type": "execute_result",
          "data": {
            "text/plain": [
              "array([[1],\n",
              "       [1],\n",
              "       [1],\n",
              "       ...,\n",
              "       [0],\n",
              "       [0],\n",
              "       [0]])"
            ]
          },
          "metadata": {
            "tags": []
          },
          "execution_count": 45
        }
      ]
    },
    {
      "cell_type": "code",
      "metadata": {
        "id": "z-Vn8VYHKm68",
        "colab_type": "code",
        "colab": {}
      },
      "source": [
        "confusion_matrix(xdata1,ytrain)"
      ],
      "execution_count": 0,
      "outputs": []
    },
    {
      "cell_type": "code",
      "metadata": {
        "id": "DQQRz75IGv4k",
        "colab_type": "code",
        "colab": {}
      },
      "source": [
        "#clf = RandomForestClassifier(n_estimators=250, max_depth=60,random_state=1)\n",
        "#clf.fit(xtrain, ytrain)\n",
        "#xdata1=clf.predict(xtest)\n",
        "#xdata2=clf.predict(xtrain)\n",
        "p,r=confusion_matrix(xdata1,ytrain)\n",
        "p1,r1=confusion_matrix(xdata2,ytest)\n",
        "tp,fp=p\n",
        "fn,tn=r\n",
        "\n",
        "tp1,fp1=p1\n",
        "fn1,tn1=r1\n",
        "print(p,'\\n',r,'\\n')\n",
        "print(p1,'\\n',r1,'\\n')\n",
        "print('accuracytrain:',(tp+tn)/(tp+fp+fn+tn))\n",
        "print('accuracytest:',(tp1+tn1)/(tp1+fp1+fn1+tn1))"
      ],
      "execution_count": 0,
      "outputs": []
    },
    {
      "cell_type": "code",
      "metadata": {
        "id": "dCuuANhjE9ih",
        "colab_type": "code",
        "colab": {}
      },
      "source": [
        ""
      ],
      "execution_count": 0,
      "outputs": []
    },
    {
      "cell_type": "code",
      "metadata": {
        "id": "jhKRBsiikg0j",
        "colab_type": "code",
        "colab": {}
      },
      "source": [
        "df1=pd.read_csv(\"/content/drive/My Drive/COLAB Files/ddata/alwyn_combine_1.csv\")\n",
        "df2=pd.read_csv(\"/content/drive/My Drive/COLAB Files/ddata/alwyn_fam_1_filt_13.csv\")\n",
        "df3=pd.read_csv(\"/content/drive/My Drive/COLAB Files/ddata/alwyn_non_1_filt_13.csv\")\n",
        "df4=pd.read_csv(\"/content/drive/My Drive/COLAB Files/ddata/deepak_combine_1.csv\")\n",
        "df5=pd.read_csv(\"/content/drive/My Drive/COLAB Files/ddata/deepak_fam_1_filt_13.csv\")\n",
        "\n",
        "df6=pd.read_csv(\"/content/drive/My Drive/COLAB Files/ddata/deepak_non_1_filt_13.csv\")\n",
        "df7=pd.read_csv(\"/content/drive/My Drive/COLAB Files/ddata/deepak_test_1.csv\")\n",
        "df8=pd.read_csv(\"/content/drive/My Drive/COLAB Files/ddata/main_combine_1.csv\")\n",
        "df9=pd.read_csv(\"/content/drive/My Drive/COLAB Files/ddata/main_combine_ica.csv\")\n",
        "df10=pd.read_csv(\"/content/drive/My Drive/COLAB Files/ddata/main_nn_1.csv\")\n",
        "\n",
        "df11=pd.read_csv(\"/content/drive/My Drive/COLAB Files/ddata/main_test_1.csv\")\n",
        "df12=pd.read_csv(\"/content/drive/My Drive/COLAB Files/ddata/data12.csv\")\n",
        "df13=pd.read_csv(\"/content/drive/My Drive/COLAB Files/ddata/murli_fam_2_filt_13.csv\")\n",
        "df14=pd.read_csv(\"/content/drive/My Drive/COLAB Files/ddata/murli_non_1_filt_13.csv\")\n",
        "df15=pd.read_csv(\"/content/drive/My Drive/COLAB Files/ddata/neeraj_combine_1.csv\")\n",
        "\n",
        "df16=pd.read_csv(\"/content/drive/My Drive/COLAB Files/ddata/neeraj_fam_1_filt_13.csv\")\n",
        "df17=pd.read_csv(\"/content/drive/My Drive/COLAB Files/ddata/neeraj_non_2_filt_13.csv\")\n",
        "df18=pd.read_csv(\"/content/drive/My Drive/COLAB Files/ddata/neeraj_test_1.csv\")\n",
        "df19=pd.read_csv(\"/content/drive/My Drive/COLAB Files/ddata/nikhil_combine_1.csv\")\n",
        "df20=pd.read_csv(\"/content/drive/My Drive/COLAB Files/ddata/nikhil_fam_1_filt_13.csv\")\n",
        "\n",
        "df21=pd.read_csv(\"/content/drive/My Drive/COLAB Files/ddata/nikhil_non_1_filt_13.csv\")\n",
        "df22=pd.read_csv(\"/content/drive/My Drive/COLAB Files/ddata/rahul_combine_1.csv\")\n",
        "df23=pd.read_csv(\"/content/drive/My Drive/COLAB Files/ddata/rahul_fam_1_filt_13.csv\")\n",
        "df24=pd.read_csv(\"/content/drive/My Drive/COLAB Files/ddata/rahul_non_1_filt_13.csv\")\n",
        "df25=pd.read_csv(\"/content/drive/My Drive/COLAB Files/ddata/rakesh_combine_1.csv\")\n",
        "\n",
        "df26=pd.read_csv(\"/content/drive/My Drive/COLAB Files/ddata/rakesh_fam_1_filt_13.csv\")\n",
        "df27=pd.read_csv(\"/content/drive/My Drive/COLAB Files/ddata/rakesh_non_1_filt_13.csv\")\n",
        "df28=pd.read_csv(\"/content/drive/My Drive/COLAB Files/ddata/subham_combine_1.csv\")\n",
        "df29=pd.read_csv(\"/content/drive/My Drive/COLAB Files/ddata/subham_fam_1_filt_13.csv\")\n",
        "df30=pd.read_csv(\"/content/drive/My Drive/COLAB Files/ddata/subham_non_1_filt_13.csv\")\n",
        "\n",
        "df31=pd.read_csv(\"/content/drive/My Drive/COLAB Files/ddata/sunny_fam_1_filt_13.csv\")\n",
        "df32=pd.read_csv(\"/content/drive/My Drive/COLAB Files/ddata/sunny_non_1_filt_13.csv\")\n",
        "df33=pd.read_csv(\"/content/drive/My Drive/COLAB Files/ddata/sus_combine_1.csv\")\n",
        "df34=pd.read_csv(\"/content/drive/My Drive/COLAB Files/ddata/sus_fam_1_filt_13.csv\")\n",
        "df35=pd.read_csv(\"/content/drive/My Drive/COLAB Files/ddata/sus_non_1_filt_13.csv\")\n",
        "\n",
        "df36=pd.read_csv(\"/content/drive/My Drive/COLAB Files/ddata/utkarsh_combine_1.csv\")\n",
        "df37=pd.read_csv(\"/content/drive/My Drive/COLAB Files/ddata/utkarsh_fam_1_filt_13.csv\")\n",
        "df38=pd.read_csv(\"/content/drive/My Drive/COLAB Files/ddata/utkarsh_non_1_filt_13.csv\")\n",
        "df39=pd.read_csv(\"/content/drive/My Drive/COLAB Files/ddata/vageesh_combine_1.csv\")\n",
        "df40=pd.read_csv(\"/content/drive/My Drive/COLAB Files/ddata/vageesh_fam_1_filt_13.csv\")\n",
        "\n",
        "df41=pd.read_csv(\"/content/drive/My Drive/COLAB Files/ddata/vageesh_non_1_filt_13.csv\")"
      ],
      "execution_count": 0,
      "outputs": []
    },
    {
      "cell_type": "code",
      "metadata": {
        "id": "2bO5eivTy4DW",
        "colab_type": "code",
        "colab": {}
      },
      "source": [
        "dss=pd.read_csv(\"/content/drive/My Drive/COLAB Files/ddata/main_test_ica.csv\")\n",
        "dsa=dss.drop([\"Unnamed: 0\"],axis=1)\n",
        "#dsa.to_csv(\"data12.csv\")"
      ],
      "execution_count": 0,
      "outputs": []
    },
    {
      "cell_type": "code",
      "metadata": {
        "id": "DTaaCQpZvd1x",
        "colab_type": "code",
        "outputId": "92510a66-b798-4b62-9495-f1ab3cfa0857",
        "colab": {
          "base_uri": "https://localhost:8080/",
          "height": 201
        }
      },
      "source": [
        "data=df1.append(df2)\n",
        "data=data.append(df3)\n",
        "data=data.append(df4)\n",
        "data=data.append(df5)\n",
        "data=data.append(df6)\n",
        "data=data.append(df7)\n",
        "data=data.append(df8)\n",
        "data=data.append(df9)\n",
        "data=data.append(df10)\n",
        "data=data.append(df11)\n",
        "data=data.append(df12)\n",
        "data=data.append(df13)\n",
        "data=data.append(df14)\n",
        "data=data.append(df15)\n",
        "data=data.append(df16)\n",
        "data=data.append(df17)\n",
        "data=data.append(df18)\n",
        "data=data.append(df19)\n",
        "data=data.append(df20)\n",
        "data=data.append(df21)\n",
        "data=data.append(df22)\n",
        "data=data.append(df23)\n",
        "data=data.append(df24)\n",
        "data=data.append(df25)\n",
        "data=data.append(df26)\n",
        "data=data.append(df27)\n",
        "data=data.append(df28)\n",
        "data=data.append(df29)\n",
        "data=data.append(df30)\n",
        "data=data.append(df31)\n",
        "data=data.append(df32)\n",
        "data=data.append(df33)\n",
        "data=data.append(df34)\n",
        "data=data.append(df35)\n",
        "data=data.append(df36)\n",
        "data=data.append(df37)\n",
        "data=data.append(df38)\n",
        "data=data.append(df39)\n",
        "data=data.append(df40)\n",
        "data=data.append(df41)\n",
        "data.shape"
      ],
      "execution_count": 0,
      "outputs": [
        {
          "output_type": "stream",
          "text": [
            "/usr/local/lib/python3.6/dist-packages/pandas/core/frame.py:6692: FutureWarning: Sorting because non-concatenation axis is not aligned. A future version\n",
            "of pandas will change to not sort by default.\n",
            "\n",
            "To accept the future behavior, pass 'sort=False'.\n",
            "\n",
            "To retain the current behavior and silence the warning, pass 'sort=True'.\n",
            "\n",
            "  sort=sort)\n"
          ],
          "name": "stderr"
        },
        {
          "output_type": "execute_result",
          "data": {
            "text/plain": [
              "(919517, 8)"
            ]
          },
          "metadata": {
            "tags": []
          },
          "execution_count": 89
        }
      ]
    },
    {
      "cell_type": "code",
      "metadata": {
        "id": "R3-aEzxLvE_h",
        "colab_type": "code",
        "colab": {}
      },
      "source": [
        "data.to_csv(\"alldata.csv\")"
      ],
      "execution_count": 0,
      "outputs": []
    },
    {
      "cell_type": "code",
      "metadata": {
        "id": "yMgd4xEJkg5Q",
        "colab_type": "code",
        "colab": {}
      },
      "source": [
        "#data=data.append(df3)\n",
        "df12.head(2)\n"
      ],
      "execution_count": 0,
      "outputs": []
    },
    {
      "cell_type": "code",
      "metadata": {
        "id": "1FKmJz2NwOtW",
        "colab_type": "code",
        "colab": {}
      },
      "source": [
        ""
      ],
      "execution_count": 0,
      "outputs": []
    },
    {
      "cell_type": "code",
      "metadata": {
        "id": "NTvMEK6EwOk6",
        "colab_type": "code",
        "outputId": "4a8a6bf7-ed44-4ab3-f518-7fe91f3b88be",
        "colab": {
          "base_uri": "https://localhost:8080/",
          "height": 198
        }
      },
      "source": [
        "df41.head(5)"
      ],
      "execution_count": 0,
      "outputs": [
        {
          "output_type": "execute_result",
          "data": {
            "text/html": [
              "<div>\n",
              "<style scoped>\n",
              "    .dataframe tbody tr th:only-of-type {\n",
              "        vertical-align: middle;\n",
              "    }\n",
              "\n",
              "    .dataframe tbody tr th {\n",
              "        vertical-align: top;\n",
              "    }\n",
              "\n",
              "    .dataframe thead th {\n",
              "        text-align: right;\n",
              "    }\n",
              "</style>\n",
              "<table border=\"1\" class=\"dataframe\">\n",
              "  <thead>\n",
              "    <tr style=\"text-align: right;\">\n",
              "      <th></th>\n",
              "      <th>Sample</th>\n",
              "      <th>P7</th>\n",
              "      <th>P8</th>\n",
              "      <th>O1</th>\n",
              "      <th>O2</th>\n",
              "      <th>case</th>\n",
              "    </tr>\n",
              "  </thead>\n",
              "  <tbody>\n",
              "    <tr>\n",
              "      <th>0</th>\n",
              "      <td>1</td>\n",
              "      <td>-0.325842</td>\n",
              "      <td>0.042877</td>\n",
              "      <td>0.000140</td>\n",
              "      <td>-0.000353</td>\n",
              "      <td>0</td>\n",
              "    </tr>\n",
              "    <tr>\n",
              "      <th>1</th>\n",
              "      <td>2</td>\n",
              "      <td>-1.371003</td>\n",
              "      <td>-0.413019</td>\n",
              "      <td>0.129080</td>\n",
              "      <td>0.100299</td>\n",
              "      <td>0</td>\n",
              "    </tr>\n",
              "    <tr>\n",
              "      <th>2</th>\n",
              "      <td>3</td>\n",
              "      <td>-6.873812</td>\n",
              "      <td>-5.941464</td>\n",
              "      <td>0.865190</td>\n",
              "      <td>0.614402</td>\n",
              "      <td>0</td>\n",
              "    </tr>\n",
              "    <tr>\n",
              "      <th>3</th>\n",
              "      <td>4</td>\n",
              "      <td>-24.776830</td>\n",
              "      <td>-23.203765</td>\n",
              "      <td>2.858715</td>\n",
              "      <td>1.920402</td>\n",
              "      <td>0</td>\n",
              "    </tr>\n",
              "    <tr>\n",
              "      <th>4</th>\n",
              "      <td>5</td>\n",
              "      <td>-54.345455</td>\n",
              "      <td>-49.010572</td>\n",
              "      <td>5.974042</td>\n",
              "      <td>3.947546</td>\n",
              "      <td>0</td>\n",
              "    </tr>\n",
              "  </tbody>\n",
              "</table>\n",
              "</div>"
            ],
            "text/plain": [
              "   Sample         P7         P8        O1        O2  case\n",
              "0       1  -0.325842   0.042877  0.000140 -0.000353     0\n",
              "1       2  -1.371003  -0.413019  0.129080  0.100299     0\n",
              "2       3  -6.873812  -5.941464  0.865190  0.614402     0\n",
              "3       4 -24.776830 -23.203765  2.858715  1.920402     0\n",
              "4       5 -54.345455 -49.010572  5.974042  3.947546     0"
            ]
          },
          "metadata": {
            "tags": []
          },
          "execution_count": 87
        }
      ]
    },
    {
      "cell_type": "code",
      "metadata": {
        "id": "LsyjWXzDwOZE",
        "colab_type": "code",
        "colab": {}
      },
      "source": [
        ""
      ],
      "execution_count": 0,
      "outputs": []
    },
    {
      "cell_type": "code",
      "metadata": {
        "id": "FiGitWL9m6Em",
        "colab_type": "code",
        "colab": {}
      },
      "source": [
        "datam=data"
      ],
      "execution_count": 0,
      "outputs": []
    },
    {
      "cell_type": "code",
      "metadata": {
        "id": "HzjkcV_JkhDN",
        "colab_type": "code",
        "outputId": "5bba189c-a77a-4def-caba-f273fc1a350d",
        "colab": {
          "base_uri": "https://localhost:8080/",
          "height": 125
        }
      },
      "source": [
        "datam.head(2)"
      ],
      "execution_count": 0,
      "outputs": [
        {
          "output_type": "execute_result",
          "data": {
            "text/html": [
              "<div>\n",
              "<style scoped>\n",
              "    .dataframe tbody tr th:only-of-type {\n",
              "        vertical-align: middle;\n",
              "    }\n",
              "\n",
              "    .dataframe tbody tr th {\n",
              "        vertical-align: top;\n",
              "    }\n",
              "\n",
              "    .dataframe thead th {\n",
              "        text-align: right;\n",
              "    }\n",
              "</style>\n",
              "<table border=\"1\" class=\"dataframe\">\n",
              "  <thead>\n",
              "    <tr style=\"text-align: right;\">\n",
              "      <th></th>\n",
              "      <th>O1</th>\n",
              "      <th>O2</th>\n",
              "      <th>P7</th>\n",
              "      <th>P8</th>\n",
              "      <th>Sample</th>\n",
              "      <th>Unnamed: 0</th>\n",
              "      <th>case</th>\n",
              "      <th>time in sec</th>\n",
              "    </tr>\n",
              "  </thead>\n",
              "  <tbody>\n",
              "    <tr>\n",
              "      <th>0</th>\n",
              "      <td>3.080694</td>\n",
              "      <td>2.074751</td>\n",
              "      <td>1.919887</td>\n",
              "      <td>2.501204</td>\n",
              "      <td>NaN</td>\n",
              "      <td>NaN</td>\n",
              "      <td>1</td>\n",
              "      <td>1.0</td>\n",
              "    </tr>\n",
              "    <tr>\n",
              "      <th>1</th>\n",
              "      <td>3.112040</td>\n",
              "      <td>0.501960</td>\n",
              "      <td>1.814434</td>\n",
              "      <td>0.909816</td>\n",
              "      <td>NaN</td>\n",
              "      <td>NaN</td>\n",
              "      <td>1</td>\n",
              "      <td>2.0</td>\n",
              "    </tr>\n",
              "  </tbody>\n",
              "</table>\n",
              "</div>"
            ],
            "text/plain": [
              "         O1        O2        P7  ...  Unnamed: 0  case  time in sec\n",
              "0  3.080694  2.074751  1.919887  ...         NaN     1          1.0\n",
              "1  3.112040  0.501960  1.814434  ...         NaN     1          2.0\n",
              "\n",
              "[2 rows x 8 columns]"
            ]
          },
          "metadata": {
            "tags": []
          },
          "execution_count": 70
        }
      ]
    },
    {
      "cell_type": "code",
      "metadata": {
        "id": "7pC0UuB7mRcQ",
        "colab_type": "code",
        "outputId": "58672f86-8c87-4f58-e229-bdd3f711aaa1",
        "colab": {
          "base_uri": "https://localhost:8080/",
          "height": 55
        }
      },
      "source": [
        "datam.columns"
      ],
      "execution_count": 0,
      "outputs": [
        {
          "output_type": "execute_result",
          "data": {
            "text/plain": [
              "Index(['O1', 'O2', 'P7', 'P8', 'Sample', 'Unnamed: 0', 'case', 'time in sec'], dtype='object')"
            ]
          },
          "metadata": {
            "tags": []
          },
          "execution_count": 71
        }
      ]
    },
    {
      "cell_type": "markdown",
      "metadata": {
        "id": "eB_06Y-0wYvE",
        "colab_type": "text"
      },
      "source": [
        "skip below code i tried this for checking\n"
      ]
    },
    {
      "cell_type": "code",
      "metadata": {
        "id": "ijp6vz46kg_2",
        "colab_type": "code",
        "outputId": "4e30b2d8-f4be-45eb-f428-5ab36b3e337a",
        "colab": {
          "base_uri": "https://localhost:8080/",
          "height": 1000
        }
      },
      "source": [
        "datam.dropna"
      ],
      "execution_count": 0,
      "outputs": [
        {
          "output_type": "execute_result",
          "data": {
            "text/plain": [
              "<bound method DataFrame.dropna of              O1        O2         P7  ...  Unnamed: 0  case  time in sec\n",
              "0      3.080694  2.074751   1.919887  ...         NaN     1          1.0\n",
              "1      3.112040  0.501960   1.814434  ...         NaN     1          2.0\n",
              "2      3.006349 -1.381623   1.647871  ...         NaN     1          3.0\n",
              "3      2.175032 -3.619939   0.904148  ...         NaN     1          4.0\n",
              "4      0.504864 -5.903103  -0.180205  ...         NaN     1          5.0\n",
              "5     -1.053419 -7.378522  -0.677102  ...         NaN     1          6.0\n",
              "6     -1.446439 -7.311269   0.024599  ...         NaN     1          7.0\n",
              "7     -0.995671 -6.185621   1.159475  ...         NaN     1          8.0\n",
              "8     -0.743569 -5.049712   1.671114  ...         NaN     1          9.0\n",
              "9     -0.617039 -3.870744   1.866702  ...         NaN     1         10.0\n",
              "10     0.076222 -2.177234   2.450730  ...         NaN     1         11.0\n",
              "11     1.495961 -0.052094   3.428284  ...         NaN     1         12.0\n",
              "12     3.031046  1.899835   4.134315  ...         NaN     1         13.0\n",
              "13     3.711964  2.850368   3.713858  ...         NaN     1         14.0\n",
              "14     3.449090  2.726153   2.268114  ...         NaN     1         15.0\n",
              "15     3.004474  2.364914   0.750921  ...         NaN     1         16.0\n",
              "16     2.832985  2.318602  -0.398794  ...         NaN     1         17.0\n",
              "17     2.638929  2.184536  -1.775425  ...         NaN     1         18.0\n",
              "18     2.051232  1.555767  -3.815137  ...         NaN     1         19.0\n",
              "19     1.360838  0.909913  -5.809742  ...         NaN     1         20.0\n",
              "20     0.981654  0.795384  -6.894484  ...         NaN     1         21.0\n",
              "21     0.954537  1.129602  -6.996974  ...         NaN     1         22.0\n",
              "22     1.090773  1.516295  -6.589133  ...         NaN     1         23.0\n",
              "23     1.140238  1.614548  -6.093431  ...         NaN     1         24.0\n",
              "24     0.972754  1.395709  -5.545137  ...         NaN     1         25.0\n",
              "25     0.519687  1.044294  -4.732610  ...         NaN     1         26.0\n",
              "26    -0.096064  0.680027  -3.534456  ...         NaN     1         27.0\n",
              "27    -0.586240  0.266504  -2.188562  ...         NaN     1         28.0\n",
              "28    -0.980689 -0.271933  -1.020490  ...         NaN     1         29.0\n",
              "29    -1.502103 -0.855596   0.098193  ...         NaN     1         30.0\n",
              "...         ...       ...        ...  ...         ...   ...          ...\n",
              "13535  0.476792  0.579192  -0.963346  ...         NaN     0          NaN\n",
              "13536 -0.081809 -0.065486   6.210517  ...         NaN     0          NaN\n",
              "13537 -0.441534  0.092960   4.528105  ...         NaN     0          NaN\n",
              "13538 -0.440948  1.321608  -3.828945  ...         NaN     0          NaN\n",
              "13539 -0.489626  2.524521  -6.931994  ...         NaN     0          NaN\n",
              "13540 -0.952391  2.515653   0.208274  ...         NaN     0          NaN\n",
              "13541 -1.711854  1.259805   8.655032  ...         NaN     0          NaN\n",
              "13542 -2.227850 -0.275365   7.786384  ...         NaN     0          NaN\n",
              "13543 -2.069132 -1.304333  -0.419576  ...         NaN     0          NaN\n",
              "13544 -1.579060 -1.980297  -4.194105  ...         NaN     0          NaN\n",
              "13545 -1.472824 -2.797521   1.923588  ...         NaN     0          NaN\n",
              "13546 -1.863427 -3.599388   9.607099  ...         NaN     0          NaN\n",
              "13547 -2.202452 -3.735869   8.222800  ...         NaN     0          NaN\n",
              "13548 -2.120654 -3.079682  -0.362568  ...         NaN     0          NaN\n",
              "13549 -1.867975 -2.273200  -4.159303  ...         NaN     0          NaN\n",
              "13550 -1.645191 -1.617156   2.326352  ...         NaN     0          NaN\n",
              "13551 -1.322744 -0.738066  10.660411  ...         NaN     0          NaN\n",
              "13552 -0.831542  0.493210  10.000425  ...         NaN     0          NaN\n",
              "13553 -0.238340  1.691322   1.494030  ...         NaN     0          NaN\n",
              "13554  0.061107  2.089567  -3.343607  ...         NaN     0          NaN\n",
              "13555 -0.427459  1.113871   1.520484  ...         NaN     0          NaN\n",
              "13556 -1.519102 -0.742062   8.127255  ...         NaN     0          NaN\n",
              "13557 -2.440010 -2.355886   5.603283  ...         NaN     0          NaN\n",
              "13558 -2.794090 -3.137872  -4.607081  ...         NaN     0          NaN\n",
              "13559 -2.687603 -2.999433 -10.625374  ...         NaN     0          NaN\n",
              "13560 -1.914000 -2.012015  -6.436005  ...         NaN     0          NaN\n",
              "13561 -0.150246 -0.633111  -0.054169  ...         NaN     0          NaN\n",
              "13562  2.174805  0.745710  -2.506636  ...         NaN     0          NaN\n",
              "13563  4.228770  2.018594 -12.786959  ...         NaN     0          NaN\n",
              "13564  5.414829  2.572731 -18.884793  ...         NaN     0          NaN\n",
              "\n",
              "[936295 rows x 8 columns]>"
            ]
          },
          "metadata": {
            "tags": []
          },
          "execution_count": 72
        }
      ]
    },
    {
      "cell_type": "code",
      "metadata": {
        "id": "5UGO1NsSmPFE",
        "colab_type": "code",
        "outputId": "c9c86c2e-e919-4a76-de6d-69239b18b4df",
        "colab": {
          "base_uri": "https://localhost:8080/",
          "height": 55
        }
      },
      "source": [
        "datam.columns"
      ],
      "execution_count": 0,
      "outputs": [
        {
          "output_type": "execute_result",
          "data": {
            "text/plain": [
              "Index(['O1', 'O2', 'P7', 'P8', 'Sample', 'Unnamed: 0', 'case', 'time in sec'], dtype='object')"
            ]
          },
          "metadata": {
            "tags": []
          },
          "execution_count": 73
        }
      ]
    },
    {
      "cell_type": "code",
      "metadata": {
        "id": "02WjZPgurkoy",
        "colab_type": "code",
        "colab": {}
      },
      "source": [
        "datam.drop(['Sample','Unnamed: 0'],axis=1,inplace=True)"
      ],
      "execution_count": 0,
      "outputs": []
    },
    {
      "cell_type": "code",
      "metadata": {
        "id": "M4qmgTxhsKz9",
        "colab_type": "code",
        "outputId": "8358d317-a24b-4506-d09e-872c228adcc9",
        "colab": {
          "base_uri": "https://localhost:8080/",
          "height": 35
        }
      },
      "source": [
        "datam.columns"
      ],
      "execution_count": 0,
      "outputs": [
        {
          "output_type": "execute_result",
          "data": {
            "text/plain": [
              "Index(['O1', 'O2', 'P7', 'P8', 'case', 'time in sec'], dtype='object')"
            ]
          },
          "metadata": {
            "tags": []
          },
          "execution_count": 77
        }
      ]
    },
    {
      "cell_type": "code",
      "metadata": {
        "id": "9olzxnB7sPGh",
        "colab_type": "code",
        "outputId": "1736ede6-fe7b-4045-e31b-49dbd6da59fe",
        "colab": {
          "base_uri": "https://localhost:8080/",
          "height": 108
        }
      },
      "source": [
        "datam.head(2)"
      ],
      "execution_count": 0,
      "outputs": [
        {
          "output_type": "execute_result",
          "data": {
            "text/html": [
              "<div>\n",
              "<style scoped>\n",
              "    .dataframe tbody tr th:only-of-type {\n",
              "        vertical-align: middle;\n",
              "    }\n",
              "\n",
              "    .dataframe tbody tr th {\n",
              "        vertical-align: top;\n",
              "    }\n",
              "\n",
              "    .dataframe thead th {\n",
              "        text-align: right;\n",
              "    }\n",
              "</style>\n",
              "<table border=\"1\" class=\"dataframe\">\n",
              "  <thead>\n",
              "    <tr style=\"text-align: right;\">\n",
              "      <th></th>\n",
              "      <th>O1</th>\n",
              "      <th>O2</th>\n",
              "      <th>P7</th>\n",
              "      <th>P8</th>\n",
              "      <th>case</th>\n",
              "      <th>time in sec</th>\n",
              "    </tr>\n",
              "  </thead>\n",
              "  <tbody>\n",
              "    <tr>\n",
              "      <th>0</th>\n",
              "      <td>3.080694</td>\n",
              "      <td>2.074751</td>\n",
              "      <td>1.919887</td>\n",
              "      <td>2.501204</td>\n",
              "      <td>1</td>\n",
              "      <td>1.0</td>\n",
              "    </tr>\n",
              "    <tr>\n",
              "      <th>1</th>\n",
              "      <td>3.112040</td>\n",
              "      <td>0.501960</td>\n",
              "      <td>1.814434</td>\n",
              "      <td>0.909816</td>\n",
              "      <td>1</td>\n",
              "      <td>2.0</td>\n",
              "    </tr>\n",
              "  </tbody>\n",
              "</table>\n",
              "</div>"
            ],
            "text/plain": [
              "         O1        O2        P7        P8  case  time in sec\n",
              "0  3.080694  2.074751  1.919887  2.501204     1          1.0\n",
              "1  3.112040  0.501960  1.814434  0.909816     1          2.0"
            ]
          },
          "metadata": {
            "tags": []
          },
          "execution_count": 78
        }
      ]
    },
    {
      "cell_type": "code",
      "metadata": {
        "id": "_e0IF8eOsV-n",
        "colab_type": "code",
        "colab": {}
      },
      "source": [
        "datam.to_csv(\"datacombine.csv\")"
      ],
      "execution_count": 0,
      "outputs": []
    },
    {
      "cell_type": "code",
      "metadata": {
        "id": "0OqsWJSIsgRJ",
        "colab_type": "code",
        "colab": {}
      },
      "source": [
        "datam"
      ],
      "execution_count": 0,
      "outputs": []
    },
    {
      "cell_type": "code",
      "metadata": {
        "id": "YcxsKkUes_qw",
        "colab_type": "code",
        "outputId": "8e30d245-860c-4997-bd11-3a56ceea5e1b",
        "colab": {
          "base_uri": "https://localhost:8080/",
          "height": 78
        }
      },
      "source": [
        "datam.head(1)"
      ],
      "execution_count": 0,
      "outputs": [
        {
          "output_type": "execute_result",
          "data": {
            "text/html": [
              "<div>\n",
              "<style scoped>\n",
              "    .dataframe tbody tr th:only-of-type {\n",
              "        vertical-align: middle;\n",
              "    }\n",
              "\n",
              "    .dataframe tbody tr th {\n",
              "        vertical-align: top;\n",
              "    }\n",
              "\n",
              "    .dataframe thead th {\n",
              "        text-align: right;\n",
              "    }\n",
              "</style>\n",
              "<table border=\"1\" class=\"dataframe\">\n",
              "  <thead>\n",
              "    <tr style=\"text-align: right;\">\n",
              "      <th></th>\n",
              "      <th>O1</th>\n",
              "      <th>O2</th>\n",
              "      <th>P7</th>\n",
              "      <th>P8</th>\n",
              "      <th>case</th>\n",
              "      <th>time in sec</th>\n",
              "    </tr>\n",
              "  </thead>\n",
              "  <tbody>\n",
              "    <tr>\n",
              "      <th>0</th>\n",
              "      <td>3.080694</td>\n",
              "      <td>2.074751</td>\n",
              "      <td>1.919887</td>\n",
              "      <td>2.501204</td>\n",
              "      <td>1</td>\n",
              "      <td>1.0</td>\n",
              "    </tr>\n",
              "  </tbody>\n",
              "</table>\n",
              "</div>"
            ],
            "text/plain": [
              "         O1        O2        P7        P8  case  time in sec\n",
              "0  3.080694  2.074751  1.919887  2.501204     1          1.0"
            ]
          },
          "metadata": {
            "tags": []
          },
          "execution_count": 82
        }
      ]
    },
    {
      "cell_type": "markdown",
      "metadata": {
        "id": "t4kMEW1kfQos",
        "colab_type": "text"
      },
      "source": [
        "EMOTIONS\n",
        "\n",
        "TRIALLL\n",
        "PRE PROCESSING AND\n",
        "MODELS"
      ]
    },
    {
      "cell_type": "code",
      "metadata": {
        "id": "tGWsvMlrv7CW",
        "colab_type": "code",
        "outputId": "4c6cc26f-a46f-44a9-ed37-dd475654494e",
        "colab": {
          "base_uri": "https://localhost:8080/",
          "height": 175
        }
      },
      "source": [
        "de.head(2)"
      ],
      "execution_count": 0,
      "outputs": [
        {
          "output_type": "execute_result",
          "data": {
            "text/html": [
              "<div>\n",
              "<style scoped>\n",
              "    .dataframe tbody tr th:only-of-type {\n",
              "        vertical-align: middle;\n",
              "    }\n",
              "\n",
              "    .dataframe tbody tr th {\n",
              "        vertical-align: top;\n",
              "    }\n",
              "\n",
              "    .dataframe thead th {\n",
              "        text-align: right;\n",
              "    }\n",
              "</style>\n",
              "<table border=\"1\" class=\"dataframe\">\n",
              "  <thead>\n",
              "    <tr style=\"text-align: right;\">\n",
              "      <th></th>\n",
              "      <th># mean_0_a</th>\n",
              "      <th>mean_1_a</th>\n",
              "      <th>mean_2_a</th>\n",
              "      <th>mean_3_a</th>\n",
              "      <th>mean_4_a</th>\n",
              "      <th>mean_d_0_a</th>\n",
              "      <th>mean_d_1_a</th>\n",
              "      <th>mean_d_2_a</th>\n",
              "      <th>mean_d_3_a</th>\n",
              "      <th>mean_d_4_a</th>\n",
              "      <th>mean_d_0_a2</th>\n",
              "      <th>mean_d_1_a2</th>\n",
              "      <th>mean_d_2_a2</th>\n",
              "      <th>mean_d_3_a2</th>\n",
              "      <th>mean_d_4_a2</th>\n",
              "      <th>mean_d_5_a</th>\n",
              "      <th>mean_d_6_a</th>\n",
              "      <th>mean_d_7_a</th>\n",
              "      <th>mean_d_8_a</th>\n",
              "      <th>mean_d_9_a</th>\n",
              "      <th>mean_d_10_a</th>\n",
              "      <th>mean_d_11_a</th>\n",
              "      <th>mean_d_12_a</th>\n",
              "      <th>mean_d_13_a</th>\n",
              "      <th>mean_d_14_a</th>\n",
              "      <th>mean_d_15_a</th>\n",
              "      <th>mean_d_16_a</th>\n",
              "      <th>mean_d_17_a</th>\n",
              "      <th>mean_d_18_a</th>\n",
              "      <th>mean_d_19_a</th>\n",
              "      <th>mean_d_20_a</th>\n",
              "      <th>mean_d_21_a</th>\n",
              "      <th>mean_d_22_a</th>\n",
              "      <th>mean_d_23_a</th>\n",
              "      <th>mean_d_24_a</th>\n",
              "      <th>mean_d_25_a</th>\n",
              "      <th>mean_d_26_a</th>\n",
              "      <th>mean_d_27_a</th>\n",
              "      <th>mean_d_28_a</th>\n",
              "      <th>mean_d_29_a</th>\n",
              "      <th>...</th>\n",
              "      <th>fft_711_b</th>\n",
              "      <th>fft_712_b</th>\n",
              "      <th>fft_713_b</th>\n",
              "      <th>fft_714_b</th>\n",
              "      <th>fft_715_b</th>\n",
              "      <th>fft_716_b</th>\n",
              "      <th>fft_717_b</th>\n",
              "      <th>fft_718_b</th>\n",
              "      <th>fft_719_b</th>\n",
              "      <th>fft_720_b</th>\n",
              "      <th>fft_721_b</th>\n",
              "      <th>fft_722_b</th>\n",
              "      <th>fft_723_b</th>\n",
              "      <th>fft_724_b</th>\n",
              "      <th>fft_725_b</th>\n",
              "      <th>fft_726_b</th>\n",
              "      <th>fft_727_b</th>\n",
              "      <th>fft_728_b</th>\n",
              "      <th>fft_729_b</th>\n",
              "      <th>fft_730_b</th>\n",
              "      <th>fft_731_b</th>\n",
              "      <th>fft_732_b</th>\n",
              "      <th>fft_733_b</th>\n",
              "      <th>fft_734_b</th>\n",
              "      <th>fft_735_b</th>\n",
              "      <th>fft_736_b</th>\n",
              "      <th>fft_737_b</th>\n",
              "      <th>fft_738_b</th>\n",
              "      <th>fft_739_b</th>\n",
              "      <th>fft_740_b</th>\n",
              "      <th>fft_741_b</th>\n",
              "      <th>fft_742_b</th>\n",
              "      <th>fft_743_b</th>\n",
              "      <th>fft_744_b</th>\n",
              "      <th>fft_745_b</th>\n",
              "      <th>fft_746_b</th>\n",
              "      <th>fft_747_b</th>\n",
              "      <th>fft_748_b</th>\n",
              "      <th>fft_749_b</th>\n",
              "      <th>label</th>\n",
              "    </tr>\n",
              "  </thead>\n",
              "  <tbody>\n",
              "    <tr>\n",
              "      <th>0</th>\n",
              "      <td>4.62</td>\n",
              "      <td>30.3</td>\n",
              "      <td>-356.0</td>\n",
              "      <td>15.6</td>\n",
              "      <td>26.3</td>\n",
              "      <td>1.07</td>\n",
              "      <td>0.411</td>\n",
              "      <td>-15.70</td>\n",
              "      <td>2.06</td>\n",
              "      <td>3.15</td>\n",
              "      <td>2.15</td>\n",
              "      <td>29.5</td>\n",
              "      <td>-353.0</td>\n",
              "      <td>14.4</td>\n",
              "      <td>21.5</td>\n",
              "      <td>5.98</td>\n",
              "      <td>30.7</td>\n",
              "      <td>-343.0</td>\n",
              "      <td>14.7</td>\n",
              "      <td>27.9</td>\n",
              "      <td>3.17</td>\n",
              "      <td>32.2</td>\n",
              "      <td>-368.0</td>\n",
              "      <td>15.9</td>\n",
              "      <td>36.4</td>\n",
              "      <td>7.08</td>\n",
              "      <td>28.8</td>\n",
              "      <td>-359.0</td>\n",
              "      <td>17.3</td>\n",
              "      <td>19.6</td>\n",
              "      <td>-3.8300</td>\n",
              "      <td>-1.23</td>\n",
              "      <td>-10.80</td>\n",
              "      <td>-0.363</td>\n",
              "      <td>-6.41</td>\n",
              "      <td>-1.03</td>\n",
              "      <td>-2.780</td>\n",
              "      <td>14.60</td>\n",
              "      <td>-1.54</td>\n",
              "      <td>-14.90</td>\n",
              "      <td>...</td>\n",
              "      <td>30.90</td>\n",
              "      <td>-24.4</td>\n",
              "      <td>-24.4</td>\n",
              "      <td>30.90</td>\n",
              "      <td>-442.0</td>\n",
              "      <td>388.0</td>\n",
              "      <td>-197.0</td>\n",
              "      <td>-197.0</td>\n",
              "      <td>388.0</td>\n",
              "      <td>-564.0</td>\n",
              "      <td>500.00</td>\n",
              "      <td>-245.0</td>\n",
              "      <td>-245.0</td>\n",
              "      <td>500.00</td>\n",
              "      <td>-88.8</td>\n",
              "      <td>214.0</td>\n",
              "      <td>-88.8</td>\n",
              "      <td>-88.8</td>\n",
              "      <td>214.0</td>\n",
              "      <td>-606.0</td>\n",
              "      <td>509.000</td>\n",
              "      <td>-261.0</td>\n",
              "      <td>-261.0</td>\n",
              "      <td>509.000</td>\n",
              "      <td>-399.0</td>\n",
              "      <td>374.0</td>\n",
              "      <td>-185.0</td>\n",
              "      <td>-185.0</td>\n",
              "      <td>374.0</td>\n",
              "      <td>74.3</td>\n",
              "      <td>23.5</td>\n",
              "      <td>20.3</td>\n",
              "      <td>20.3</td>\n",
              "      <td>23.5</td>\n",
              "      <td>-215.0</td>\n",
              "      <td>280.00</td>\n",
              "      <td>-162.0</td>\n",
              "      <td>-162.0</td>\n",
              "      <td>280.00</td>\n",
              "      <td>NEGATIVE</td>\n",
              "    </tr>\n",
              "    <tr>\n",
              "      <th>1</th>\n",
              "      <td>28.80</td>\n",
              "      <td>33.1</td>\n",
              "      <td>32.0</td>\n",
              "      <td>25.8</td>\n",
              "      <td>22.8</td>\n",
              "      <td>6.55</td>\n",
              "      <td>1.680</td>\n",
              "      <td>2.88</td>\n",
              "      <td>3.83</td>\n",
              "      <td>-4.82</td>\n",
              "      <td>25.60</td>\n",
              "      <td>32.8</td>\n",
              "      <td>29.6</td>\n",
              "      <td>21.5</td>\n",
              "      <td>17.4</td>\n",
              "      <td>25.50</td>\n",
              "      <td>31.7</td>\n",
              "      <td>31.5</td>\n",
              "      <td>26.2</td>\n",
              "      <td>32.9</td>\n",
              "      <td>31.80</td>\n",
              "      <td>33.1</td>\n",
              "      <td>33.2</td>\n",
              "      <td>28.5</td>\n",
              "      <td>26.8</td>\n",
              "      <td>32.40</td>\n",
              "      <td>34.7</td>\n",
              "      <td>33.8</td>\n",
              "      <td>27.0</td>\n",
              "      <td>14.2</td>\n",
              "      <td>0.0342</td>\n",
              "      <td>1.10</td>\n",
              "      <td>-1.87</td>\n",
              "      <td>-4.690</td>\n",
              "      <td>-15.40</td>\n",
              "      <td>-6.22</td>\n",
              "      <td>-0.328</td>\n",
              "      <td>-3.53</td>\n",
              "      <td>-6.98</td>\n",
              "      <td>-9.37</td>\n",
              "      <td>...</td>\n",
              "      <td>-5.99</td>\n",
              "      <td>-19.1</td>\n",
              "      <td>-19.1</td>\n",
              "      <td>-5.99</td>\n",
              "      <td>163.0</td>\n",
              "      <td>-11.0</td>\n",
              "      <td>-10.7</td>\n",
              "      <td>-10.7</td>\n",
              "      <td>-11.0</td>\n",
              "      <td>117.0</td>\n",
              "      <td>-3.93</td>\n",
              "      <td>17.9</td>\n",
              "      <td>17.9</td>\n",
              "      <td>-3.93</td>\n",
              "      <td>112.0</td>\n",
              "      <td>-13.9</td>\n",
              "      <td>25.5</td>\n",
              "      <td>25.5</td>\n",
              "      <td>-13.9</td>\n",
              "      <td>225.0</td>\n",
              "      <td>-0.968</td>\n",
              "      <td>-27.7</td>\n",
              "      <td>-27.7</td>\n",
              "      <td>-0.968</td>\n",
              "      <td>97.4</td>\n",
              "      <td>-19.0</td>\n",
              "      <td>40.7</td>\n",
              "      <td>40.7</td>\n",
              "      <td>-19.0</td>\n",
              "      <td>130.0</td>\n",
              "      <td>-23.3</td>\n",
              "      <td>-21.8</td>\n",
              "      <td>-21.8</td>\n",
              "      <td>-23.3</td>\n",
              "      <td>182.0</td>\n",
              "      <td>2.57</td>\n",
              "      <td>-31.6</td>\n",
              "      <td>-31.6</td>\n",
              "      <td>2.57</td>\n",
              "      <td>NEUTRAL</td>\n",
              "    </tr>\n",
              "  </tbody>\n",
              "</table>\n",
              "<p>2 rows × 2549 columns</p>\n",
              "</div>"
            ],
            "text/plain": [
              "   # mean_0_a  mean_1_a  mean_2_a  ...  fft_748_b  fft_749_b     label\n",
              "0        4.62      30.3    -356.0  ...     -162.0     280.00  NEGATIVE\n",
              "1       28.80      33.1      32.0  ...      -31.6       2.57   NEUTRAL\n",
              "\n",
              "[2 rows x 2549 columns]"
            ]
          },
          "metadata": {
            "tags": []
          },
          "execution_count": 6
        }
      ]
    },
    {
      "cell_type": "code",
      "metadata": {
        "id": "SwPzVkxJfaot",
        "colab_type": "code",
        "outputId": "6ead89e2-c277-4192-f0f7-c64b34df358b",
        "colab": {
          "base_uri": "https://localhost:8080/",
          "height": 35
        }
      },
      "source": [
        "de.shape"
      ],
      "execution_count": 0,
      "outputs": [
        {
          "output_type": "execute_result",
          "data": {
            "text/plain": [
              "(2132, 2549)"
            ]
          },
          "metadata": {
            "tags": []
          },
          "execution_count": 7
        }
      ]
    },
    {
      "cell_type": "code",
      "metadata": {
        "id": "Y3NhuqkEfjUP",
        "colab_type": "code",
        "colab": {}
      },
      "source": [
        "ydata=de['label']"
      ],
      "execution_count": 0,
      "outputs": []
    },
    {
      "cell_type": "code",
      "metadata": {
        "id": "bXD7hHl-ght0",
        "colab_type": "code",
        "outputId": "b0d77bea-cd8a-4037-d823-9e56f486a639",
        "colab": {
          "base_uri": "https://localhost:8080/",
          "height": 72
        }
      },
      "source": [
        "ydata.head(2)"
      ],
      "execution_count": 0,
      "outputs": [
        {
          "output_type": "execute_result",
          "data": {
            "text/plain": [
              "0    NEGATIVE\n",
              "1     NEUTRAL\n",
              "Name: label, dtype: object"
            ]
          },
          "metadata": {
            "tags": []
          },
          "execution_count": 9
        }
      ]
    },
    {
      "cell_type": "code",
      "metadata": {
        "id": "gMtFCZHVgjnd",
        "colab_type": "code",
        "colab": {}
      },
      "source": [
        "xdata=de.drop(['label'],axis=1)"
      ],
      "execution_count": 0,
      "outputs": []
    },
    {
      "cell_type": "code",
      "metadata": {
        "id": "T97vYhaDgtWs",
        "colab_type": "code",
        "outputId": "2f0f3882-1dbb-40b0-d2a9-a6953f20d65e",
        "colab": {
          "base_uri": "https://localhost:8080/",
          "height": 175
        }
      },
      "source": [
        "xdata.head(2)"
      ],
      "execution_count": 0,
      "outputs": [
        {
          "output_type": "execute_result",
          "data": {
            "text/html": [
              "<div>\n",
              "<style scoped>\n",
              "    .dataframe tbody tr th:only-of-type {\n",
              "        vertical-align: middle;\n",
              "    }\n",
              "\n",
              "    .dataframe tbody tr th {\n",
              "        vertical-align: top;\n",
              "    }\n",
              "\n",
              "    .dataframe thead th {\n",
              "        text-align: right;\n",
              "    }\n",
              "</style>\n",
              "<table border=\"1\" class=\"dataframe\">\n",
              "  <thead>\n",
              "    <tr style=\"text-align: right;\">\n",
              "      <th></th>\n",
              "      <th># mean_0_a</th>\n",
              "      <th>mean_1_a</th>\n",
              "      <th>mean_2_a</th>\n",
              "      <th>mean_3_a</th>\n",
              "      <th>mean_4_a</th>\n",
              "      <th>mean_d_0_a</th>\n",
              "      <th>mean_d_1_a</th>\n",
              "      <th>mean_d_2_a</th>\n",
              "      <th>mean_d_3_a</th>\n",
              "      <th>mean_d_4_a</th>\n",
              "      <th>mean_d_0_a2</th>\n",
              "      <th>mean_d_1_a2</th>\n",
              "      <th>mean_d_2_a2</th>\n",
              "      <th>mean_d_3_a2</th>\n",
              "      <th>mean_d_4_a2</th>\n",
              "      <th>mean_d_5_a</th>\n",
              "      <th>mean_d_6_a</th>\n",
              "      <th>mean_d_7_a</th>\n",
              "      <th>mean_d_8_a</th>\n",
              "      <th>mean_d_9_a</th>\n",
              "      <th>mean_d_10_a</th>\n",
              "      <th>mean_d_11_a</th>\n",
              "      <th>mean_d_12_a</th>\n",
              "      <th>mean_d_13_a</th>\n",
              "      <th>mean_d_14_a</th>\n",
              "      <th>mean_d_15_a</th>\n",
              "      <th>mean_d_16_a</th>\n",
              "      <th>mean_d_17_a</th>\n",
              "      <th>mean_d_18_a</th>\n",
              "      <th>mean_d_19_a</th>\n",
              "      <th>mean_d_20_a</th>\n",
              "      <th>mean_d_21_a</th>\n",
              "      <th>mean_d_22_a</th>\n",
              "      <th>mean_d_23_a</th>\n",
              "      <th>mean_d_24_a</th>\n",
              "      <th>mean_d_25_a</th>\n",
              "      <th>mean_d_26_a</th>\n",
              "      <th>mean_d_27_a</th>\n",
              "      <th>mean_d_28_a</th>\n",
              "      <th>mean_d_29_a</th>\n",
              "      <th>...</th>\n",
              "      <th>fft_710_b</th>\n",
              "      <th>fft_711_b</th>\n",
              "      <th>fft_712_b</th>\n",
              "      <th>fft_713_b</th>\n",
              "      <th>fft_714_b</th>\n",
              "      <th>fft_715_b</th>\n",
              "      <th>fft_716_b</th>\n",
              "      <th>fft_717_b</th>\n",
              "      <th>fft_718_b</th>\n",
              "      <th>fft_719_b</th>\n",
              "      <th>fft_720_b</th>\n",
              "      <th>fft_721_b</th>\n",
              "      <th>fft_722_b</th>\n",
              "      <th>fft_723_b</th>\n",
              "      <th>fft_724_b</th>\n",
              "      <th>fft_725_b</th>\n",
              "      <th>fft_726_b</th>\n",
              "      <th>fft_727_b</th>\n",
              "      <th>fft_728_b</th>\n",
              "      <th>fft_729_b</th>\n",
              "      <th>fft_730_b</th>\n",
              "      <th>fft_731_b</th>\n",
              "      <th>fft_732_b</th>\n",
              "      <th>fft_733_b</th>\n",
              "      <th>fft_734_b</th>\n",
              "      <th>fft_735_b</th>\n",
              "      <th>fft_736_b</th>\n",
              "      <th>fft_737_b</th>\n",
              "      <th>fft_738_b</th>\n",
              "      <th>fft_739_b</th>\n",
              "      <th>fft_740_b</th>\n",
              "      <th>fft_741_b</th>\n",
              "      <th>fft_742_b</th>\n",
              "      <th>fft_743_b</th>\n",
              "      <th>fft_744_b</th>\n",
              "      <th>fft_745_b</th>\n",
              "      <th>fft_746_b</th>\n",
              "      <th>fft_747_b</th>\n",
              "      <th>fft_748_b</th>\n",
              "      <th>fft_749_b</th>\n",
              "    </tr>\n",
              "  </thead>\n",
              "  <tbody>\n",
              "    <tr>\n",
              "      <th>0</th>\n",
              "      <td>4.62</td>\n",
              "      <td>30.3</td>\n",
              "      <td>-356.0</td>\n",
              "      <td>15.6</td>\n",
              "      <td>26.3</td>\n",
              "      <td>1.07</td>\n",
              "      <td>0.411</td>\n",
              "      <td>-15.70</td>\n",
              "      <td>2.06</td>\n",
              "      <td>3.15</td>\n",
              "      <td>2.15</td>\n",
              "      <td>29.5</td>\n",
              "      <td>-353.0</td>\n",
              "      <td>14.4</td>\n",
              "      <td>21.5</td>\n",
              "      <td>5.98</td>\n",
              "      <td>30.7</td>\n",
              "      <td>-343.0</td>\n",
              "      <td>14.7</td>\n",
              "      <td>27.9</td>\n",
              "      <td>3.17</td>\n",
              "      <td>32.2</td>\n",
              "      <td>-368.0</td>\n",
              "      <td>15.9</td>\n",
              "      <td>36.4</td>\n",
              "      <td>7.08</td>\n",
              "      <td>28.8</td>\n",
              "      <td>-359.0</td>\n",
              "      <td>17.3</td>\n",
              "      <td>19.6</td>\n",
              "      <td>-3.8300</td>\n",
              "      <td>-1.23</td>\n",
              "      <td>-10.80</td>\n",
              "      <td>-0.363</td>\n",
              "      <td>-6.41</td>\n",
              "      <td>-1.03</td>\n",
              "      <td>-2.780</td>\n",
              "      <td>14.60</td>\n",
              "      <td>-1.54</td>\n",
              "      <td>-14.90</td>\n",
              "      <td>...</td>\n",
              "      <td>247.0</td>\n",
              "      <td>30.90</td>\n",
              "      <td>-24.4</td>\n",
              "      <td>-24.4</td>\n",
              "      <td>30.90</td>\n",
              "      <td>-442.0</td>\n",
              "      <td>388.0</td>\n",
              "      <td>-197.0</td>\n",
              "      <td>-197.0</td>\n",
              "      <td>388.0</td>\n",
              "      <td>-564.0</td>\n",
              "      <td>500.00</td>\n",
              "      <td>-245.0</td>\n",
              "      <td>-245.0</td>\n",
              "      <td>500.00</td>\n",
              "      <td>-88.8</td>\n",
              "      <td>214.0</td>\n",
              "      <td>-88.8</td>\n",
              "      <td>-88.8</td>\n",
              "      <td>214.0</td>\n",
              "      <td>-606.0</td>\n",
              "      <td>509.000</td>\n",
              "      <td>-261.0</td>\n",
              "      <td>-261.0</td>\n",
              "      <td>509.000</td>\n",
              "      <td>-399.0</td>\n",
              "      <td>374.0</td>\n",
              "      <td>-185.0</td>\n",
              "      <td>-185.0</td>\n",
              "      <td>374.0</td>\n",
              "      <td>74.3</td>\n",
              "      <td>23.5</td>\n",
              "      <td>20.3</td>\n",
              "      <td>20.3</td>\n",
              "      <td>23.5</td>\n",
              "      <td>-215.0</td>\n",
              "      <td>280.00</td>\n",
              "      <td>-162.0</td>\n",
              "      <td>-162.0</td>\n",
              "      <td>280.00</td>\n",
              "    </tr>\n",
              "    <tr>\n",
              "      <th>1</th>\n",
              "      <td>28.80</td>\n",
              "      <td>33.1</td>\n",
              "      <td>32.0</td>\n",
              "      <td>25.8</td>\n",
              "      <td>22.8</td>\n",
              "      <td>6.55</td>\n",
              "      <td>1.680</td>\n",
              "      <td>2.88</td>\n",
              "      <td>3.83</td>\n",
              "      <td>-4.82</td>\n",
              "      <td>25.60</td>\n",
              "      <td>32.8</td>\n",
              "      <td>29.6</td>\n",
              "      <td>21.5</td>\n",
              "      <td>17.4</td>\n",
              "      <td>25.50</td>\n",
              "      <td>31.7</td>\n",
              "      <td>31.5</td>\n",
              "      <td>26.2</td>\n",
              "      <td>32.9</td>\n",
              "      <td>31.80</td>\n",
              "      <td>33.1</td>\n",
              "      <td>33.2</td>\n",
              "      <td>28.5</td>\n",
              "      <td>26.8</td>\n",
              "      <td>32.40</td>\n",
              "      <td>34.7</td>\n",
              "      <td>33.8</td>\n",
              "      <td>27.0</td>\n",
              "      <td>14.2</td>\n",
              "      <td>0.0342</td>\n",
              "      <td>1.10</td>\n",
              "      <td>-1.87</td>\n",
              "      <td>-4.690</td>\n",
              "      <td>-15.40</td>\n",
              "      <td>-6.22</td>\n",
              "      <td>-0.328</td>\n",
              "      <td>-3.53</td>\n",
              "      <td>-6.98</td>\n",
              "      <td>-9.37</td>\n",
              "      <td>...</td>\n",
              "      <td>151.0</td>\n",
              "      <td>-5.99</td>\n",
              "      <td>-19.1</td>\n",
              "      <td>-19.1</td>\n",
              "      <td>-5.99</td>\n",
              "      <td>163.0</td>\n",
              "      <td>-11.0</td>\n",
              "      <td>-10.7</td>\n",
              "      <td>-10.7</td>\n",
              "      <td>-11.0</td>\n",
              "      <td>117.0</td>\n",
              "      <td>-3.93</td>\n",
              "      <td>17.9</td>\n",
              "      <td>17.9</td>\n",
              "      <td>-3.93</td>\n",
              "      <td>112.0</td>\n",
              "      <td>-13.9</td>\n",
              "      <td>25.5</td>\n",
              "      <td>25.5</td>\n",
              "      <td>-13.9</td>\n",
              "      <td>225.0</td>\n",
              "      <td>-0.968</td>\n",
              "      <td>-27.7</td>\n",
              "      <td>-27.7</td>\n",
              "      <td>-0.968</td>\n",
              "      <td>97.4</td>\n",
              "      <td>-19.0</td>\n",
              "      <td>40.7</td>\n",
              "      <td>40.7</td>\n",
              "      <td>-19.0</td>\n",
              "      <td>130.0</td>\n",
              "      <td>-23.3</td>\n",
              "      <td>-21.8</td>\n",
              "      <td>-21.8</td>\n",
              "      <td>-23.3</td>\n",
              "      <td>182.0</td>\n",
              "      <td>2.57</td>\n",
              "      <td>-31.6</td>\n",
              "      <td>-31.6</td>\n",
              "      <td>2.57</td>\n",
              "    </tr>\n",
              "  </tbody>\n",
              "</table>\n",
              "<p>2 rows × 2548 columns</p>\n",
              "</div>"
            ],
            "text/plain": [
              "   # mean_0_a  mean_1_a  mean_2_a  ...  fft_747_b  fft_748_b  fft_749_b\n",
              "0        4.62      30.3    -356.0  ...     -162.0     -162.0     280.00\n",
              "1       28.80      33.1      32.0  ...      -31.6      -31.6       2.57\n",
              "\n",
              "[2 rows x 2548 columns]"
            ]
          },
          "metadata": {
            "tags": []
          },
          "execution_count": 11
        }
      ]
    },
    {
      "cell_type": "code",
      "metadata": {
        "id": "6LIo41p1g9YB",
        "colab_type": "code",
        "outputId": "a6502fa4-0d8b-48a6-9355-ddfeca2ffdf9",
        "colab": {
          "base_uri": "https://localhost:8080/",
          "height": 54
        }
      },
      "source": [
        "print(xdata.shape)\n",
        "print(ydata.shape)"
      ],
      "execution_count": 0,
      "outputs": [
        {
          "output_type": "stream",
          "text": [
            "(2132, 2548)\n",
            "(2132,)\n"
          ],
          "name": "stdout"
        }
      ]
    },
    {
      "cell_type": "code",
      "metadata": {
        "id": "nxVyNM3yguoI",
        "colab_type": "code",
        "colab": {}
      },
      "source": [
        "xtrain=xdata[0:1500]\n",
        "ytrain=ydata[0:1500]\n",
        "xtest=xdata[1501:]\n",
        "ytest=ydata[1501:]\n"
      ],
      "execution_count": 0,
      "outputs": []
    },
    {
      "cell_type": "code",
      "metadata": {
        "id": "poYth-gdhNpl",
        "colab_type": "code",
        "outputId": "94dfd3fd-0e9e-4050-9157-0b6dad5a3c15",
        "colab": {
          "base_uri": "https://localhost:8080/",
          "height": 90
        }
      },
      "source": [
        "print(xtrain.shape)\n",
        "print(ytrain.shape)\n",
        "print(xtest.shape)\n",
        "print(ytest.shape)"
      ],
      "execution_count": 0,
      "outputs": [
        {
          "output_type": "stream",
          "text": [
            "(1500, 2548)\n",
            "(1500,)\n",
            "(631, 2548)\n",
            "(631,)\n"
          ],
          "name": "stdout"
        }
      ]
    },
    {
      "cell_type": "code",
      "metadata": {
        "id": "eG8pEGaHhVDD",
        "colab_type": "code",
        "colab": {}
      },
      "source": [
        "from sklearn.ensemble import RandomForestClassifier\n",
        "from sklearn.datasets import make_classification\n",
        "from sklearn.metrics import confusion_matrix\n",
        "from sklearn.metrics import accuracy_score"
      ],
      "execution_count": 0,
      "outputs": []
    },
    {
      "cell_type": "code",
      "metadata": {
        "id": "0X0NcRU7cq8w",
        "colab_type": "code",
        "colab": {}
      },
      "source": [
        "clf = RandomForestClassifier(n_estimators=250, max_depth=60,random_state=1)\n",
        "clf.fit(xtrain, ytrain)\n",
        "xdata1=clf.predict(xtest)\n",
        "xdata2=clf.predict(xtrain)\n",
        "p,r=confusion_matrix(xdata1,ytest)\n",
        "p1,r1=confusion_matrix(xdata2,ytrain)\n",
        "tp,fp=p\n",
        "fn,tn=r\n",
        "\n",
        "tp1,fp1=p1\n",
        "fn1,tn1=r1\n",
        "print(p,'\\n',r,'\\n')\n",
        "print(p1,'\\n',r1,'\\n')\n",
        "print('accuracytrain:',(tp+tn)/(tp+fp+fn+tn))\n",
        "print('accuracytest:',(tp1+tn1)/(tp1+fp1+fn1+tn1))\n"
      ],
      "execution_count": 0,
      "outputs": []
    },
    {
      "cell_type": "code",
      "metadata": {
        "id": "HmbBDx0Xhyew",
        "colab_type": "code",
        "colab": {}
      },
      "source": [
        "clf = RandomForestClassifier(n_estimators=250, max_depth=60,random_state=1)\n"
      ],
      "execution_count": 0,
      "outputs": []
    },
    {
      "cell_type": "code",
      "metadata": {
        "id": "9z89gB2RcnZU",
        "colab_type": "code",
        "colab": {}
      },
      "source": [
        "clf.fit(xtrain, ytrain)\n",
        "xdata1=clf.predict(xtest)\n",
        "xdata2=clf.predict(xtrain)\n"
      ],
      "execution_count": 0,
      "outputs": []
    },
    {
      "cell_type": "code",
      "metadata": {
        "id": "e7YXGhQbiG91",
        "colab_type": "code",
        "colab": {}
      },
      "source": [
        "a1,a2,a3=confusion_matrix(xdata1,ytest)"
      ],
      "execution_count": 0,
      "outputs": []
    },
    {
      "cell_type": "code",
      "metadata": {
        "id": "4gKPAkqxc-WN",
        "colab_type": "code",
        "colab": {}
      },
      "source": [
        "b1,b2,b3=confusion_matrix(xdata2,ytrain)\n"
      ],
      "execution_count": 0,
      "outputs": []
    },
    {
      "cell_type": "code",
      "metadata": {
        "id": "AFmR_JBwdke4",
        "colab_type": "code",
        "colab": {}
      },
      "source": [
        "a11,a12,a13=a1\n",
        "a21,a22,a23=a2\n",
        "a31,a32,a33=a3"
      ],
      "execution_count": 0,
      "outputs": []
    },
    {
      "cell_type": "code",
      "metadata": {
        "id": "q_gpjyuodkQb",
        "colab_type": "code",
        "colab": {}
      },
      "source": [
        "b11,b12,b13=b1\n",
        "b21,b22,b23=b2\n",
        "b31,b32,b33=b3"
      ],
      "execution_count": 0,
      "outputs": []
    },
    {
      "cell_type": "code",
      "metadata": {
        "id": "Fbx2dlmidkE3",
        "colab_type": "code",
        "colab": {}
      },
      "source": [
        ""
      ],
      "execution_count": 0,
      "outputs": []
    },
    {
      "cell_type": "code",
      "metadata": {
        "id": "6xowV1YdicHr",
        "colab_type": "code",
        "outputId": "417500c8-d84e-4bd9-cfde-2b221e60af02",
        "colab": {
          "base_uri": "https://localhost:8080/",
          "height": 199
        }
      },
      "source": [
        "\n",
        "print(a1,'\\n',a2,'\\n',a3,'\\n')\n",
        "print(b1,'\\n',b2,'\\n',b3,'\\n')\n",
        "print('accuracytest:',(a11+a22+a33)/(a11+a12+a13+a21+a22+a23+a31+a32+a33))\n",
        "print('accuracytrain:',(b11+b22+b33)/(b11+b12+b13+b21+b22+b23+b31+b32+b33))"
      ],
      "execution_count": 0,
      "outputs": [
        {
          "output_type": "stream",
          "text": [
            "[222   0   5] \n",
            " [  0 195   5] \n",
            " [  2   3 199] \n",
            "\n",
            "[484   0   0] \n",
            " [  0 517   0] \n",
            " [  0   0 499] \n",
            "\n",
            "accuracytest: 0.9762282091917591\n",
            "accuracytrain: 1.0\n"
          ],
          "name": "stdout"
        }
      ]
    },
    {
      "cell_type": "code",
      "metadata": {
        "id": "M4vy_MOGe45q",
        "colab_type": "code",
        "colab": {}
      },
      "source": [
        "clf = RandomForestClassifier(n_estimators=250, max_depth=60,random_state=1)\n",
        "clf.fit(xtrain, ytrain)\n",
        "xdata1=clf.predict(xtest)\n",
        "xdata2=clf.predict(xtrain)\n",
        "p,r=confusion_matrix(xdata1,ytest)\n",
        "p1,r1=confusion_matrix(xdata2,ytrain)\n",
        "tp,fp=p\n",
        "fn,tn=r\n",
        "\n",
        "tp1,fp1=p1\n",
        "fn1,tn1=r1\n",
        "print(p,'\\n',r,'\\n')\n",
        "print(p1,'\\n',r1,'\\n')\n",
        "print('accuracytrain:',(tp+tn)/(tp+fp+fn+tn))\n",
        "print('accuracytest:',(tp1+tn1)/(tp1+fp1+fn1+tn1))\n"
      ],
      "execution_count": 0,
      "outputs": []
    }
  ]
}